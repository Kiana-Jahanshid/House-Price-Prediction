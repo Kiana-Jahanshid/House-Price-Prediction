{
  "nbformat": 4,
  "nbformat_minor": 0,
  "metadata": {
    "colab": {
      "provenance": []
    },
    "kernelspec": {
      "name": "python3",
      "display_name": "Python 3"
    },
    "language_info": {
      "name": "python"
    }
  },
  "cells": [
    {
      "cell_type": "code",
      "source": [
        "!pip install -q wandb"
      ],
      "metadata": {
        "colab": {
          "base_uri": "https://localhost:8080/"
        },
        "id": "FxOR0l3sAQxm",
        "outputId": "63ee4eda-fa47-4dda-988d-3133a12a4268"
      },
      "execution_count": 1,
      "outputs": [
        {
          "output_type": "stream",
          "name": "stdout",
          "text": [
            "\u001b[2K     \u001b[90m━━━━━━━━━━━━━━━━━━━━━━━━━━━━━━━━━━━━━━━━\u001b[0m \u001b[32m2.1/2.1 MB\u001b[0m \u001b[31m20.5 MB/s\u001b[0m eta \u001b[36m0:00:00\u001b[0m\n",
            "\u001b[2K     \u001b[90m━━━━━━━━━━━━━━━━━━━━━━━━━━━━━━━━━━━━━━━━\u001b[0m \u001b[32m190.6/190.6 kB\u001b[0m \u001b[31m19.4 MB/s\u001b[0m eta \u001b[36m0:00:00\u001b[0m\n",
            "\u001b[2K     \u001b[90m━━━━━━━━━━━━━━━━━━━━━━━━━━━━━━━━━━━━━━━━\u001b[0m \u001b[32m243.9/243.9 kB\u001b[0m \u001b[31m21.6 MB/s\u001b[0m eta \u001b[36m0:00:00\u001b[0m\n",
            "\u001b[2K     \u001b[90m━━━━━━━━━━━━━━━━━━━━━━━━━━━━━━━━━━━━━━━━\u001b[0m \u001b[32m62.7/62.7 kB\u001b[0m \u001b[31m6.6 MB/s\u001b[0m eta \u001b[36m0:00:00\u001b[0m\n",
            "\u001b[?25h"
          ]
        }
      ]
    },
    {
      "cell_type": "code",
      "source": [
        "import os\n",
        "import pandas as pd\n",
        "import numpy as np\n",
        "import matplotlib.pyplot as plt\n",
        "import cv2\n",
        "import tensorflow as tf\n",
        "import wandb\n",
        "import glob"
      ],
      "metadata": {
        "id": "pBjvAXXDCIdT"
      },
      "execution_count": 2,
      "outputs": []
    },
    {
      "cell_type": "markdown",
      "source": [
        "## Montage / tile the each 4 images for each house"
      ],
      "metadata": {
        "id": "4JQrSp3gCMqd"
      }
    },
    {
      "cell_type": "code",
      "source": [
        "!git clone https://github.com/emanhamed/Houses-dataset"
      ],
      "metadata": {
        "colab": {
          "base_uri": "https://localhost:8080/"
        },
        "id": "PikbrdkLJsAw",
        "outputId": "93964cf4-c41d-48ae-d95a-d554dd8bf3c2"
      },
      "execution_count": 3,
      "outputs": [
        {
          "output_type": "stream",
          "name": "stdout",
          "text": [
            "Cloning into 'Houses-dataset'...\n",
            "remote: Enumerating objects: 2166, done.\u001b[K\n",
            "remote: Counting objects: 100% (1/1), done.\u001b[K\n",
            "remote: Total 2166 (delta 0), reused 0 (delta 0), pack-reused 2165\u001b[K\n",
            "Receiving objects: 100% (2166/2166), 176.26 MiB | 41.27 MiB/s, done.\n",
            "Resolving deltas: 100% (20/20), done.\n"
          ]
        }
      ]
    },
    {
      "cell_type": "code",
      "source": [
        "inputpath = \"/content/Houses-dataset/Houses Dataset\""
      ],
      "metadata": {
        "id": "X4BZ7DVMJfYY"
      },
      "execution_count": 4,
      "outputs": []
    },
    {
      "cell_type": "markdown",
      "source": [
        "## there is a Housesinfo.txt file(csv without comma) in 'Houses Dataset' folder that should be remove"
      ],
      "metadata": {
        "id": "SN0fWXS_aVXt"
      }
    },
    {
      "cell_type": "code",
      "source": [
        "new_inputpath = \"/content/drive/MyDrive/Houses Dataset\"\n",
        "images_list = []\n",
        "for image in os.listdir(new_inputpath):\n",
        "  img = cv2.imread(\"/content/drive/MyDrive/Houses Dataset/\" + image)\n",
        "  img = cv2.cvtColor(img , cv2.COLOR_BGR2RGB)\n",
        "  images_list.append(img)"
      ],
      "metadata": {
        "id": "b3Vovy4pCISQ"
      },
      "execution_count": 5,
      "outputs": []
    },
    {
      "cell_type": "code",
      "source": [
        "df_images = pd.Series(images_list, name=\"Images\")\n",
        "df_images"
      ],
      "metadata": {
        "colab": {
          "base_uri": "https://localhost:8080/"
        },
        "id": "-kuFrSZfofS-",
        "outputId": "2b7f4388-b2b7-451b-c035-0bb4547a9a8c"
      },
      "execution_count": 6,
      "outputs": [
        {
          "output_type": "execute_result",
          "data": {
            "text/plain": [
              "0       [[[68, 66, 51], [70, 68, 53], [70, 68, 53], [6...\n",
              "1       [[[72, 52, 27], [72, 52, 27], [72, 52, 27], [7...\n",
              "2       [[[43, 93, 166], [44, 94, 167], [45, 95, 168],...\n",
              "3       [[[111, 113, 125], [110, 112, 124], [110, 112,...\n",
              "4       [[[132, 165, 242], [96, 129, 206], [103, 136, ...\n",
              "                              ...                        \n",
              "2135    [[[33, 89, 184], [36, 92, 187], [35, 91, 186],...\n",
              "2136    [[[254, 254, 254], [254, 254, 254], [254, 254,...\n",
              "2137    [[[184, 151, 110], [147, 114, 73], [155, 120, ...\n",
              "2138    [[[195, 163, 124], [195, 163, 124], [195, 163,...\n",
              "2139    [[[214, 160, 98], [214, 160, 98], [214, 160, 9...\n",
              "Name: Images, Length: 2140, dtype: object"
            ]
          },
          "metadata": {},
          "execution_count": 6
        }
      ]
    },
    {
      "cell_type": "markdown",
      "source": [
        "# convert txt file to csv :\n",
        "\n"
      ],
      "metadata": {
        "id": "dgCK2yQClaHJ"
      }
    },
    {
      "cell_type": "markdown",
      "source": [
        "convert space-delimiter in text file , into comma in csv file:"
      ],
      "metadata": {
        "id": "fjqcSsi97yJh"
      }
    },
    {
      "cell_type": "code",
      "source": [
        "with open('/content/HousesInfo.txt') as infile:\n",
        "    data = infile.read().replace(' ', ',')\n",
        "    print(data, file=open('house_price_info.csv', 'w'))"
      ],
      "metadata": {
        "id": "u1lKifqn7aQO"
      },
      "execution_count": null,
      "outputs": []
    },
    {
      "cell_type": "code",
      "source": [
        "df_info = pd.read_csv('/content/house_price_info.csv')\n",
        "df_info"
      ],
      "metadata": {
        "colab": {
          "base_uri": "https://localhost:8080/",
          "height": 423
        },
        "id": "BxDlF-4Slr1t",
        "outputId": "35b0b924-6303-4337-9e19-e0b2b9e66914"
      },
      "execution_count": 9,
      "outputs": [
        {
          "output_type": "execute_result",
          "data": {
            "text/plain": [
              "     Bedrooms  bathrooms  Area  Zipcode   Price\n",
              "0           4        4.0  4053    85255  869500\n",
              "1           4        3.0  3343    36372  865200\n",
              "2           3        4.0  3923    85266  889000\n",
              "3           5        5.0  4022    85262  910000\n",
              "4           3        4.0  4116    85266  971226\n",
              "..        ...        ...   ...      ...     ...\n",
              "530         5        2.0  2066    94531  399900\n",
              "531         4        3.5  9536    94531  460000\n",
              "532         3        2.0  2014    94531  407000\n",
              "533         4        3.0  2312    94531  419000\n",
              "534         5        3.0  3796    94531  615000\n",
              "\n",
              "[535 rows x 5 columns]"
            ],
            "text/html": [
              "\n",
              "  <div id=\"df-62ad5760-be4b-42e0-8f4c-53aafde64f6d\" class=\"colab-df-container\">\n",
              "    <div>\n",
              "<style scoped>\n",
              "    .dataframe tbody tr th:only-of-type {\n",
              "        vertical-align: middle;\n",
              "    }\n",
              "\n",
              "    .dataframe tbody tr th {\n",
              "        vertical-align: top;\n",
              "    }\n",
              "\n",
              "    .dataframe thead th {\n",
              "        text-align: right;\n",
              "    }\n",
              "</style>\n",
              "<table border=\"1\" class=\"dataframe\">\n",
              "  <thead>\n",
              "    <tr style=\"text-align: right;\">\n",
              "      <th></th>\n",
              "      <th>Bedrooms</th>\n",
              "      <th>bathrooms</th>\n",
              "      <th>Area</th>\n",
              "      <th>Zipcode</th>\n",
              "      <th>Price</th>\n",
              "    </tr>\n",
              "  </thead>\n",
              "  <tbody>\n",
              "    <tr>\n",
              "      <th>0</th>\n",
              "      <td>4</td>\n",
              "      <td>4.0</td>\n",
              "      <td>4053</td>\n",
              "      <td>85255</td>\n",
              "      <td>869500</td>\n",
              "    </tr>\n",
              "    <tr>\n",
              "      <th>1</th>\n",
              "      <td>4</td>\n",
              "      <td>3.0</td>\n",
              "      <td>3343</td>\n",
              "      <td>36372</td>\n",
              "      <td>865200</td>\n",
              "    </tr>\n",
              "    <tr>\n",
              "      <th>2</th>\n",
              "      <td>3</td>\n",
              "      <td>4.0</td>\n",
              "      <td>3923</td>\n",
              "      <td>85266</td>\n",
              "      <td>889000</td>\n",
              "    </tr>\n",
              "    <tr>\n",
              "      <th>3</th>\n",
              "      <td>5</td>\n",
              "      <td>5.0</td>\n",
              "      <td>4022</td>\n",
              "      <td>85262</td>\n",
              "      <td>910000</td>\n",
              "    </tr>\n",
              "    <tr>\n",
              "      <th>4</th>\n",
              "      <td>3</td>\n",
              "      <td>4.0</td>\n",
              "      <td>4116</td>\n",
              "      <td>85266</td>\n",
              "      <td>971226</td>\n",
              "    </tr>\n",
              "    <tr>\n",
              "      <th>...</th>\n",
              "      <td>...</td>\n",
              "      <td>...</td>\n",
              "      <td>...</td>\n",
              "      <td>...</td>\n",
              "      <td>...</td>\n",
              "    </tr>\n",
              "    <tr>\n",
              "      <th>530</th>\n",
              "      <td>5</td>\n",
              "      <td>2.0</td>\n",
              "      <td>2066</td>\n",
              "      <td>94531</td>\n",
              "      <td>399900</td>\n",
              "    </tr>\n",
              "    <tr>\n",
              "      <th>531</th>\n",
              "      <td>4</td>\n",
              "      <td>3.5</td>\n",
              "      <td>9536</td>\n",
              "      <td>94531</td>\n",
              "      <td>460000</td>\n",
              "    </tr>\n",
              "    <tr>\n",
              "      <th>532</th>\n",
              "      <td>3</td>\n",
              "      <td>2.0</td>\n",
              "      <td>2014</td>\n",
              "      <td>94531</td>\n",
              "      <td>407000</td>\n",
              "    </tr>\n",
              "    <tr>\n",
              "      <th>533</th>\n",
              "      <td>4</td>\n",
              "      <td>3.0</td>\n",
              "      <td>2312</td>\n",
              "      <td>94531</td>\n",
              "      <td>419000</td>\n",
              "    </tr>\n",
              "    <tr>\n",
              "      <th>534</th>\n",
              "      <td>5</td>\n",
              "      <td>3.0</td>\n",
              "      <td>3796</td>\n",
              "      <td>94531</td>\n",
              "      <td>615000</td>\n",
              "    </tr>\n",
              "  </tbody>\n",
              "</table>\n",
              "<p>535 rows × 5 columns</p>\n",
              "</div>\n",
              "    <div class=\"colab-df-buttons\">\n",
              "\n",
              "  <div class=\"colab-df-container\">\n",
              "    <button class=\"colab-df-convert\" onclick=\"convertToInteractive('df-62ad5760-be4b-42e0-8f4c-53aafde64f6d')\"\n",
              "            title=\"Convert this dataframe to an interactive table.\"\n",
              "            style=\"display:none;\">\n",
              "\n",
              "  <svg xmlns=\"http://www.w3.org/2000/svg\" height=\"24px\" viewBox=\"0 -960 960 960\">\n",
              "    <path d=\"M120-120v-720h720v720H120Zm60-500h600v-160H180v160Zm220 220h160v-160H400v160Zm0 220h160v-160H400v160ZM180-400h160v-160H180v160Zm440 0h160v-160H620v160ZM180-180h160v-160H180v160Zm440 0h160v-160H620v160Z\"/>\n",
              "  </svg>\n",
              "    </button>\n",
              "\n",
              "  <style>\n",
              "    .colab-df-container {\n",
              "      display:flex;\n",
              "      gap: 12px;\n",
              "    }\n",
              "\n",
              "    .colab-df-convert {\n",
              "      background-color: #E8F0FE;\n",
              "      border: none;\n",
              "      border-radius: 50%;\n",
              "      cursor: pointer;\n",
              "      display: none;\n",
              "      fill: #1967D2;\n",
              "      height: 32px;\n",
              "      padding: 0 0 0 0;\n",
              "      width: 32px;\n",
              "    }\n",
              "\n",
              "    .colab-df-convert:hover {\n",
              "      background-color: #E2EBFA;\n",
              "      box-shadow: 0px 1px 2px rgba(60, 64, 67, 0.3), 0px 1px 3px 1px rgba(60, 64, 67, 0.15);\n",
              "      fill: #174EA6;\n",
              "    }\n",
              "\n",
              "    .colab-df-buttons div {\n",
              "      margin-bottom: 4px;\n",
              "    }\n",
              "\n",
              "    [theme=dark] .colab-df-convert {\n",
              "      background-color: #3B4455;\n",
              "      fill: #D2E3FC;\n",
              "    }\n",
              "\n",
              "    [theme=dark] .colab-df-convert:hover {\n",
              "      background-color: #434B5C;\n",
              "      box-shadow: 0px 1px 3px 1px rgba(0, 0, 0, 0.15);\n",
              "      filter: drop-shadow(0px 1px 2px rgba(0, 0, 0, 0.3));\n",
              "      fill: #FFFFFF;\n",
              "    }\n",
              "  </style>\n",
              "\n",
              "    <script>\n",
              "      const buttonEl =\n",
              "        document.querySelector('#df-62ad5760-be4b-42e0-8f4c-53aafde64f6d button.colab-df-convert');\n",
              "      buttonEl.style.display =\n",
              "        google.colab.kernel.accessAllowed ? 'block' : 'none';\n",
              "\n",
              "      async function convertToInteractive(key) {\n",
              "        const element = document.querySelector('#df-62ad5760-be4b-42e0-8f4c-53aafde64f6d');\n",
              "        const dataTable =\n",
              "          await google.colab.kernel.invokeFunction('convertToInteractive',\n",
              "                                                    [key], {});\n",
              "        if (!dataTable) return;\n",
              "\n",
              "        const docLinkHtml = 'Like what you see? Visit the ' +\n",
              "          '<a target=\"_blank\" href=https://colab.research.google.com/notebooks/data_table.ipynb>data table notebook</a>'\n",
              "          + ' to learn more about interactive tables.';\n",
              "        element.innerHTML = '';\n",
              "        dataTable['output_type'] = 'display_data';\n",
              "        await google.colab.output.renderOutput(dataTable, element);\n",
              "        const docLink = document.createElement('div');\n",
              "        docLink.innerHTML = docLinkHtml;\n",
              "        element.appendChild(docLink);\n",
              "      }\n",
              "    </script>\n",
              "  </div>\n",
              "\n",
              "\n",
              "<div id=\"df-77923456-3acb-4bb3-976c-fce91c128a13\">\n",
              "  <button class=\"colab-df-quickchart\" onclick=\"quickchart('df-77923456-3acb-4bb3-976c-fce91c128a13')\"\n",
              "            title=\"Suggest charts\"\n",
              "            style=\"display:none;\">\n",
              "\n",
              "<svg xmlns=\"http://www.w3.org/2000/svg\" height=\"24px\"viewBox=\"0 0 24 24\"\n",
              "     width=\"24px\">\n",
              "    <g>\n",
              "        <path d=\"M19 3H5c-1.1 0-2 .9-2 2v14c0 1.1.9 2 2 2h14c1.1 0 2-.9 2-2V5c0-1.1-.9-2-2-2zM9 17H7v-7h2v7zm4 0h-2V7h2v10zm4 0h-2v-4h2v4z\"/>\n",
              "    </g>\n",
              "</svg>\n",
              "  </button>\n",
              "\n",
              "<style>\n",
              "  .colab-df-quickchart {\n",
              "      --bg-color: #E8F0FE;\n",
              "      --fill-color: #1967D2;\n",
              "      --hover-bg-color: #E2EBFA;\n",
              "      --hover-fill-color: #174EA6;\n",
              "      --disabled-fill-color: #AAA;\n",
              "      --disabled-bg-color: #DDD;\n",
              "  }\n",
              "\n",
              "  [theme=dark] .colab-df-quickchart {\n",
              "      --bg-color: #3B4455;\n",
              "      --fill-color: #D2E3FC;\n",
              "      --hover-bg-color: #434B5C;\n",
              "      --hover-fill-color: #FFFFFF;\n",
              "      --disabled-bg-color: #3B4455;\n",
              "      --disabled-fill-color: #666;\n",
              "  }\n",
              "\n",
              "  .colab-df-quickchart {\n",
              "    background-color: var(--bg-color);\n",
              "    border: none;\n",
              "    border-radius: 50%;\n",
              "    cursor: pointer;\n",
              "    display: none;\n",
              "    fill: var(--fill-color);\n",
              "    height: 32px;\n",
              "    padding: 0;\n",
              "    width: 32px;\n",
              "  }\n",
              "\n",
              "  .colab-df-quickchart:hover {\n",
              "    background-color: var(--hover-bg-color);\n",
              "    box-shadow: 0 1px 2px rgba(60, 64, 67, 0.3), 0 1px 3px 1px rgba(60, 64, 67, 0.15);\n",
              "    fill: var(--button-hover-fill-color);\n",
              "  }\n",
              "\n",
              "  .colab-df-quickchart-complete:disabled,\n",
              "  .colab-df-quickchart-complete:disabled:hover {\n",
              "    background-color: var(--disabled-bg-color);\n",
              "    fill: var(--disabled-fill-color);\n",
              "    box-shadow: none;\n",
              "  }\n",
              "\n",
              "  .colab-df-spinner {\n",
              "    border: 2px solid var(--fill-color);\n",
              "    border-color: transparent;\n",
              "    border-bottom-color: var(--fill-color);\n",
              "    animation:\n",
              "      spin 1s steps(1) infinite;\n",
              "  }\n",
              "\n",
              "  @keyframes spin {\n",
              "    0% {\n",
              "      border-color: transparent;\n",
              "      border-bottom-color: var(--fill-color);\n",
              "      border-left-color: var(--fill-color);\n",
              "    }\n",
              "    20% {\n",
              "      border-color: transparent;\n",
              "      border-left-color: var(--fill-color);\n",
              "      border-top-color: var(--fill-color);\n",
              "    }\n",
              "    30% {\n",
              "      border-color: transparent;\n",
              "      border-left-color: var(--fill-color);\n",
              "      border-top-color: var(--fill-color);\n",
              "      border-right-color: var(--fill-color);\n",
              "    }\n",
              "    40% {\n",
              "      border-color: transparent;\n",
              "      border-right-color: var(--fill-color);\n",
              "      border-top-color: var(--fill-color);\n",
              "    }\n",
              "    60% {\n",
              "      border-color: transparent;\n",
              "      border-right-color: var(--fill-color);\n",
              "    }\n",
              "    80% {\n",
              "      border-color: transparent;\n",
              "      border-right-color: var(--fill-color);\n",
              "      border-bottom-color: var(--fill-color);\n",
              "    }\n",
              "    90% {\n",
              "      border-color: transparent;\n",
              "      border-bottom-color: var(--fill-color);\n",
              "    }\n",
              "  }\n",
              "</style>\n",
              "\n",
              "  <script>\n",
              "    async function quickchart(key) {\n",
              "      const quickchartButtonEl =\n",
              "        document.querySelector('#' + key + ' button');\n",
              "      quickchartButtonEl.disabled = true;  // To prevent multiple clicks.\n",
              "      quickchartButtonEl.classList.add('colab-df-spinner');\n",
              "      try {\n",
              "        const charts = await google.colab.kernel.invokeFunction(\n",
              "            'suggestCharts', [key], {});\n",
              "      } catch (error) {\n",
              "        console.error('Error during call to suggestCharts:', error);\n",
              "      }\n",
              "      quickchartButtonEl.classList.remove('colab-df-spinner');\n",
              "      quickchartButtonEl.classList.add('colab-df-quickchart-complete');\n",
              "    }\n",
              "    (() => {\n",
              "      let quickchartButtonEl =\n",
              "        document.querySelector('#df-77923456-3acb-4bb3-976c-fce91c128a13 button');\n",
              "      quickchartButtonEl.style.display =\n",
              "        google.colab.kernel.accessAllowed ? 'block' : 'none';\n",
              "    })();\n",
              "  </script>\n",
              "</div>\n",
              "    </div>\n",
              "  </div>\n"
            ]
          },
          "metadata": {},
          "execution_count": 9
        }
      ]
    },
    {
      "cell_type": "markdown",
      "source": [
        "# نکته\n",
        "# در کل ۲۱۴۰ تا تصویر داریم اما تعداد سطر های فایل سی اس وی ۵۳۵ تاست\n",
        "\n",
        "# به دلیل اینکه هرچهارتا تصویر مربوط به یک خانه اند و در کل تعداد سطر های دیتافریم به این صورت باید باشد :\n",
        "# **2140 / 4  = 535**"
      ],
      "metadata": {
        "id": "n7S7zRxbo7kz"
      }
    },
    {
      "cell_type": "code",
      "source": [
        "df_images.shape"
      ],
      "metadata": {
        "colab": {
          "base_uri": "https://localhost:8080/"
        },
        "id": "eNFukGwfpqLE",
        "outputId": "da5955a0-abcb-4a72-aef0-a48634d8f422"
      },
      "execution_count": 10,
      "outputs": [
        {
          "output_type": "execute_result",
          "data": {
            "text/plain": [
              "(2140,)"
            ]
          },
          "metadata": {},
          "execution_count": 10
        }
      ]
    },
    {
      "cell_type": "code",
      "source": [
        "df_info.shape"
      ],
      "metadata": {
        "colab": {
          "base_uri": "https://localhost:8080/"
        },
        "id": "zw8P6e_Ipr2o",
        "outputId": "e99bf90d-f826-4218-e57f-e8610bd36cd1"
      },
      "execution_count": 11,
      "outputs": [
        {
          "output_type": "execute_result",
          "data": {
            "text/plain": [
              "(535, 5)"
            ]
          },
          "metadata": {},
          "execution_count": 11
        }
      ]
    },
    {
      "cell_type": "markdown",
      "source": [
        "# راه حل :"
      ],
      "metadata": {
        "id": "RAwaTp6HrD15"
      }
    },
    {
      "cell_type": "markdown",
      "source": [
        "# پس اول باید هر ۴ عکس مربوط به هرخانه را به هم متصل کنیم تا تعداد تصاویر در نهایت ۵۳۵ تا بشود :"
      ],
      "metadata": {
        "id": "Y6CMZ2iWq0lz"
      }
    },
    {
      "cell_type": "code",
      "source": [
        "df_info.shape[0]"
      ],
      "metadata": {
        "colab": {
          "base_uri": "https://localhost:8080/"
        },
        "id": "_VVfDiLCzN98",
        "outputId": "415f8d1b-cde3-40b5-ac1a-abaee15bfa6e"
      },
      "execution_count": 12,
      "outputs": [
        {
          "output_type": "execute_result",
          "data": {
            "text/plain": [
              "535"
            ]
          },
          "metadata": {},
          "execution_count": 12
        }
      ]
    },
    {
      "cell_type": "markdown",
      "source": [
        "# make farme of 4 images :"
      ],
      "metadata": {
        "id": "5TnfLy2UI-gm"
      }
    },
    {
      "cell_type": "code",
      "source": [
        "\n",
        "images = []\n",
        "\n",
        "for i in range(df_info.shape[0]) :\n",
        "  basePath = os.path.sep.join([new_inputpath, \"{}_*\".format(i + 1)])\n",
        "  housePaths = sorted(list(glob.glob(basePath)))\n",
        "  print(housePaths)\n",
        "  inputImages = []\n",
        "  outputImage = np.zeros((200, 200, 3), dtype=\"uint8\")\n",
        "\n",
        "  for housePath in housePaths:\n",
        "    image = cv2.imread(housePath)\n",
        "    image = cv2.resize(image, (100, 100))\n",
        "    image = cv2.cvtColor(image , cv2.COLOR_BGR2RGB)\n",
        "    inputImages.append(image)\n",
        "\n",
        "  outputImage[0:100, 0:100] = inputImages[0]\n",
        "  outputImage[0:100, 100:200] = inputImages[1]\n",
        "  outputImage[100:200, 100:200] = inputImages[2]\n",
        "  outputImage[100:200, 0:100] = inputImages[3]\n",
        "  images.append(outputImage)\n",
        "\n",
        "images = np.array(images)"
      ],
      "metadata": {
        "colab": {
          "base_uri": "https://localhost:8080/"
        },
        "id": "ySta6AXKMoQ0",
        "outputId": "bac93d4d-e35a-4220-b47d-c6f8396bd4fb"
      },
      "execution_count": 13,
      "outputs": [
        {
          "output_type": "stream",
          "name": "stdout",
          "text": [
            "['/content/drive/MyDrive/Houses Dataset/1_bathroom.jpg', '/content/drive/MyDrive/Houses Dataset/1_bedroom.jpg', '/content/drive/MyDrive/Houses Dataset/1_frontal.jpg', '/content/drive/MyDrive/Houses Dataset/1_kitchen.jpg']\n",
            "['/content/drive/MyDrive/Houses Dataset/2_bathroom.jpg', '/content/drive/MyDrive/Houses Dataset/2_bedroom.jpg', '/content/drive/MyDrive/Houses Dataset/2_frontal.jpg', '/content/drive/MyDrive/Houses Dataset/2_kitchen.jpg']\n",
            "['/content/drive/MyDrive/Houses Dataset/3_bathroom.jpg', '/content/drive/MyDrive/Houses Dataset/3_bedroom.jpg', '/content/drive/MyDrive/Houses Dataset/3_frontal.jpg', '/content/drive/MyDrive/Houses Dataset/3_kitchen.jpg']\n",
            "['/content/drive/MyDrive/Houses Dataset/4_bathroom.jpg', '/content/drive/MyDrive/Houses Dataset/4_bedroom.jpg', '/content/drive/MyDrive/Houses Dataset/4_frontal.jpg', '/content/drive/MyDrive/Houses Dataset/4_kitchen.jpg']\n",
            "['/content/drive/MyDrive/Houses Dataset/5_bathroom.jpg', '/content/drive/MyDrive/Houses Dataset/5_bedroom.jpg', '/content/drive/MyDrive/Houses Dataset/5_frontal.jpg', '/content/drive/MyDrive/Houses Dataset/5_kitchen.jpg']\n",
            "['/content/drive/MyDrive/Houses Dataset/6_bathroom.jpg', '/content/drive/MyDrive/Houses Dataset/6_bedroom.jpg', '/content/drive/MyDrive/Houses Dataset/6_frontal.jpg', '/content/drive/MyDrive/Houses Dataset/6_kitchen.jpg']\n",
            "['/content/drive/MyDrive/Houses Dataset/7_bathroom.jpg', '/content/drive/MyDrive/Houses Dataset/7_bedroom.jpg', '/content/drive/MyDrive/Houses Dataset/7_frontal.jpg', '/content/drive/MyDrive/Houses Dataset/7_kitchen.jpg']\n",
            "['/content/drive/MyDrive/Houses Dataset/8_bathroom.jpg', '/content/drive/MyDrive/Houses Dataset/8_bedroom.jpg', '/content/drive/MyDrive/Houses Dataset/8_frontal.jpg', '/content/drive/MyDrive/Houses Dataset/8_kitchen.jpg']\n",
            "['/content/drive/MyDrive/Houses Dataset/9_bathroom.jpg', '/content/drive/MyDrive/Houses Dataset/9_bedroom.jpg', '/content/drive/MyDrive/Houses Dataset/9_frontal.jpg', '/content/drive/MyDrive/Houses Dataset/9_kitchen.jpg']\n",
            "['/content/drive/MyDrive/Houses Dataset/10_bathroom.jpg', '/content/drive/MyDrive/Houses Dataset/10_bedroom.jpg', '/content/drive/MyDrive/Houses Dataset/10_frontal.jpg', '/content/drive/MyDrive/Houses Dataset/10_kitchen.jpg']\n",
            "['/content/drive/MyDrive/Houses Dataset/11_bathroom.jpg', '/content/drive/MyDrive/Houses Dataset/11_bedroom.jpg', '/content/drive/MyDrive/Houses Dataset/11_frontal.jpg', '/content/drive/MyDrive/Houses Dataset/11_kitchen.jpg']\n",
            "['/content/drive/MyDrive/Houses Dataset/12_bathroom.jpg', '/content/drive/MyDrive/Houses Dataset/12_bedroom.jpg', '/content/drive/MyDrive/Houses Dataset/12_frontal.jpg', '/content/drive/MyDrive/Houses Dataset/12_kitchen.jpg']\n",
            "['/content/drive/MyDrive/Houses Dataset/13_bathroom.jpg', '/content/drive/MyDrive/Houses Dataset/13_bedroom.jpg', '/content/drive/MyDrive/Houses Dataset/13_frontal.jpg', '/content/drive/MyDrive/Houses Dataset/13_kitchen.jpg']\n",
            "['/content/drive/MyDrive/Houses Dataset/14_bathroom.jpg', '/content/drive/MyDrive/Houses Dataset/14_bedroom.jpg', '/content/drive/MyDrive/Houses Dataset/14_frontal.jpg', '/content/drive/MyDrive/Houses Dataset/14_kitchen.jpg']\n",
            "['/content/drive/MyDrive/Houses Dataset/15_bathroom.jpg', '/content/drive/MyDrive/Houses Dataset/15_bedroom.jpg', '/content/drive/MyDrive/Houses Dataset/15_frontal.jpg', '/content/drive/MyDrive/Houses Dataset/15_kitchen.jpg']\n",
            "['/content/drive/MyDrive/Houses Dataset/16_bathroom.jpg', '/content/drive/MyDrive/Houses Dataset/16_bedroom.jpg', '/content/drive/MyDrive/Houses Dataset/16_frontal.jpg', '/content/drive/MyDrive/Houses Dataset/16_kitchen.jpg']\n",
            "['/content/drive/MyDrive/Houses Dataset/17_bathroom.jpg', '/content/drive/MyDrive/Houses Dataset/17_bedroom.jpg', '/content/drive/MyDrive/Houses Dataset/17_frontal.jpg', '/content/drive/MyDrive/Houses Dataset/17_kitchen.jpg']\n",
            "['/content/drive/MyDrive/Houses Dataset/18_bathroom.jpg', '/content/drive/MyDrive/Houses Dataset/18_bedroom.jpg', '/content/drive/MyDrive/Houses Dataset/18_frontal.jpg', '/content/drive/MyDrive/Houses Dataset/18_kitchen.jpg']\n",
            "['/content/drive/MyDrive/Houses Dataset/19_bathroom.jpg', '/content/drive/MyDrive/Houses Dataset/19_bedroom.jpg', '/content/drive/MyDrive/Houses Dataset/19_frontal.jpg', '/content/drive/MyDrive/Houses Dataset/19_kitchen.jpg']\n",
            "['/content/drive/MyDrive/Houses Dataset/20_bathroom.jpg', '/content/drive/MyDrive/Houses Dataset/20_bedroom.jpg', '/content/drive/MyDrive/Houses Dataset/20_frontal.jpg', '/content/drive/MyDrive/Houses Dataset/20_kitchen.jpg']\n",
            "['/content/drive/MyDrive/Houses Dataset/21_bathroom.jpg', '/content/drive/MyDrive/Houses Dataset/21_bedroom.jpg', '/content/drive/MyDrive/Houses Dataset/21_frontal.jpg', '/content/drive/MyDrive/Houses Dataset/21_kitchen.jpg']\n",
            "['/content/drive/MyDrive/Houses Dataset/22_bathroom.jpg', '/content/drive/MyDrive/Houses Dataset/22_bedroom.jpg', '/content/drive/MyDrive/Houses Dataset/22_frontal.jpg', '/content/drive/MyDrive/Houses Dataset/22_kitchen.jpg']\n",
            "['/content/drive/MyDrive/Houses Dataset/23_bathroom.jpg', '/content/drive/MyDrive/Houses Dataset/23_bedroom.jpg', '/content/drive/MyDrive/Houses Dataset/23_frontal.jpg', '/content/drive/MyDrive/Houses Dataset/23_kitchen.jpg']\n",
            "['/content/drive/MyDrive/Houses Dataset/24_bathroom.jpg', '/content/drive/MyDrive/Houses Dataset/24_bedroom.jpg', '/content/drive/MyDrive/Houses Dataset/24_frontal.jpg', '/content/drive/MyDrive/Houses Dataset/24_kitchen.jpg']\n",
            "['/content/drive/MyDrive/Houses Dataset/25_bathroom.jpg', '/content/drive/MyDrive/Houses Dataset/25_bedroom.jpg', '/content/drive/MyDrive/Houses Dataset/25_frontal.jpg', '/content/drive/MyDrive/Houses Dataset/25_kitchen.jpg']\n",
            "['/content/drive/MyDrive/Houses Dataset/26_bathroom.jpg', '/content/drive/MyDrive/Houses Dataset/26_bedroom.jpg', '/content/drive/MyDrive/Houses Dataset/26_frontal.jpg', '/content/drive/MyDrive/Houses Dataset/26_kitchen.jpg']\n",
            "['/content/drive/MyDrive/Houses Dataset/27_bathroom.jpg', '/content/drive/MyDrive/Houses Dataset/27_bedroom.jpg', '/content/drive/MyDrive/Houses Dataset/27_frontal.jpg', '/content/drive/MyDrive/Houses Dataset/27_kitchen.jpg']\n",
            "['/content/drive/MyDrive/Houses Dataset/28_bathroom.jpg', '/content/drive/MyDrive/Houses Dataset/28_bedroom.jpg', '/content/drive/MyDrive/Houses Dataset/28_frontal.jpg', '/content/drive/MyDrive/Houses Dataset/28_kitchen.jpg']\n",
            "['/content/drive/MyDrive/Houses Dataset/29_bathroom.jpg', '/content/drive/MyDrive/Houses Dataset/29_bedroom.jpg', '/content/drive/MyDrive/Houses Dataset/29_frontal.jpg', '/content/drive/MyDrive/Houses Dataset/29_kitchen.jpg']\n",
            "['/content/drive/MyDrive/Houses Dataset/30_bathroom.jpg', '/content/drive/MyDrive/Houses Dataset/30_bedroom.jpg', '/content/drive/MyDrive/Houses Dataset/30_frontal.jpg', '/content/drive/MyDrive/Houses Dataset/30_kitchen.jpg']\n",
            "['/content/drive/MyDrive/Houses Dataset/31_bathroom.jpg', '/content/drive/MyDrive/Houses Dataset/31_bedroom.jpg', '/content/drive/MyDrive/Houses Dataset/31_frontal.jpg', '/content/drive/MyDrive/Houses Dataset/31_kitchen.jpg']\n",
            "['/content/drive/MyDrive/Houses Dataset/32_bathroom.jpg', '/content/drive/MyDrive/Houses Dataset/32_bedroom.jpg', '/content/drive/MyDrive/Houses Dataset/32_frontal.jpg', '/content/drive/MyDrive/Houses Dataset/32_kitchen.jpg']\n",
            "['/content/drive/MyDrive/Houses Dataset/33_bathroom.jpg', '/content/drive/MyDrive/Houses Dataset/33_bedroom.jpg', '/content/drive/MyDrive/Houses Dataset/33_frontal.jpg', '/content/drive/MyDrive/Houses Dataset/33_kitchen.jpg']\n",
            "['/content/drive/MyDrive/Houses Dataset/34_bathroom.jpg', '/content/drive/MyDrive/Houses Dataset/34_bedroom.jpg', '/content/drive/MyDrive/Houses Dataset/34_frontal.jpg', '/content/drive/MyDrive/Houses Dataset/34_kitchen.jpg']\n",
            "['/content/drive/MyDrive/Houses Dataset/35_bathroom.jpg', '/content/drive/MyDrive/Houses Dataset/35_bedroom.jpg', '/content/drive/MyDrive/Houses Dataset/35_frontal.jpg', '/content/drive/MyDrive/Houses Dataset/35_kitchen.jpg']\n",
            "['/content/drive/MyDrive/Houses Dataset/36_bathroom.jpg', '/content/drive/MyDrive/Houses Dataset/36_bedroom.jpg', '/content/drive/MyDrive/Houses Dataset/36_frontal.jpg', '/content/drive/MyDrive/Houses Dataset/36_kitchen.jpg']\n",
            "['/content/drive/MyDrive/Houses Dataset/37_bathroom.jpg', '/content/drive/MyDrive/Houses Dataset/37_bedroom.jpg', '/content/drive/MyDrive/Houses Dataset/37_frontal.jpg', '/content/drive/MyDrive/Houses Dataset/37_kitchen.jpg']\n",
            "['/content/drive/MyDrive/Houses Dataset/38_bathroom.jpg', '/content/drive/MyDrive/Houses Dataset/38_bedroom.jpg', '/content/drive/MyDrive/Houses Dataset/38_frontal.jpg', '/content/drive/MyDrive/Houses Dataset/38_kitchen.jpg']\n",
            "['/content/drive/MyDrive/Houses Dataset/39_bathroom.jpg', '/content/drive/MyDrive/Houses Dataset/39_bedroom.jpg', '/content/drive/MyDrive/Houses Dataset/39_frontal.jpg', '/content/drive/MyDrive/Houses Dataset/39_kitchen.jpg']\n",
            "['/content/drive/MyDrive/Houses Dataset/40_bathroom.jpg', '/content/drive/MyDrive/Houses Dataset/40_bedroom.jpg', '/content/drive/MyDrive/Houses Dataset/40_frontal.jpg', '/content/drive/MyDrive/Houses Dataset/40_kitchen.jpg']\n",
            "['/content/drive/MyDrive/Houses Dataset/41_bathroom.jpg', '/content/drive/MyDrive/Houses Dataset/41_bedroom.jpg', '/content/drive/MyDrive/Houses Dataset/41_frontal.jpg', '/content/drive/MyDrive/Houses Dataset/41_kitchen.jpg']\n",
            "['/content/drive/MyDrive/Houses Dataset/42_bathroom.jpg', '/content/drive/MyDrive/Houses Dataset/42_bedroom.jpg', '/content/drive/MyDrive/Houses Dataset/42_frontal.jpg', '/content/drive/MyDrive/Houses Dataset/42_kitchen.jpg']\n",
            "['/content/drive/MyDrive/Houses Dataset/43_bathroom.jpg', '/content/drive/MyDrive/Houses Dataset/43_bedroom.jpg', '/content/drive/MyDrive/Houses Dataset/43_frontal.jpg', '/content/drive/MyDrive/Houses Dataset/43_kitchen.jpg']\n",
            "['/content/drive/MyDrive/Houses Dataset/44_bathroom.jpg', '/content/drive/MyDrive/Houses Dataset/44_bedroom.jpg', '/content/drive/MyDrive/Houses Dataset/44_frontal.jpg', '/content/drive/MyDrive/Houses Dataset/44_kitchen.jpg']\n",
            "['/content/drive/MyDrive/Houses Dataset/45_bathroom.jpg', '/content/drive/MyDrive/Houses Dataset/45_bedroom.jpg', '/content/drive/MyDrive/Houses Dataset/45_frontal.jpg', '/content/drive/MyDrive/Houses Dataset/45_kitchen.jpg']\n",
            "['/content/drive/MyDrive/Houses Dataset/46_bathroom.jpg', '/content/drive/MyDrive/Houses Dataset/46_bedroom.jpg', '/content/drive/MyDrive/Houses Dataset/46_frontal.jpg', '/content/drive/MyDrive/Houses Dataset/46_kitchen.jpg']\n",
            "['/content/drive/MyDrive/Houses Dataset/47_bathroom.jpg', '/content/drive/MyDrive/Houses Dataset/47_bedroom.jpg', '/content/drive/MyDrive/Houses Dataset/47_frontal.jpg', '/content/drive/MyDrive/Houses Dataset/47_kitchen.jpg']\n",
            "['/content/drive/MyDrive/Houses Dataset/48_bathroom.jpg', '/content/drive/MyDrive/Houses Dataset/48_bedroom.jpg', '/content/drive/MyDrive/Houses Dataset/48_frontal.jpg', '/content/drive/MyDrive/Houses Dataset/48_kitchen.jpg']\n",
            "['/content/drive/MyDrive/Houses Dataset/49_bathroom.jpg', '/content/drive/MyDrive/Houses Dataset/49_bedroom.jpg', '/content/drive/MyDrive/Houses Dataset/49_frontal.jpg', '/content/drive/MyDrive/Houses Dataset/49_kitchen.jpg']\n",
            "['/content/drive/MyDrive/Houses Dataset/50_bathroom.jpg', '/content/drive/MyDrive/Houses Dataset/50_bedroom.jpg', '/content/drive/MyDrive/Houses Dataset/50_frontal.jpg', '/content/drive/MyDrive/Houses Dataset/50_kitchen.jpg']\n",
            "['/content/drive/MyDrive/Houses Dataset/51_bathroom.jpg', '/content/drive/MyDrive/Houses Dataset/51_bedroom.jpg', '/content/drive/MyDrive/Houses Dataset/51_frontal.jpg', '/content/drive/MyDrive/Houses Dataset/51_kitchen.jpg']\n",
            "['/content/drive/MyDrive/Houses Dataset/52_bathroom.jpg', '/content/drive/MyDrive/Houses Dataset/52_bedroom.jpg', '/content/drive/MyDrive/Houses Dataset/52_frontal.jpg', '/content/drive/MyDrive/Houses Dataset/52_kitchen.jpg']\n",
            "['/content/drive/MyDrive/Houses Dataset/53_bathroom.jpg', '/content/drive/MyDrive/Houses Dataset/53_bedroom.jpg', '/content/drive/MyDrive/Houses Dataset/53_frontal.jpg', '/content/drive/MyDrive/Houses Dataset/53_kitchen.jpg']\n",
            "['/content/drive/MyDrive/Houses Dataset/54_bathroom.jpg', '/content/drive/MyDrive/Houses Dataset/54_bedroom.jpg', '/content/drive/MyDrive/Houses Dataset/54_frontal.jpg', '/content/drive/MyDrive/Houses Dataset/54_kitchen.jpg']\n",
            "['/content/drive/MyDrive/Houses Dataset/55_bathroom.jpg', '/content/drive/MyDrive/Houses Dataset/55_bedroom.jpg', '/content/drive/MyDrive/Houses Dataset/55_frontal.jpg', '/content/drive/MyDrive/Houses Dataset/55_kitchen.jpg']\n",
            "['/content/drive/MyDrive/Houses Dataset/56_bathroom.jpg', '/content/drive/MyDrive/Houses Dataset/56_bedroom.jpg', '/content/drive/MyDrive/Houses Dataset/56_frontal.jpg', '/content/drive/MyDrive/Houses Dataset/56_kitchen.jpg']\n",
            "['/content/drive/MyDrive/Houses Dataset/57_bathroom.jpg', '/content/drive/MyDrive/Houses Dataset/57_bedroom.jpg', '/content/drive/MyDrive/Houses Dataset/57_frontal.jpg', '/content/drive/MyDrive/Houses Dataset/57_kitchen.jpg']\n",
            "['/content/drive/MyDrive/Houses Dataset/58_bathroom.jpg', '/content/drive/MyDrive/Houses Dataset/58_bedroom.jpg', '/content/drive/MyDrive/Houses Dataset/58_frontal.jpg', '/content/drive/MyDrive/Houses Dataset/58_kitchen.jpg']\n",
            "['/content/drive/MyDrive/Houses Dataset/59_bathroom.jpg', '/content/drive/MyDrive/Houses Dataset/59_bedroom.jpg', '/content/drive/MyDrive/Houses Dataset/59_frontal.jpg', '/content/drive/MyDrive/Houses Dataset/59_kitchen.jpg']\n",
            "['/content/drive/MyDrive/Houses Dataset/60_bathroom.jpg', '/content/drive/MyDrive/Houses Dataset/60_bedroom.jpg', '/content/drive/MyDrive/Houses Dataset/60_frontal.jpg', '/content/drive/MyDrive/Houses Dataset/60_kitchen.jpg']\n",
            "['/content/drive/MyDrive/Houses Dataset/61_bathroom.jpg', '/content/drive/MyDrive/Houses Dataset/61_bedroom.jpg', '/content/drive/MyDrive/Houses Dataset/61_frontal.jpg', '/content/drive/MyDrive/Houses Dataset/61_kitchen.jpg']\n",
            "['/content/drive/MyDrive/Houses Dataset/62_bathroom.jpg', '/content/drive/MyDrive/Houses Dataset/62_bedroom.jpg', '/content/drive/MyDrive/Houses Dataset/62_frontal.jpg', '/content/drive/MyDrive/Houses Dataset/62_kitchen.jpg']\n",
            "['/content/drive/MyDrive/Houses Dataset/63_bathroom.jpg', '/content/drive/MyDrive/Houses Dataset/63_bedroom.jpg', '/content/drive/MyDrive/Houses Dataset/63_frontal.jpg', '/content/drive/MyDrive/Houses Dataset/63_kitchen.jpg']\n",
            "['/content/drive/MyDrive/Houses Dataset/64_bathroom.jpg', '/content/drive/MyDrive/Houses Dataset/64_bedroom.jpg', '/content/drive/MyDrive/Houses Dataset/64_frontal.jpg', '/content/drive/MyDrive/Houses Dataset/64_kitchen.jpg']\n",
            "['/content/drive/MyDrive/Houses Dataset/65_bathroom.jpg', '/content/drive/MyDrive/Houses Dataset/65_bedroom.jpg', '/content/drive/MyDrive/Houses Dataset/65_frontal.jpg', '/content/drive/MyDrive/Houses Dataset/65_kitchen.jpg']\n",
            "['/content/drive/MyDrive/Houses Dataset/66_bathroom.jpg', '/content/drive/MyDrive/Houses Dataset/66_bedroom.jpg', '/content/drive/MyDrive/Houses Dataset/66_frontal.jpg', '/content/drive/MyDrive/Houses Dataset/66_kitchen.jpg']\n",
            "['/content/drive/MyDrive/Houses Dataset/67_bathroom.jpg', '/content/drive/MyDrive/Houses Dataset/67_bedroom.jpg', '/content/drive/MyDrive/Houses Dataset/67_frontal.jpg', '/content/drive/MyDrive/Houses Dataset/67_kitchen.jpg']\n",
            "['/content/drive/MyDrive/Houses Dataset/68_bathroom.jpg', '/content/drive/MyDrive/Houses Dataset/68_bedroom.jpg', '/content/drive/MyDrive/Houses Dataset/68_frontal.jpg', '/content/drive/MyDrive/Houses Dataset/68_kitchen.jpg']\n",
            "['/content/drive/MyDrive/Houses Dataset/69_bathroom.jpg', '/content/drive/MyDrive/Houses Dataset/69_bedroom.jpg', '/content/drive/MyDrive/Houses Dataset/69_frontal.jpg', '/content/drive/MyDrive/Houses Dataset/69_kitchen.jpg']\n",
            "['/content/drive/MyDrive/Houses Dataset/70_bathroom.jpg', '/content/drive/MyDrive/Houses Dataset/70_bedroom.jpg', '/content/drive/MyDrive/Houses Dataset/70_frontal.jpg', '/content/drive/MyDrive/Houses Dataset/70_kitchen.jpg']\n",
            "['/content/drive/MyDrive/Houses Dataset/71_bathroom.jpg', '/content/drive/MyDrive/Houses Dataset/71_bedroom.jpg', '/content/drive/MyDrive/Houses Dataset/71_frontal.jpg', '/content/drive/MyDrive/Houses Dataset/71_kitchen.jpg']\n",
            "['/content/drive/MyDrive/Houses Dataset/72_bathroom.jpg', '/content/drive/MyDrive/Houses Dataset/72_bedroom.jpg', '/content/drive/MyDrive/Houses Dataset/72_frontal.jpg', '/content/drive/MyDrive/Houses Dataset/72_kitchen.jpg']\n",
            "['/content/drive/MyDrive/Houses Dataset/73_bathroom.jpg', '/content/drive/MyDrive/Houses Dataset/73_bedroom.jpg', '/content/drive/MyDrive/Houses Dataset/73_frontal.jpg', '/content/drive/MyDrive/Houses Dataset/73_kitchen.jpg']\n",
            "['/content/drive/MyDrive/Houses Dataset/74_bathroom.jpg', '/content/drive/MyDrive/Houses Dataset/74_bedroom.jpg', '/content/drive/MyDrive/Houses Dataset/74_frontal.jpg', '/content/drive/MyDrive/Houses Dataset/74_kitchen.jpg']\n",
            "['/content/drive/MyDrive/Houses Dataset/75_bathroom.jpg', '/content/drive/MyDrive/Houses Dataset/75_bedroom.jpg', '/content/drive/MyDrive/Houses Dataset/75_frontal.jpg', '/content/drive/MyDrive/Houses Dataset/75_kitchen.jpg']\n",
            "['/content/drive/MyDrive/Houses Dataset/76_bathroom.jpg', '/content/drive/MyDrive/Houses Dataset/76_bedroom.jpg', '/content/drive/MyDrive/Houses Dataset/76_frontal.jpg', '/content/drive/MyDrive/Houses Dataset/76_kitchen.jpg']\n",
            "['/content/drive/MyDrive/Houses Dataset/77_bathroom.jpg', '/content/drive/MyDrive/Houses Dataset/77_bedroom.jpg', '/content/drive/MyDrive/Houses Dataset/77_frontal.jpg', '/content/drive/MyDrive/Houses Dataset/77_kitchen.jpg']\n",
            "['/content/drive/MyDrive/Houses Dataset/78_bathroom.jpg', '/content/drive/MyDrive/Houses Dataset/78_bedroom.jpg', '/content/drive/MyDrive/Houses Dataset/78_frontal.jpg', '/content/drive/MyDrive/Houses Dataset/78_kitchen.jpg']\n",
            "['/content/drive/MyDrive/Houses Dataset/79_bathroom.jpg', '/content/drive/MyDrive/Houses Dataset/79_bedroom.jpg', '/content/drive/MyDrive/Houses Dataset/79_frontal.jpg', '/content/drive/MyDrive/Houses Dataset/79_kitchen.jpg']\n",
            "['/content/drive/MyDrive/Houses Dataset/80_bathroom.jpg', '/content/drive/MyDrive/Houses Dataset/80_bedroom.jpg', '/content/drive/MyDrive/Houses Dataset/80_frontal.jpg', '/content/drive/MyDrive/Houses Dataset/80_kitchen.jpg']\n",
            "['/content/drive/MyDrive/Houses Dataset/81_bathroom.jpg', '/content/drive/MyDrive/Houses Dataset/81_bedroom.jpg', '/content/drive/MyDrive/Houses Dataset/81_frontal.jpg', '/content/drive/MyDrive/Houses Dataset/81_kitchen.jpg']\n",
            "['/content/drive/MyDrive/Houses Dataset/82_bathroom.jpg', '/content/drive/MyDrive/Houses Dataset/82_bedroom.jpg', '/content/drive/MyDrive/Houses Dataset/82_frontal.jpg', '/content/drive/MyDrive/Houses Dataset/82_kitchen.jpg']\n",
            "['/content/drive/MyDrive/Houses Dataset/83_bathroom.jpg', '/content/drive/MyDrive/Houses Dataset/83_bedroom.jpg', '/content/drive/MyDrive/Houses Dataset/83_frontal.jpg', '/content/drive/MyDrive/Houses Dataset/83_kitchen.jpg']\n",
            "['/content/drive/MyDrive/Houses Dataset/84_bathroom.jpg', '/content/drive/MyDrive/Houses Dataset/84_bedroom.jpg', '/content/drive/MyDrive/Houses Dataset/84_frontal.jpg', '/content/drive/MyDrive/Houses Dataset/84_kitchen.jpg']\n",
            "['/content/drive/MyDrive/Houses Dataset/85_bathroom.jpg', '/content/drive/MyDrive/Houses Dataset/85_bedroom.jpg', '/content/drive/MyDrive/Houses Dataset/85_frontal.jpg', '/content/drive/MyDrive/Houses Dataset/85_kitchen.jpg']\n",
            "['/content/drive/MyDrive/Houses Dataset/86_bathroom.jpg', '/content/drive/MyDrive/Houses Dataset/86_bedroom.jpg', '/content/drive/MyDrive/Houses Dataset/86_frontal.jpg', '/content/drive/MyDrive/Houses Dataset/86_kitchen.jpg']\n",
            "['/content/drive/MyDrive/Houses Dataset/87_bathroom.jpg', '/content/drive/MyDrive/Houses Dataset/87_bedroom.jpg', '/content/drive/MyDrive/Houses Dataset/87_frontal.jpg', '/content/drive/MyDrive/Houses Dataset/87_kitchen.jpg']\n",
            "['/content/drive/MyDrive/Houses Dataset/88_bathroom.jpg', '/content/drive/MyDrive/Houses Dataset/88_bedroom.jpg', '/content/drive/MyDrive/Houses Dataset/88_frontal.jpg', '/content/drive/MyDrive/Houses Dataset/88_kitchen.jpg']\n",
            "['/content/drive/MyDrive/Houses Dataset/89_bathroom.jpg', '/content/drive/MyDrive/Houses Dataset/89_bedroom.jpg', '/content/drive/MyDrive/Houses Dataset/89_frontal.jpg', '/content/drive/MyDrive/Houses Dataset/89_kitchen.jpg']\n",
            "['/content/drive/MyDrive/Houses Dataset/90_bathroom.jpg', '/content/drive/MyDrive/Houses Dataset/90_bedroom.jpg', '/content/drive/MyDrive/Houses Dataset/90_frontal.jpg', '/content/drive/MyDrive/Houses Dataset/90_kitchen.jpg']\n",
            "['/content/drive/MyDrive/Houses Dataset/91_bathroom.jpg', '/content/drive/MyDrive/Houses Dataset/91_bedroom.jpg', '/content/drive/MyDrive/Houses Dataset/91_frontal.jpg', '/content/drive/MyDrive/Houses Dataset/91_kitchen.jpg']\n",
            "['/content/drive/MyDrive/Houses Dataset/92_bathroom.jpg', '/content/drive/MyDrive/Houses Dataset/92_bedroom.jpg', '/content/drive/MyDrive/Houses Dataset/92_frontal.jpg', '/content/drive/MyDrive/Houses Dataset/92_kitchen.jpg']\n",
            "['/content/drive/MyDrive/Houses Dataset/93_bathroom.jpg', '/content/drive/MyDrive/Houses Dataset/93_bedroom.jpg', '/content/drive/MyDrive/Houses Dataset/93_frontal.jpg', '/content/drive/MyDrive/Houses Dataset/93_kitchen.jpg']\n",
            "['/content/drive/MyDrive/Houses Dataset/94_bathroom.jpg', '/content/drive/MyDrive/Houses Dataset/94_bedroom.jpg', '/content/drive/MyDrive/Houses Dataset/94_frontal.jpg', '/content/drive/MyDrive/Houses Dataset/94_kitchen.jpg']\n",
            "['/content/drive/MyDrive/Houses Dataset/95_bathroom.jpg', '/content/drive/MyDrive/Houses Dataset/95_bedroom.jpg', '/content/drive/MyDrive/Houses Dataset/95_frontal.jpg', '/content/drive/MyDrive/Houses Dataset/95_kitchen.jpg']\n",
            "['/content/drive/MyDrive/Houses Dataset/96_bathroom.jpg', '/content/drive/MyDrive/Houses Dataset/96_bedroom.jpg', '/content/drive/MyDrive/Houses Dataset/96_frontal.jpg', '/content/drive/MyDrive/Houses Dataset/96_kitchen.jpg']\n",
            "['/content/drive/MyDrive/Houses Dataset/97_bathroom.jpg', '/content/drive/MyDrive/Houses Dataset/97_bedroom.jpg', '/content/drive/MyDrive/Houses Dataset/97_frontal.jpg', '/content/drive/MyDrive/Houses Dataset/97_kitchen.jpg']\n",
            "['/content/drive/MyDrive/Houses Dataset/98_bathroom.jpg', '/content/drive/MyDrive/Houses Dataset/98_bedroom.jpg', '/content/drive/MyDrive/Houses Dataset/98_frontal.jpg', '/content/drive/MyDrive/Houses Dataset/98_kitchen.jpg']\n",
            "['/content/drive/MyDrive/Houses Dataset/99_bathroom.jpg', '/content/drive/MyDrive/Houses Dataset/99_bedroom.jpg', '/content/drive/MyDrive/Houses Dataset/99_frontal.jpg', '/content/drive/MyDrive/Houses Dataset/99_kitchen.jpg']\n",
            "['/content/drive/MyDrive/Houses Dataset/100_bathroom.jpg', '/content/drive/MyDrive/Houses Dataset/100_bedroom.jpg', '/content/drive/MyDrive/Houses Dataset/100_frontal.jpg', '/content/drive/MyDrive/Houses Dataset/100_kitchen.jpg']\n",
            "['/content/drive/MyDrive/Houses Dataset/101_bathroom.jpg', '/content/drive/MyDrive/Houses Dataset/101_bedroom.jpg', '/content/drive/MyDrive/Houses Dataset/101_frontal.jpg', '/content/drive/MyDrive/Houses Dataset/101_kitchen.jpg']\n",
            "['/content/drive/MyDrive/Houses Dataset/102_bathroom.jpg', '/content/drive/MyDrive/Houses Dataset/102_bedroom.jpg', '/content/drive/MyDrive/Houses Dataset/102_frontal.jpg', '/content/drive/MyDrive/Houses Dataset/102_kitchen.jpg']\n",
            "['/content/drive/MyDrive/Houses Dataset/103_bathroom.jpg', '/content/drive/MyDrive/Houses Dataset/103_bedroom.jpg', '/content/drive/MyDrive/Houses Dataset/103_frontal.jpg', '/content/drive/MyDrive/Houses Dataset/103_kitchen.jpg']\n",
            "['/content/drive/MyDrive/Houses Dataset/104_bathroom.jpg', '/content/drive/MyDrive/Houses Dataset/104_bedroom.jpg', '/content/drive/MyDrive/Houses Dataset/104_frontal.jpg', '/content/drive/MyDrive/Houses Dataset/104_kitchen.jpg']\n",
            "['/content/drive/MyDrive/Houses Dataset/105_bathroom.jpg', '/content/drive/MyDrive/Houses Dataset/105_bedroom.jpg', '/content/drive/MyDrive/Houses Dataset/105_frontal.jpg', '/content/drive/MyDrive/Houses Dataset/105_kitchen.jpg']\n",
            "['/content/drive/MyDrive/Houses Dataset/106_bathroom.jpg', '/content/drive/MyDrive/Houses Dataset/106_bedroom.jpg', '/content/drive/MyDrive/Houses Dataset/106_frontal.jpg', '/content/drive/MyDrive/Houses Dataset/106_kitchen.jpg']\n",
            "['/content/drive/MyDrive/Houses Dataset/107_bathroom.jpg', '/content/drive/MyDrive/Houses Dataset/107_bedroom.jpg', '/content/drive/MyDrive/Houses Dataset/107_frontal.jpg', '/content/drive/MyDrive/Houses Dataset/107_kitchen.jpg']\n",
            "['/content/drive/MyDrive/Houses Dataset/108_bathroom.jpg', '/content/drive/MyDrive/Houses Dataset/108_bedroom.jpg', '/content/drive/MyDrive/Houses Dataset/108_frontal.jpg', '/content/drive/MyDrive/Houses Dataset/108_kitchen.jpg']\n",
            "['/content/drive/MyDrive/Houses Dataset/109_bathroom.jpg', '/content/drive/MyDrive/Houses Dataset/109_bedroom.jpg', '/content/drive/MyDrive/Houses Dataset/109_frontal.jpg', '/content/drive/MyDrive/Houses Dataset/109_kitchen.jpg']\n",
            "['/content/drive/MyDrive/Houses Dataset/110_bathroom.jpg', '/content/drive/MyDrive/Houses Dataset/110_bedroom.jpg', '/content/drive/MyDrive/Houses Dataset/110_frontal.jpg', '/content/drive/MyDrive/Houses Dataset/110_kitchen.jpg']\n",
            "['/content/drive/MyDrive/Houses Dataset/111_bathroom.jpg', '/content/drive/MyDrive/Houses Dataset/111_bedroom.jpg', '/content/drive/MyDrive/Houses Dataset/111_frontal.jpg', '/content/drive/MyDrive/Houses Dataset/111_kitchen.jpg']\n",
            "['/content/drive/MyDrive/Houses Dataset/112_bathroom.jpg', '/content/drive/MyDrive/Houses Dataset/112_bedroom.jpg', '/content/drive/MyDrive/Houses Dataset/112_frontal.jpg', '/content/drive/MyDrive/Houses Dataset/112_kitchen.jpg']\n",
            "['/content/drive/MyDrive/Houses Dataset/113_bathroom.jpg', '/content/drive/MyDrive/Houses Dataset/113_bedroom.jpg', '/content/drive/MyDrive/Houses Dataset/113_frontal.jpg', '/content/drive/MyDrive/Houses Dataset/113_kitchen.jpg']\n",
            "['/content/drive/MyDrive/Houses Dataset/114_bathroom.jpg', '/content/drive/MyDrive/Houses Dataset/114_bedroom.jpg', '/content/drive/MyDrive/Houses Dataset/114_frontal.jpg', '/content/drive/MyDrive/Houses Dataset/114_kitchen.jpg']\n",
            "['/content/drive/MyDrive/Houses Dataset/115_bathroom.jpg', '/content/drive/MyDrive/Houses Dataset/115_bedroom.jpg', '/content/drive/MyDrive/Houses Dataset/115_frontal.jpg', '/content/drive/MyDrive/Houses Dataset/115_kitchen.jpg']\n",
            "['/content/drive/MyDrive/Houses Dataset/116_bathroom.jpg', '/content/drive/MyDrive/Houses Dataset/116_bedroom.jpg', '/content/drive/MyDrive/Houses Dataset/116_frontal.jpg', '/content/drive/MyDrive/Houses Dataset/116_kitchen.jpg']\n",
            "['/content/drive/MyDrive/Houses Dataset/117_bathroom.jpg', '/content/drive/MyDrive/Houses Dataset/117_bedroom.jpg', '/content/drive/MyDrive/Houses Dataset/117_frontal.jpg', '/content/drive/MyDrive/Houses Dataset/117_kitchen.jpg']\n",
            "['/content/drive/MyDrive/Houses Dataset/118_bathroom.jpg', '/content/drive/MyDrive/Houses Dataset/118_bedroom.jpg', '/content/drive/MyDrive/Houses Dataset/118_frontal.jpg', '/content/drive/MyDrive/Houses Dataset/118_kitchen.jpg']\n",
            "['/content/drive/MyDrive/Houses Dataset/119_bathroom.jpg', '/content/drive/MyDrive/Houses Dataset/119_bedroom.jpg', '/content/drive/MyDrive/Houses Dataset/119_frontal.jpg', '/content/drive/MyDrive/Houses Dataset/119_kitchen.jpg']\n",
            "['/content/drive/MyDrive/Houses Dataset/120_bathroom.jpg', '/content/drive/MyDrive/Houses Dataset/120_bedroom.jpg', '/content/drive/MyDrive/Houses Dataset/120_frontal.jpg', '/content/drive/MyDrive/Houses Dataset/120_kitchen.jpg']\n",
            "['/content/drive/MyDrive/Houses Dataset/121_bathroom.jpg', '/content/drive/MyDrive/Houses Dataset/121_bedroom.jpg', '/content/drive/MyDrive/Houses Dataset/121_frontal.jpg', '/content/drive/MyDrive/Houses Dataset/121_kitchen.jpg']\n",
            "['/content/drive/MyDrive/Houses Dataset/122_bathroom.jpg', '/content/drive/MyDrive/Houses Dataset/122_bedroom.jpg', '/content/drive/MyDrive/Houses Dataset/122_frontal.jpg', '/content/drive/MyDrive/Houses Dataset/122_kitchen.jpg']\n",
            "['/content/drive/MyDrive/Houses Dataset/123_bathroom.jpg', '/content/drive/MyDrive/Houses Dataset/123_bedroom.jpg', '/content/drive/MyDrive/Houses Dataset/123_frontal.jpg', '/content/drive/MyDrive/Houses Dataset/123_kitchen.jpg']\n",
            "['/content/drive/MyDrive/Houses Dataset/124_bathroom.jpg', '/content/drive/MyDrive/Houses Dataset/124_bedroom.jpg', '/content/drive/MyDrive/Houses Dataset/124_frontal.jpg', '/content/drive/MyDrive/Houses Dataset/124_kitchen.jpg']\n",
            "['/content/drive/MyDrive/Houses Dataset/125_bathroom.jpg', '/content/drive/MyDrive/Houses Dataset/125_bedroom.jpg', '/content/drive/MyDrive/Houses Dataset/125_frontal.jpg', '/content/drive/MyDrive/Houses Dataset/125_kitchen.jpg']\n",
            "['/content/drive/MyDrive/Houses Dataset/126_bathroom.jpg', '/content/drive/MyDrive/Houses Dataset/126_bedroom.jpg', '/content/drive/MyDrive/Houses Dataset/126_frontal.jpg', '/content/drive/MyDrive/Houses Dataset/126_kitchen.jpg']\n",
            "['/content/drive/MyDrive/Houses Dataset/127_bathroom.jpg', '/content/drive/MyDrive/Houses Dataset/127_bedroom.jpg', '/content/drive/MyDrive/Houses Dataset/127_frontal.jpg', '/content/drive/MyDrive/Houses Dataset/127_kitchen.jpg']\n",
            "['/content/drive/MyDrive/Houses Dataset/128_bathroom.jpg', '/content/drive/MyDrive/Houses Dataset/128_bedroom.jpg', '/content/drive/MyDrive/Houses Dataset/128_frontal.jpg', '/content/drive/MyDrive/Houses Dataset/128_kitchen.jpg']\n",
            "['/content/drive/MyDrive/Houses Dataset/129_bathroom.jpg', '/content/drive/MyDrive/Houses Dataset/129_bedroom.jpg', '/content/drive/MyDrive/Houses Dataset/129_frontal.jpg', '/content/drive/MyDrive/Houses Dataset/129_kitchen.jpg']\n",
            "['/content/drive/MyDrive/Houses Dataset/130_bathroom.jpg', '/content/drive/MyDrive/Houses Dataset/130_bedroom.jpg', '/content/drive/MyDrive/Houses Dataset/130_frontal.jpg', '/content/drive/MyDrive/Houses Dataset/130_kitchen.jpg']\n",
            "['/content/drive/MyDrive/Houses Dataset/131_bathroom.jpg', '/content/drive/MyDrive/Houses Dataset/131_bedroom.jpg', '/content/drive/MyDrive/Houses Dataset/131_frontal.jpg', '/content/drive/MyDrive/Houses Dataset/131_kitchen.jpg']\n",
            "['/content/drive/MyDrive/Houses Dataset/132_bathroom.jpg', '/content/drive/MyDrive/Houses Dataset/132_bedroom.jpg', '/content/drive/MyDrive/Houses Dataset/132_frontal.jpg', '/content/drive/MyDrive/Houses Dataset/132_kitchen.jpg']\n",
            "['/content/drive/MyDrive/Houses Dataset/133_bathroom.jpg', '/content/drive/MyDrive/Houses Dataset/133_bedroom.jpg', '/content/drive/MyDrive/Houses Dataset/133_frontal.jpg', '/content/drive/MyDrive/Houses Dataset/133_kitchen.jpg']\n",
            "['/content/drive/MyDrive/Houses Dataset/134_bathroom.jpg', '/content/drive/MyDrive/Houses Dataset/134_bedroom.jpg', '/content/drive/MyDrive/Houses Dataset/134_frontal.jpg', '/content/drive/MyDrive/Houses Dataset/134_kitchen.jpg']\n",
            "['/content/drive/MyDrive/Houses Dataset/135_bathroom.jpg', '/content/drive/MyDrive/Houses Dataset/135_bedroom.jpg', '/content/drive/MyDrive/Houses Dataset/135_frontal.jpg', '/content/drive/MyDrive/Houses Dataset/135_kitchen.jpg']\n",
            "['/content/drive/MyDrive/Houses Dataset/136_bathroom.jpg', '/content/drive/MyDrive/Houses Dataset/136_bedroom.jpg', '/content/drive/MyDrive/Houses Dataset/136_frontal.jpg', '/content/drive/MyDrive/Houses Dataset/136_kitchen.jpg']\n",
            "['/content/drive/MyDrive/Houses Dataset/137_bathroom.jpg', '/content/drive/MyDrive/Houses Dataset/137_bedroom.jpg', '/content/drive/MyDrive/Houses Dataset/137_frontal.jpg', '/content/drive/MyDrive/Houses Dataset/137_kitchen.jpg']\n",
            "['/content/drive/MyDrive/Houses Dataset/138_bathroom.jpg', '/content/drive/MyDrive/Houses Dataset/138_bedroom.jpg', '/content/drive/MyDrive/Houses Dataset/138_frontal.jpg', '/content/drive/MyDrive/Houses Dataset/138_kitchen.jpg']\n",
            "['/content/drive/MyDrive/Houses Dataset/139_bathroom.jpg', '/content/drive/MyDrive/Houses Dataset/139_bedroom.jpg', '/content/drive/MyDrive/Houses Dataset/139_frontal.jpg', '/content/drive/MyDrive/Houses Dataset/139_kitchen.jpg']\n",
            "['/content/drive/MyDrive/Houses Dataset/140_bathroom.jpg', '/content/drive/MyDrive/Houses Dataset/140_bedroom.jpg', '/content/drive/MyDrive/Houses Dataset/140_frontal.jpg', '/content/drive/MyDrive/Houses Dataset/140_kitchen.jpg']\n",
            "['/content/drive/MyDrive/Houses Dataset/141_bathroom.jpg', '/content/drive/MyDrive/Houses Dataset/141_bedroom.jpg', '/content/drive/MyDrive/Houses Dataset/141_frontal.jpg', '/content/drive/MyDrive/Houses Dataset/141_kitchen.jpg']\n",
            "['/content/drive/MyDrive/Houses Dataset/142_bathroom.jpg', '/content/drive/MyDrive/Houses Dataset/142_bedroom.jpg', '/content/drive/MyDrive/Houses Dataset/142_frontal.jpg', '/content/drive/MyDrive/Houses Dataset/142_kitchen.jpg']\n",
            "['/content/drive/MyDrive/Houses Dataset/143_bathroom.jpg', '/content/drive/MyDrive/Houses Dataset/143_bedroom.jpg', '/content/drive/MyDrive/Houses Dataset/143_frontal.jpg', '/content/drive/MyDrive/Houses Dataset/143_kitchen.jpg']\n",
            "['/content/drive/MyDrive/Houses Dataset/144_bathroom.jpg', '/content/drive/MyDrive/Houses Dataset/144_bedroom.jpg', '/content/drive/MyDrive/Houses Dataset/144_frontal.jpg', '/content/drive/MyDrive/Houses Dataset/144_kitchen.jpg']\n",
            "['/content/drive/MyDrive/Houses Dataset/145_bathroom.jpg', '/content/drive/MyDrive/Houses Dataset/145_bedroom.jpg', '/content/drive/MyDrive/Houses Dataset/145_frontal.jpg', '/content/drive/MyDrive/Houses Dataset/145_kitchen.jpg']\n",
            "['/content/drive/MyDrive/Houses Dataset/146_bathroom.jpg', '/content/drive/MyDrive/Houses Dataset/146_bedroom.jpg', '/content/drive/MyDrive/Houses Dataset/146_frontal.jpg', '/content/drive/MyDrive/Houses Dataset/146_kitchen.jpg']\n",
            "['/content/drive/MyDrive/Houses Dataset/147_bathroom.jpg', '/content/drive/MyDrive/Houses Dataset/147_bedroom.jpg', '/content/drive/MyDrive/Houses Dataset/147_frontal.jpg', '/content/drive/MyDrive/Houses Dataset/147_kitchen.jpg']\n",
            "['/content/drive/MyDrive/Houses Dataset/148_bathroom.jpg', '/content/drive/MyDrive/Houses Dataset/148_bedroom.jpg', '/content/drive/MyDrive/Houses Dataset/148_frontal.jpg', '/content/drive/MyDrive/Houses Dataset/148_kitchen.jpg']\n",
            "['/content/drive/MyDrive/Houses Dataset/149_bathroom.jpg', '/content/drive/MyDrive/Houses Dataset/149_bedroom.jpg', '/content/drive/MyDrive/Houses Dataset/149_frontal.jpg', '/content/drive/MyDrive/Houses Dataset/149_kitchen.jpg']\n",
            "['/content/drive/MyDrive/Houses Dataset/150_bathroom.jpg', '/content/drive/MyDrive/Houses Dataset/150_bedroom.jpg', '/content/drive/MyDrive/Houses Dataset/150_frontal.jpg', '/content/drive/MyDrive/Houses Dataset/150_kitchen.jpg']\n",
            "['/content/drive/MyDrive/Houses Dataset/151_bathroom.jpg', '/content/drive/MyDrive/Houses Dataset/151_bedroom.jpg', '/content/drive/MyDrive/Houses Dataset/151_frontal.jpg', '/content/drive/MyDrive/Houses Dataset/151_kitchen.jpg']\n",
            "['/content/drive/MyDrive/Houses Dataset/152_bathroom.jpg', '/content/drive/MyDrive/Houses Dataset/152_bedroom.jpg', '/content/drive/MyDrive/Houses Dataset/152_frontal.jpg', '/content/drive/MyDrive/Houses Dataset/152_kitchen.jpg']\n",
            "['/content/drive/MyDrive/Houses Dataset/153_bathroom.jpg', '/content/drive/MyDrive/Houses Dataset/153_bedroom.jpg', '/content/drive/MyDrive/Houses Dataset/153_frontal.jpg', '/content/drive/MyDrive/Houses Dataset/153_kitchen.jpg']\n",
            "['/content/drive/MyDrive/Houses Dataset/154_bathroom.jpg', '/content/drive/MyDrive/Houses Dataset/154_bedroom.jpg', '/content/drive/MyDrive/Houses Dataset/154_frontal.jpg', '/content/drive/MyDrive/Houses Dataset/154_kitchen.jpg']\n",
            "['/content/drive/MyDrive/Houses Dataset/155_bathroom.jpg', '/content/drive/MyDrive/Houses Dataset/155_bedroom.jpg', '/content/drive/MyDrive/Houses Dataset/155_frontal.jpg', '/content/drive/MyDrive/Houses Dataset/155_kitchen.jpg']\n",
            "['/content/drive/MyDrive/Houses Dataset/156_bathroom.jpg', '/content/drive/MyDrive/Houses Dataset/156_bedroom.jpg', '/content/drive/MyDrive/Houses Dataset/156_frontal.jpg', '/content/drive/MyDrive/Houses Dataset/156_kitchen.jpg']\n",
            "['/content/drive/MyDrive/Houses Dataset/157_bathroom.jpg', '/content/drive/MyDrive/Houses Dataset/157_bedroom.jpg', '/content/drive/MyDrive/Houses Dataset/157_frontal.jpg', '/content/drive/MyDrive/Houses Dataset/157_kitchen.jpg']\n",
            "['/content/drive/MyDrive/Houses Dataset/158_bathroom.jpg', '/content/drive/MyDrive/Houses Dataset/158_bedroom.jpg', '/content/drive/MyDrive/Houses Dataset/158_frontal.jpg', '/content/drive/MyDrive/Houses Dataset/158_kitchen.jpg']\n",
            "['/content/drive/MyDrive/Houses Dataset/159_bathroom.jpg', '/content/drive/MyDrive/Houses Dataset/159_bedroom.jpg', '/content/drive/MyDrive/Houses Dataset/159_frontal.jpg', '/content/drive/MyDrive/Houses Dataset/159_kitchen.jpg']\n",
            "['/content/drive/MyDrive/Houses Dataset/160_bathroom.jpg', '/content/drive/MyDrive/Houses Dataset/160_bedroom.jpg', '/content/drive/MyDrive/Houses Dataset/160_frontal.jpg', '/content/drive/MyDrive/Houses Dataset/160_kitchen.jpg']\n",
            "['/content/drive/MyDrive/Houses Dataset/161_bathroom.jpg', '/content/drive/MyDrive/Houses Dataset/161_bedroom.jpg', '/content/drive/MyDrive/Houses Dataset/161_frontal.jpg', '/content/drive/MyDrive/Houses Dataset/161_kitchen.jpg']\n",
            "['/content/drive/MyDrive/Houses Dataset/162_bathroom.jpg', '/content/drive/MyDrive/Houses Dataset/162_bedroom.jpg', '/content/drive/MyDrive/Houses Dataset/162_frontal.jpg', '/content/drive/MyDrive/Houses Dataset/162_kitchen.jpg']\n",
            "['/content/drive/MyDrive/Houses Dataset/163_bathroom.jpg', '/content/drive/MyDrive/Houses Dataset/163_bedroom.jpg', '/content/drive/MyDrive/Houses Dataset/163_frontal.jpg', '/content/drive/MyDrive/Houses Dataset/163_kitchen.jpg']\n",
            "['/content/drive/MyDrive/Houses Dataset/164_bathroom.jpg', '/content/drive/MyDrive/Houses Dataset/164_bedroom.jpg', '/content/drive/MyDrive/Houses Dataset/164_frontal.jpg', '/content/drive/MyDrive/Houses Dataset/164_kitchen.jpg']\n",
            "['/content/drive/MyDrive/Houses Dataset/165_bathroom.jpg', '/content/drive/MyDrive/Houses Dataset/165_bedroom.jpg', '/content/drive/MyDrive/Houses Dataset/165_frontal.jpg', '/content/drive/MyDrive/Houses Dataset/165_kitchen.jpg']\n",
            "['/content/drive/MyDrive/Houses Dataset/166_bathroom.jpg', '/content/drive/MyDrive/Houses Dataset/166_bedroom.jpg', '/content/drive/MyDrive/Houses Dataset/166_frontal.jpg', '/content/drive/MyDrive/Houses Dataset/166_kitchen.jpg']\n",
            "['/content/drive/MyDrive/Houses Dataset/167_bathroom.jpg', '/content/drive/MyDrive/Houses Dataset/167_bedroom.jpg', '/content/drive/MyDrive/Houses Dataset/167_frontal.jpg', '/content/drive/MyDrive/Houses Dataset/167_kitchen.jpg']\n",
            "['/content/drive/MyDrive/Houses Dataset/168_bathroom.jpg', '/content/drive/MyDrive/Houses Dataset/168_bedroom.jpg', '/content/drive/MyDrive/Houses Dataset/168_frontal.jpg', '/content/drive/MyDrive/Houses Dataset/168_kitchen.jpg']\n",
            "['/content/drive/MyDrive/Houses Dataset/169_bathroom.jpg', '/content/drive/MyDrive/Houses Dataset/169_bedroom.jpg', '/content/drive/MyDrive/Houses Dataset/169_frontal.jpg', '/content/drive/MyDrive/Houses Dataset/169_kitchen.jpg']\n",
            "['/content/drive/MyDrive/Houses Dataset/170_bathroom.jpg', '/content/drive/MyDrive/Houses Dataset/170_bedroom.jpg', '/content/drive/MyDrive/Houses Dataset/170_frontal.jpg', '/content/drive/MyDrive/Houses Dataset/170_kitchen.jpg']\n",
            "['/content/drive/MyDrive/Houses Dataset/171_bathroom.jpg', '/content/drive/MyDrive/Houses Dataset/171_bedroom.jpg', '/content/drive/MyDrive/Houses Dataset/171_frontal.jpg', '/content/drive/MyDrive/Houses Dataset/171_kitchen.jpg']\n",
            "['/content/drive/MyDrive/Houses Dataset/172_bathroom.jpg', '/content/drive/MyDrive/Houses Dataset/172_bedroom.jpg', '/content/drive/MyDrive/Houses Dataset/172_frontal.jpg', '/content/drive/MyDrive/Houses Dataset/172_kitchen.jpg']\n",
            "['/content/drive/MyDrive/Houses Dataset/173_bathroom.jpg', '/content/drive/MyDrive/Houses Dataset/173_bedroom.jpg', '/content/drive/MyDrive/Houses Dataset/173_frontal.jpg', '/content/drive/MyDrive/Houses Dataset/173_kitchen.jpg']\n",
            "['/content/drive/MyDrive/Houses Dataset/174_bathroom.jpg', '/content/drive/MyDrive/Houses Dataset/174_bedroom.jpg', '/content/drive/MyDrive/Houses Dataset/174_frontal.jpg', '/content/drive/MyDrive/Houses Dataset/174_kitchen.jpg']\n",
            "['/content/drive/MyDrive/Houses Dataset/175_bathroom.jpg', '/content/drive/MyDrive/Houses Dataset/175_bedroom.jpg', '/content/drive/MyDrive/Houses Dataset/175_frontal.jpg', '/content/drive/MyDrive/Houses Dataset/175_kitchen.jpg']\n",
            "['/content/drive/MyDrive/Houses Dataset/176_bathroom.jpg', '/content/drive/MyDrive/Houses Dataset/176_bedroom.jpg', '/content/drive/MyDrive/Houses Dataset/176_frontal.jpg', '/content/drive/MyDrive/Houses Dataset/176_kitchen.jpg']\n",
            "['/content/drive/MyDrive/Houses Dataset/177_bathroom.jpg', '/content/drive/MyDrive/Houses Dataset/177_bedroom.jpg', '/content/drive/MyDrive/Houses Dataset/177_frontal.jpg', '/content/drive/MyDrive/Houses Dataset/177_kitchen.jpg']\n",
            "['/content/drive/MyDrive/Houses Dataset/178_bathroom.jpg', '/content/drive/MyDrive/Houses Dataset/178_bedroom.jpg', '/content/drive/MyDrive/Houses Dataset/178_frontal.jpg', '/content/drive/MyDrive/Houses Dataset/178_kitchen.jpg']\n",
            "['/content/drive/MyDrive/Houses Dataset/179_bathroom.jpg', '/content/drive/MyDrive/Houses Dataset/179_bedroom.jpg', '/content/drive/MyDrive/Houses Dataset/179_frontal.jpg', '/content/drive/MyDrive/Houses Dataset/179_kitchen.jpg']\n",
            "['/content/drive/MyDrive/Houses Dataset/180_bathroom.jpg', '/content/drive/MyDrive/Houses Dataset/180_bedroom.jpg', '/content/drive/MyDrive/Houses Dataset/180_frontal.jpg', '/content/drive/MyDrive/Houses Dataset/180_kitchen.jpg']\n",
            "['/content/drive/MyDrive/Houses Dataset/181_bathroom.jpg', '/content/drive/MyDrive/Houses Dataset/181_bedroom.jpg', '/content/drive/MyDrive/Houses Dataset/181_frontal.jpg', '/content/drive/MyDrive/Houses Dataset/181_kitchen.jpg']\n",
            "['/content/drive/MyDrive/Houses Dataset/182_bathroom.jpg', '/content/drive/MyDrive/Houses Dataset/182_bedroom.jpg', '/content/drive/MyDrive/Houses Dataset/182_frontal.jpg', '/content/drive/MyDrive/Houses Dataset/182_kitchen.jpg']\n",
            "['/content/drive/MyDrive/Houses Dataset/183_bathroom.jpg', '/content/drive/MyDrive/Houses Dataset/183_bedroom.jpg', '/content/drive/MyDrive/Houses Dataset/183_frontal.jpg', '/content/drive/MyDrive/Houses Dataset/183_kitchen.jpg']\n",
            "['/content/drive/MyDrive/Houses Dataset/184_bathroom.jpg', '/content/drive/MyDrive/Houses Dataset/184_bedroom.jpg', '/content/drive/MyDrive/Houses Dataset/184_frontal.jpg', '/content/drive/MyDrive/Houses Dataset/184_kitchen.jpg']\n",
            "['/content/drive/MyDrive/Houses Dataset/185_bathroom.jpg', '/content/drive/MyDrive/Houses Dataset/185_bedroom.jpg', '/content/drive/MyDrive/Houses Dataset/185_frontal.jpg', '/content/drive/MyDrive/Houses Dataset/185_kitchen.jpg']\n",
            "['/content/drive/MyDrive/Houses Dataset/186_bathroom.jpg', '/content/drive/MyDrive/Houses Dataset/186_bedroom.jpg', '/content/drive/MyDrive/Houses Dataset/186_frontal.jpg', '/content/drive/MyDrive/Houses Dataset/186_kitchen.jpg']\n",
            "['/content/drive/MyDrive/Houses Dataset/187_bathroom.jpg', '/content/drive/MyDrive/Houses Dataset/187_bedroom.jpg', '/content/drive/MyDrive/Houses Dataset/187_frontal.jpg', '/content/drive/MyDrive/Houses Dataset/187_kitchen.jpg']\n",
            "['/content/drive/MyDrive/Houses Dataset/188_bathroom.jpg', '/content/drive/MyDrive/Houses Dataset/188_bedroom.jpg', '/content/drive/MyDrive/Houses Dataset/188_frontal.jpg', '/content/drive/MyDrive/Houses Dataset/188_kitchen.jpg']\n",
            "['/content/drive/MyDrive/Houses Dataset/189_bathroom.jpg', '/content/drive/MyDrive/Houses Dataset/189_bedroom.jpg', '/content/drive/MyDrive/Houses Dataset/189_frontal.jpg', '/content/drive/MyDrive/Houses Dataset/189_kitchen.jpg']\n",
            "['/content/drive/MyDrive/Houses Dataset/190_bathroom.jpg', '/content/drive/MyDrive/Houses Dataset/190_bedroom.jpg', '/content/drive/MyDrive/Houses Dataset/190_frontal.jpg', '/content/drive/MyDrive/Houses Dataset/190_kitchen.jpg']\n",
            "['/content/drive/MyDrive/Houses Dataset/191_bathroom.jpg', '/content/drive/MyDrive/Houses Dataset/191_bedroom.jpg', '/content/drive/MyDrive/Houses Dataset/191_frontal.jpg', '/content/drive/MyDrive/Houses Dataset/191_kitchen.jpg']\n",
            "['/content/drive/MyDrive/Houses Dataset/192_bathroom.jpg', '/content/drive/MyDrive/Houses Dataset/192_bedroom.jpg', '/content/drive/MyDrive/Houses Dataset/192_frontal.jpg', '/content/drive/MyDrive/Houses Dataset/192_kitchen.jpg']\n",
            "['/content/drive/MyDrive/Houses Dataset/193_bathroom.jpg', '/content/drive/MyDrive/Houses Dataset/193_bedroom.jpg', '/content/drive/MyDrive/Houses Dataset/193_frontal.jpg', '/content/drive/MyDrive/Houses Dataset/193_kitchen.jpg']\n",
            "['/content/drive/MyDrive/Houses Dataset/194_bathroom.jpg', '/content/drive/MyDrive/Houses Dataset/194_bedroom.jpg', '/content/drive/MyDrive/Houses Dataset/194_frontal.jpg', '/content/drive/MyDrive/Houses Dataset/194_kitchen.jpg']\n",
            "['/content/drive/MyDrive/Houses Dataset/195_bathroom.jpg', '/content/drive/MyDrive/Houses Dataset/195_bedroom.jpg', '/content/drive/MyDrive/Houses Dataset/195_frontal.jpg', '/content/drive/MyDrive/Houses Dataset/195_kitchen.jpg']\n",
            "['/content/drive/MyDrive/Houses Dataset/196_bathroom.jpg', '/content/drive/MyDrive/Houses Dataset/196_bedroom.jpg', '/content/drive/MyDrive/Houses Dataset/196_frontal.jpg', '/content/drive/MyDrive/Houses Dataset/196_kitchen.jpg']\n",
            "['/content/drive/MyDrive/Houses Dataset/197_bathroom.jpg', '/content/drive/MyDrive/Houses Dataset/197_bedroom.jpg', '/content/drive/MyDrive/Houses Dataset/197_frontal.jpg', '/content/drive/MyDrive/Houses Dataset/197_kitchen.jpg']\n",
            "['/content/drive/MyDrive/Houses Dataset/198_bathroom.jpg', '/content/drive/MyDrive/Houses Dataset/198_bedroom.jpg', '/content/drive/MyDrive/Houses Dataset/198_frontal.jpg', '/content/drive/MyDrive/Houses Dataset/198_kitchen.jpg']\n",
            "['/content/drive/MyDrive/Houses Dataset/199_bathroom.jpg', '/content/drive/MyDrive/Houses Dataset/199_bedroom.jpg', '/content/drive/MyDrive/Houses Dataset/199_frontal.jpg', '/content/drive/MyDrive/Houses Dataset/199_kitchen.jpg']\n",
            "['/content/drive/MyDrive/Houses Dataset/200_bathroom.jpg', '/content/drive/MyDrive/Houses Dataset/200_bedroom.jpg', '/content/drive/MyDrive/Houses Dataset/200_frontal.jpg', '/content/drive/MyDrive/Houses Dataset/200_kitchen.jpg']\n",
            "['/content/drive/MyDrive/Houses Dataset/201_bathroom.jpg', '/content/drive/MyDrive/Houses Dataset/201_bedroom.jpg', '/content/drive/MyDrive/Houses Dataset/201_frontal.jpg', '/content/drive/MyDrive/Houses Dataset/201_kitchen.jpg']\n",
            "['/content/drive/MyDrive/Houses Dataset/202_bathroom.jpg', '/content/drive/MyDrive/Houses Dataset/202_bedroom.jpg', '/content/drive/MyDrive/Houses Dataset/202_frontal.jpg', '/content/drive/MyDrive/Houses Dataset/202_kitchen.jpg']\n",
            "['/content/drive/MyDrive/Houses Dataset/203_bathroom.jpg', '/content/drive/MyDrive/Houses Dataset/203_bedroom.jpg', '/content/drive/MyDrive/Houses Dataset/203_frontal.jpg', '/content/drive/MyDrive/Houses Dataset/203_kitchen.jpg']\n",
            "['/content/drive/MyDrive/Houses Dataset/204_bathroom.jpg', '/content/drive/MyDrive/Houses Dataset/204_bedroom.jpg', '/content/drive/MyDrive/Houses Dataset/204_frontal.jpg', '/content/drive/MyDrive/Houses Dataset/204_kitchen.jpg']\n",
            "['/content/drive/MyDrive/Houses Dataset/205_bathroom.jpg', '/content/drive/MyDrive/Houses Dataset/205_bedroom.jpg', '/content/drive/MyDrive/Houses Dataset/205_frontal.jpg', '/content/drive/MyDrive/Houses Dataset/205_kitchen.jpg']\n",
            "['/content/drive/MyDrive/Houses Dataset/206_bathroom.jpg', '/content/drive/MyDrive/Houses Dataset/206_bedroom.jpg', '/content/drive/MyDrive/Houses Dataset/206_frontal.jpg', '/content/drive/MyDrive/Houses Dataset/206_kitchen.jpg']\n",
            "['/content/drive/MyDrive/Houses Dataset/207_bathroom.jpg', '/content/drive/MyDrive/Houses Dataset/207_bedroom.jpg', '/content/drive/MyDrive/Houses Dataset/207_frontal.jpg', '/content/drive/MyDrive/Houses Dataset/207_kitchen.jpg']\n",
            "['/content/drive/MyDrive/Houses Dataset/208_bathroom.jpg', '/content/drive/MyDrive/Houses Dataset/208_bedroom.jpg', '/content/drive/MyDrive/Houses Dataset/208_frontal.jpg', '/content/drive/MyDrive/Houses Dataset/208_kitchen.jpg']\n",
            "['/content/drive/MyDrive/Houses Dataset/209_bathroom.jpg', '/content/drive/MyDrive/Houses Dataset/209_bedroom.jpg', '/content/drive/MyDrive/Houses Dataset/209_frontal.jpg', '/content/drive/MyDrive/Houses Dataset/209_kitchen.jpg']\n",
            "['/content/drive/MyDrive/Houses Dataset/210_bathroom.jpg', '/content/drive/MyDrive/Houses Dataset/210_bedroom.jpg', '/content/drive/MyDrive/Houses Dataset/210_frontal.jpg', '/content/drive/MyDrive/Houses Dataset/210_kitchen.jpg']\n",
            "['/content/drive/MyDrive/Houses Dataset/211_bathroom.jpg', '/content/drive/MyDrive/Houses Dataset/211_bedroom.jpg', '/content/drive/MyDrive/Houses Dataset/211_frontal.jpg', '/content/drive/MyDrive/Houses Dataset/211_kitchen.jpg']\n",
            "['/content/drive/MyDrive/Houses Dataset/212_bathroom.jpg', '/content/drive/MyDrive/Houses Dataset/212_bedroom.jpg', '/content/drive/MyDrive/Houses Dataset/212_frontal.jpg', '/content/drive/MyDrive/Houses Dataset/212_kitchen.jpg']\n",
            "['/content/drive/MyDrive/Houses Dataset/213_bathroom.jpg', '/content/drive/MyDrive/Houses Dataset/213_bedroom.jpg', '/content/drive/MyDrive/Houses Dataset/213_frontal.jpg', '/content/drive/MyDrive/Houses Dataset/213_kitchen.jpg']\n",
            "['/content/drive/MyDrive/Houses Dataset/214_bathroom.jpg', '/content/drive/MyDrive/Houses Dataset/214_bedroom.jpg', '/content/drive/MyDrive/Houses Dataset/214_frontal.jpg', '/content/drive/MyDrive/Houses Dataset/214_kitchen.jpg']\n",
            "['/content/drive/MyDrive/Houses Dataset/215_bathroom.jpg', '/content/drive/MyDrive/Houses Dataset/215_bedroom.jpg', '/content/drive/MyDrive/Houses Dataset/215_frontal.jpg', '/content/drive/MyDrive/Houses Dataset/215_kitchen.jpg']\n",
            "['/content/drive/MyDrive/Houses Dataset/216_bathroom.jpg', '/content/drive/MyDrive/Houses Dataset/216_bedroom.jpg', '/content/drive/MyDrive/Houses Dataset/216_frontal.jpg', '/content/drive/MyDrive/Houses Dataset/216_kitchen.jpg']\n",
            "['/content/drive/MyDrive/Houses Dataset/217_bathroom.jpg', '/content/drive/MyDrive/Houses Dataset/217_bedroom.jpg', '/content/drive/MyDrive/Houses Dataset/217_frontal.jpg', '/content/drive/MyDrive/Houses Dataset/217_kitchen.jpg']\n",
            "['/content/drive/MyDrive/Houses Dataset/218_bathroom.jpg', '/content/drive/MyDrive/Houses Dataset/218_bedroom.jpg', '/content/drive/MyDrive/Houses Dataset/218_frontal.jpg', '/content/drive/MyDrive/Houses Dataset/218_kitchen.jpg']\n",
            "['/content/drive/MyDrive/Houses Dataset/219_bathroom.jpg', '/content/drive/MyDrive/Houses Dataset/219_bedroom.jpg', '/content/drive/MyDrive/Houses Dataset/219_frontal.jpg', '/content/drive/MyDrive/Houses Dataset/219_kitchen.jpg']\n",
            "['/content/drive/MyDrive/Houses Dataset/220_bathroom.jpg', '/content/drive/MyDrive/Houses Dataset/220_bedroom.jpg', '/content/drive/MyDrive/Houses Dataset/220_frontal.jpg', '/content/drive/MyDrive/Houses Dataset/220_kitchen.jpg']\n",
            "['/content/drive/MyDrive/Houses Dataset/221_bathroom.jpg', '/content/drive/MyDrive/Houses Dataset/221_bedroom.jpg', '/content/drive/MyDrive/Houses Dataset/221_frontal.jpg', '/content/drive/MyDrive/Houses Dataset/221_kitchen.jpg']\n",
            "['/content/drive/MyDrive/Houses Dataset/222_bathroom.jpg', '/content/drive/MyDrive/Houses Dataset/222_bedroom.jpg', '/content/drive/MyDrive/Houses Dataset/222_frontal.jpg', '/content/drive/MyDrive/Houses Dataset/222_kitchen.jpg']\n",
            "['/content/drive/MyDrive/Houses Dataset/223_bathroom.jpg', '/content/drive/MyDrive/Houses Dataset/223_bedroom.jpg', '/content/drive/MyDrive/Houses Dataset/223_frontal.jpg', '/content/drive/MyDrive/Houses Dataset/223_kitchen.jpg']\n",
            "['/content/drive/MyDrive/Houses Dataset/224_bathroom.jpg', '/content/drive/MyDrive/Houses Dataset/224_bedroom.jpg', '/content/drive/MyDrive/Houses Dataset/224_frontal.jpg', '/content/drive/MyDrive/Houses Dataset/224_kitchen.jpg']\n",
            "['/content/drive/MyDrive/Houses Dataset/225_bathroom.jpg', '/content/drive/MyDrive/Houses Dataset/225_bedroom.jpg', '/content/drive/MyDrive/Houses Dataset/225_frontal.jpg', '/content/drive/MyDrive/Houses Dataset/225_kitchen.jpg']\n",
            "['/content/drive/MyDrive/Houses Dataset/226_bathroom.jpg', '/content/drive/MyDrive/Houses Dataset/226_bedroom.jpg', '/content/drive/MyDrive/Houses Dataset/226_frontal.jpg', '/content/drive/MyDrive/Houses Dataset/226_kitchen.jpg']\n",
            "['/content/drive/MyDrive/Houses Dataset/227_bathroom.jpg', '/content/drive/MyDrive/Houses Dataset/227_bedroom.jpg', '/content/drive/MyDrive/Houses Dataset/227_frontal.jpg', '/content/drive/MyDrive/Houses Dataset/227_kitchen.jpg']\n",
            "['/content/drive/MyDrive/Houses Dataset/228_bathroom.jpg', '/content/drive/MyDrive/Houses Dataset/228_bedroom.jpg', '/content/drive/MyDrive/Houses Dataset/228_frontal.jpg', '/content/drive/MyDrive/Houses Dataset/228_kitchen.jpg']\n",
            "['/content/drive/MyDrive/Houses Dataset/229_bathroom.jpg', '/content/drive/MyDrive/Houses Dataset/229_bedroom.jpg', '/content/drive/MyDrive/Houses Dataset/229_frontal.jpg', '/content/drive/MyDrive/Houses Dataset/229_kitchen.jpg']\n",
            "['/content/drive/MyDrive/Houses Dataset/230_bathroom.jpg', '/content/drive/MyDrive/Houses Dataset/230_bedroom.jpg', '/content/drive/MyDrive/Houses Dataset/230_frontal.jpg', '/content/drive/MyDrive/Houses Dataset/230_kitchen.jpg']\n",
            "['/content/drive/MyDrive/Houses Dataset/231_bathroom.jpg', '/content/drive/MyDrive/Houses Dataset/231_bedroom.jpg', '/content/drive/MyDrive/Houses Dataset/231_frontal.jpg', '/content/drive/MyDrive/Houses Dataset/231_kitchen.jpg']\n",
            "['/content/drive/MyDrive/Houses Dataset/232_bathroom.jpg', '/content/drive/MyDrive/Houses Dataset/232_bedroom.jpg', '/content/drive/MyDrive/Houses Dataset/232_frontal.jpg', '/content/drive/MyDrive/Houses Dataset/232_kitchen.jpg']\n",
            "['/content/drive/MyDrive/Houses Dataset/233_bathroom.jpg', '/content/drive/MyDrive/Houses Dataset/233_bedroom.jpg', '/content/drive/MyDrive/Houses Dataset/233_frontal.jpg', '/content/drive/MyDrive/Houses Dataset/233_kitchen.jpg']\n",
            "['/content/drive/MyDrive/Houses Dataset/234_bathroom.jpg', '/content/drive/MyDrive/Houses Dataset/234_bedroom.jpg', '/content/drive/MyDrive/Houses Dataset/234_frontal.jpg', '/content/drive/MyDrive/Houses Dataset/234_kitchen.jpg']\n",
            "['/content/drive/MyDrive/Houses Dataset/235_bathroom.jpg', '/content/drive/MyDrive/Houses Dataset/235_bedroom.jpg', '/content/drive/MyDrive/Houses Dataset/235_frontal.jpg', '/content/drive/MyDrive/Houses Dataset/235_kitchen.jpg']\n",
            "['/content/drive/MyDrive/Houses Dataset/236_bathroom.jpg', '/content/drive/MyDrive/Houses Dataset/236_bedroom.jpg', '/content/drive/MyDrive/Houses Dataset/236_frontal.jpg', '/content/drive/MyDrive/Houses Dataset/236_kitchen.jpg']\n",
            "['/content/drive/MyDrive/Houses Dataset/237_bathroom.jpg', '/content/drive/MyDrive/Houses Dataset/237_bedroom.jpg', '/content/drive/MyDrive/Houses Dataset/237_frontal.jpg', '/content/drive/MyDrive/Houses Dataset/237_kitchen.jpg']\n",
            "['/content/drive/MyDrive/Houses Dataset/238_bathroom.jpg', '/content/drive/MyDrive/Houses Dataset/238_bedroom.jpg', '/content/drive/MyDrive/Houses Dataset/238_frontal.jpg', '/content/drive/MyDrive/Houses Dataset/238_kitchen.jpg']\n",
            "['/content/drive/MyDrive/Houses Dataset/239_bathroom.jpg', '/content/drive/MyDrive/Houses Dataset/239_bedroom.jpg', '/content/drive/MyDrive/Houses Dataset/239_frontal.jpg', '/content/drive/MyDrive/Houses Dataset/239_kitchen.jpg']\n",
            "['/content/drive/MyDrive/Houses Dataset/240_bathroom.jpg', '/content/drive/MyDrive/Houses Dataset/240_bedroom.jpg', '/content/drive/MyDrive/Houses Dataset/240_frontal.jpg', '/content/drive/MyDrive/Houses Dataset/240_kitchen.jpg']\n",
            "['/content/drive/MyDrive/Houses Dataset/241_bathroom.jpg', '/content/drive/MyDrive/Houses Dataset/241_bedroom.jpg', '/content/drive/MyDrive/Houses Dataset/241_frontal.jpg', '/content/drive/MyDrive/Houses Dataset/241_kitchen.jpg']\n",
            "['/content/drive/MyDrive/Houses Dataset/242_bathroom.jpg', '/content/drive/MyDrive/Houses Dataset/242_bedroom.jpg', '/content/drive/MyDrive/Houses Dataset/242_frontal.jpg', '/content/drive/MyDrive/Houses Dataset/242_kitchen.jpg']\n",
            "['/content/drive/MyDrive/Houses Dataset/243_bathroom.jpg', '/content/drive/MyDrive/Houses Dataset/243_bedroom.jpg', '/content/drive/MyDrive/Houses Dataset/243_frontal.jpg', '/content/drive/MyDrive/Houses Dataset/243_kitchen.jpg']\n",
            "['/content/drive/MyDrive/Houses Dataset/244_bathroom.jpg', '/content/drive/MyDrive/Houses Dataset/244_bedroom.jpg', '/content/drive/MyDrive/Houses Dataset/244_frontal.jpg', '/content/drive/MyDrive/Houses Dataset/244_kitchen.jpg']\n",
            "['/content/drive/MyDrive/Houses Dataset/245_bathroom.jpg', '/content/drive/MyDrive/Houses Dataset/245_bedroom.jpg', '/content/drive/MyDrive/Houses Dataset/245_frontal.jpg', '/content/drive/MyDrive/Houses Dataset/245_kitchen.jpg']\n",
            "['/content/drive/MyDrive/Houses Dataset/246_bathroom.jpg', '/content/drive/MyDrive/Houses Dataset/246_bedroom.jpg', '/content/drive/MyDrive/Houses Dataset/246_frontal.jpg', '/content/drive/MyDrive/Houses Dataset/246_kitchen.jpg']\n",
            "['/content/drive/MyDrive/Houses Dataset/247_bathroom.jpg', '/content/drive/MyDrive/Houses Dataset/247_bedroom.jpg', '/content/drive/MyDrive/Houses Dataset/247_frontal.jpg', '/content/drive/MyDrive/Houses Dataset/247_kitchen.jpg']\n",
            "['/content/drive/MyDrive/Houses Dataset/248_bathroom.jpg', '/content/drive/MyDrive/Houses Dataset/248_bedroom.jpg', '/content/drive/MyDrive/Houses Dataset/248_frontal.jpg', '/content/drive/MyDrive/Houses Dataset/248_kitchen.jpg']\n",
            "['/content/drive/MyDrive/Houses Dataset/249_bathroom.jpg', '/content/drive/MyDrive/Houses Dataset/249_bedroom.jpg', '/content/drive/MyDrive/Houses Dataset/249_frontal.jpg', '/content/drive/MyDrive/Houses Dataset/249_kitchen.jpg']\n",
            "['/content/drive/MyDrive/Houses Dataset/250_bathroom.jpg', '/content/drive/MyDrive/Houses Dataset/250_bedroom.jpg', '/content/drive/MyDrive/Houses Dataset/250_frontal.jpg', '/content/drive/MyDrive/Houses Dataset/250_kitchen.jpg']\n",
            "['/content/drive/MyDrive/Houses Dataset/251_bathroom.jpg', '/content/drive/MyDrive/Houses Dataset/251_bedroom.jpg', '/content/drive/MyDrive/Houses Dataset/251_frontal.jpg', '/content/drive/MyDrive/Houses Dataset/251_kitchen.jpg']\n",
            "['/content/drive/MyDrive/Houses Dataset/252_bathroom.jpg', '/content/drive/MyDrive/Houses Dataset/252_bedroom.jpg', '/content/drive/MyDrive/Houses Dataset/252_frontal.jpg', '/content/drive/MyDrive/Houses Dataset/252_kitchen.jpg']\n",
            "['/content/drive/MyDrive/Houses Dataset/253_bathroom.jpg', '/content/drive/MyDrive/Houses Dataset/253_bedroom.jpg', '/content/drive/MyDrive/Houses Dataset/253_frontal.jpg', '/content/drive/MyDrive/Houses Dataset/253_kitchen.jpg']\n",
            "['/content/drive/MyDrive/Houses Dataset/254_bathroom.jpg', '/content/drive/MyDrive/Houses Dataset/254_bedroom.jpg', '/content/drive/MyDrive/Houses Dataset/254_frontal.jpg', '/content/drive/MyDrive/Houses Dataset/254_kitchen.jpg']\n",
            "['/content/drive/MyDrive/Houses Dataset/255_bathroom.jpg', '/content/drive/MyDrive/Houses Dataset/255_bedroom.jpg', '/content/drive/MyDrive/Houses Dataset/255_frontal.jpg', '/content/drive/MyDrive/Houses Dataset/255_kitchen.jpg']\n",
            "['/content/drive/MyDrive/Houses Dataset/256_bathroom.jpg', '/content/drive/MyDrive/Houses Dataset/256_bedroom.jpg', '/content/drive/MyDrive/Houses Dataset/256_frontal.jpg', '/content/drive/MyDrive/Houses Dataset/256_kitchen.jpg']\n",
            "['/content/drive/MyDrive/Houses Dataset/257_bathroom.jpg', '/content/drive/MyDrive/Houses Dataset/257_bedroom.jpg', '/content/drive/MyDrive/Houses Dataset/257_frontal.jpg', '/content/drive/MyDrive/Houses Dataset/257_kitchen.jpg']\n",
            "['/content/drive/MyDrive/Houses Dataset/258_bathroom.jpg', '/content/drive/MyDrive/Houses Dataset/258_bedroom.jpg', '/content/drive/MyDrive/Houses Dataset/258_frontal.jpg', '/content/drive/MyDrive/Houses Dataset/258_kitchen.jpg']\n",
            "['/content/drive/MyDrive/Houses Dataset/259_bathroom.jpg', '/content/drive/MyDrive/Houses Dataset/259_bedroom.jpg', '/content/drive/MyDrive/Houses Dataset/259_frontal.jpg', '/content/drive/MyDrive/Houses Dataset/259_kitchen.jpg']\n",
            "['/content/drive/MyDrive/Houses Dataset/260_bathroom.jpg', '/content/drive/MyDrive/Houses Dataset/260_bedroom.jpg', '/content/drive/MyDrive/Houses Dataset/260_frontal.jpg', '/content/drive/MyDrive/Houses Dataset/260_kitchen.jpg']\n",
            "['/content/drive/MyDrive/Houses Dataset/261_bathroom.jpg', '/content/drive/MyDrive/Houses Dataset/261_bedroom.jpg', '/content/drive/MyDrive/Houses Dataset/261_frontal.jpg', '/content/drive/MyDrive/Houses Dataset/261_kitchen.jpg']\n",
            "['/content/drive/MyDrive/Houses Dataset/262_bathroom.jpg', '/content/drive/MyDrive/Houses Dataset/262_bedroom.jpg', '/content/drive/MyDrive/Houses Dataset/262_frontal.jpg', '/content/drive/MyDrive/Houses Dataset/262_kitchen.jpg']\n",
            "['/content/drive/MyDrive/Houses Dataset/263_bathroom.jpg', '/content/drive/MyDrive/Houses Dataset/263_bedroom.jpg', '/content/drive/MyDrive/Houses Dataset/263_frontal.jpg', '/content/drive/MyDrive/Houses Dataset/263_kitchen.jpg']\n",
            "['/content/drive/MyDrive/Houses Dataset/264_bathroom.jpg', '/content/drive/MyDrive/Houses Dataset/264_bedroom.jpg', '/content/drive/MyDrive/Houses Dataset/264_frontal.jpg', '/content/drive/MyDrive/Houses Dataset/264_kitchen.jpg']\n",
            "['/content/drive/MyDrive/Houses Dataset/265_bathroom.jpg', '/content/drive/MyDrive/Houses Dataset/265_bedroom.jpg', '/content/drive/MyDrive/Houses Dataset/265_frontal.jpg', '/content/drive/MyDrive/Houses Dataset/265_kitchen.jpg']\n",
            "['/content/drive/MyDrive/Houses Dataset/266_bathroom.jpg', '/content/drive/MyDrive/Houses Dataset/266_bedroom.jpg', '/content/drive/MyDrive/Houses Dataset/266_frontal.jpg', '/content/drive/MyDrive/Houses Dataset/266_kitchen.jpg']\n",
            "['/content/drive/MyDrive/Houses Dataset/267_bathroom.jpg', '/content/drive/MyDrive/Houses Dataset/267_bedroom.jpg', '/content/drive/MyDrive/Houses Dataset/267_frontal.jpg', '/content/drive/MyDrive/Houses Dataset/267_kitchen.jpg']\n",
            "['/content/drive/MyDrive/Houses Dataset/268_bathroom.jpg', '/content/drive/MyDrive/Houses Dataset/268_bedroom.jpg', '/content/drive/MyDrive/Houses Dataset/268_frontal.jpg', '/content/drive/MyDrive/Houses Dataset/268_kitchen.jpg']\n",
            "['/content/drive/MyDrive/Houses Dataset/269_bathroom.jpg', '/content/drive/MyDrive/Houses Dataset/269_bedroom.jpg', '/content/drive/MyDrive/Houses Dataset/269_frontal.jpg', '/content/drive/MyDrive/Houses Dataset/269_kitchen.jpg']\n",
            "['/content/drive/MyDrive/Houses Dataset/270_bathroom.jpg', '/content/drive/MyDrive/Houses Dataset/270_bedroom.jpg', '/content/drive/MyDrive/Houses Dataset/270_frontal.jpg', '/content/drive/MyDrive/Houses Dataset/270_kitchen.jpg']\n",
            "['/content/drive/MyDrive/Houses Dataset/271_bathroom.jpg', '/content/drive/MyDrive/Houses Dataset/271_bedroom.jpg', '/content/drive/MyDrive/Houses Dataset/271_frontal.jpg', '/content/drive/MyDrive/Houses Dataset/271_kitchen.jpg']\n",
            "['/content/drive/MyDrive/Houses Dataset/272_bathroom.jpg', '/content/drive/MyDrive/Houses Dataset/272_bedroom.jpg', '/content/drive/MyDrive/Houses Dataset/272_frontal.jpg', '/content/drive/MyDrive/Houses Dataset/272_kitchen.jpg']\n",
            "['/content/drive/MyDrive/Houses Dataset/273_bathroom.jpg', '/content/drive/MyDrive/Houses Dataset/273_bedroom.jpg', '/content/drive/MyDrive/Houses Dataset/273_frontal.jpg', '/content/drive/MyDrive/Houses Dataset/273_kitchen.jpg']\n",
            "['/content/drive/MyDrive/Houses Dataset/274_bathroom.jpg', '/content/drive/MyDrive/Houses Dataset/274_bedroom.jpg', '/content/drive/MyDrive/Houses Dataset/274_frontal.jpg', '/content/drive/MyDrive/Houses Dataset/274_kitchen.jpg']\n",
            "['/content/drive/MyDrive/Houses Dataset/275_bathroom.jpg', '/content/drive/MyDrive/Houses Dataset/275_bedroom.jpg', '/content/drive/MyDrive/Houses Dataset/275_frontal.jpg', '/content/drive/MyDrive/Houses Dataset/275_kitchen.jpg']\n",
            "['/content/drive/MyDrive/Houses Dataset/276_bathroom.jpg', '/content/drive/MyDrive/Houses Dataset/276_bedroom.jpg', '/content/drive/MyDrive/Houses Dataset/276_frontal.jpg', '/content/drive/MyDrive/Houses Dataset/276_kitchen.jpg']\n",
            "['/content/drive/MyDrive/Houses Dataset/277_bathroom.jpg', '/content/drive/MyDrive/Houses Dataset/277_bedroom.jpg', '/content/drive/MyDrive/Houses Dataset/277_frontal.jpg', '/content/drive/MyDrive/Houses Dataset/277_kitchen.jpg']\n",
            "['/content/drive/MyDrive/Houses Dataset/278_bathroom.jpg', '/content/drive/MyDrive/Houses Dataset/278_bedroom.jpg', '/content/drive/MyDrive/Houses Dataset/278_frontal.jpg', '/content/drive/MyDrive/Houses Dataset/278_kitchen.jpg']\n",
            "['/content/drive/MyDrive/Houses Dataset/279_bathroom.jpg', '/content/drive/MyDrive/Houses Dataset/279_bedroom.jpg', '/content/drive/MyDrive/Houses Dataset/279_frontal.jpg', '/content/drive/MyDrive/Houses Dataset/279_kitchen.jpg']\n",
            "['/content/drive/MyDrive/Houses Dataset/280_bathroom.jpg', '/content/drive/MyDrive/Houses Dataset/280_bedroom.jpg', '/content/drive/MyDrive/Houses Dataset/280_frontal.jpg', '/content/drive/MyDrive/Houses Dataset/280_kitchen.jpg']\n",
            "['/content/drive/MyDrive/Houses Dataset/281_bathroom.jpg', '/content/drive/MyDrive/Houses Dataset/281_bedroom.jpg', '/content/drive/MyDrive/Houses Dataset/281_frontal.jpg', '/content/drive/MyDrive/Houses Dataset/281_kitchen.jpg']\n",
            "['/content/drive/MyDrive/Houses Dataset/282_bathroom.jpg', '/content/drive/MyDrive/Houses Dataset/282_bedroom.jpg', '/content/drive/MyDrive/Houses Dataset/282_frontal.jpg', '/content/drive/MyDrive/Houses Dataset/282_kitchen.jpg']\n",
            "['/content/drive/MyDrive/Houses Dataset/283_bathroom.jpg', '/content/drive/MyDrive/Houses Dataset/283_bedroom.jpg', '/content/drive/MyDrive/Houses Dataset/283_frontal.jpg', '/content/drive/MyDrive/Houses Dataset/283_kitchen.jpg']\n",
            "['/content/drive/MyDrive/Houses Dataset/284_bathroom.jpg', '/content/drive/MyDrive/Houses Dataset/284_bedroom.jpg', '/content/drive/MyDrive/Houses Dataset/284_frontal.jpg', '/content/drive/MyDrive/Houses Dataset/284_kitchen.jpg']\n",
            "['/content/drive/MyDrive/Houses Dataset/285_bathroom.jpg', '/content/drive/MyDrive/Houses Dataset/285_bedroom.jpg', '/content/drive/MyDrive/Houses Dataset/285_frontal.jpg', '/content/drive/MyDrive/Houses Dataset/285_kitchen.jpg']\n",
            "['/content/drive/MyDrive/Houses Dataset/286_bathroom.jpg', '/content/drive/MyDrive/Houses Dataset/286_bedroom.jpg', '/content/drive/MyDrive/Houses Dataset/286_frontal.jpg', '/content/drive/MyDrive/Houses Dataset/286_kitchen.jpg']\n",
            "['/content/drive/MyDrive/Houses Dataset/287_bathroom.jpg', '/content/drive/MyDrive/Houses Dataset/287_bedroom.jpg', '/content/drive/MyDrive/Houses Dataset/287_frontal.jpg', '/content/drive/MyDrive/Houses Dataset/287_kitchen.jpg']\n",
            "['/content/drive/MyDrive/Houses Dataset/288_bathroom.jpg', '/content/drive/MyDrive/Houses Dataset/288_bedroom.jpg', '/content/drive/MyDrive/Houses Dataset/288_frontal.jpg', '/content/drive/MyDrive/Houses Dataset/288_kitchen.jpg']\n",
            "['/content/drive/MyDrive/Houses Dataset/289_bathroom.jpg', '/content/drive/MyDrive/Houses Dataset/289_bedroom.jpg', '/content/drive/MyDrive/Houses Dataset/289_frontal.jpg', '/content/drive/MyDrive/Houses Dataset/289_kitchen.jpg']\n",
            "['/content/drive/MyDrive/Houses Dataset/290_bathroom.jpg', '/content/drive/MyDrive/Houses Dataset/290_bedroom.jpg', '/content/drive/MyDrive/Houses Dataset/290_frontal.jpg', '/content/drive/MyDrive/Houses Dataset/290_kitchen.jpg']\n",
            "['/content/drive/MyDrive/Houses Dataset/291_bathroom.jpg', '/content/drive/MyDrive/Houses Dataset/291_bedroom.jpg', '/content/drive/MyDrive/Houses Dataset/291_frontal.jpg', '/content/drive/MyDrive/Houses Dataset/291_kitchen.jpg']\n",
            "['/content/drive/MyDrive/Houses Dataset/292_bathroom.jpg', '/content/drive/MyDrive/Houses Dataset/292_bedroom.jpg', '/content/drive/MyDrive/Houses Dataset/292_frontal.jpg', '/content/drive/MyDrive/Houses Dataset/292_kitchen.jpg']\n",
            "['/content/drive/MyDrive/Houses Dataset/293_bathroom.jpg', '/content/drive/MyDrive/Houses Dataset/293_bedroom.jpg', '/content/drive/MyDrive/Houses Dataset/293_frontal.jpg', '/content/drive/MyDrive/Houses Dataset/293_kitchen.jpg']\n",
            "['/content/drive/MyDrive/Houses Dataset/294_bathroom.jpg', '/content/drive/MyDrive/Houses Dataset/294_bedroom.jpg', '/content/drive/MyDrive/Houses Dataset/294_frontal.jpg', '/content/drive/MyDrive/Houses Dataset/294_kitchen.jpg']\n",
            "['/content/drive/MyDrive/Houses Dataset/295_bathroom.jpg', '/content/drive/MyDrive/Houses Dataset/295_bedroom.jpg', '/content/drive/MyDrive/Houses Dataset/295_frontal.jpg', '/content/drive/MyDrive/Houses Dataset/295_kitchen.jpg']\n",
            "['/content/drive/MyDrive/Houses Dataset/296_bathroom.jpg', '/content/drive/MyDrive/Houses Dataset/296_bedroom.jpg', '/content/drive/MyDrive/Houses Dataset/296_frontal.jpg', '/content/drive/MyDrive/Houses Dataset/296_kitchen.jpg']\n",
            "['/content/drive/MyDrive/Houses Dataset/297_bathroom.jpg', '/content/drive/MyDrive/Houses Dataset/297_bedroom.jpg', '/content/drive/MyDrive/Houses Dataset/297_frontal.jpg', '/content/drive/MyDrive/Houses Dataset/297_kitchen.jpg']\n",
            "['/content/drive/MyDrive/Houses Dataset/298_bathroom.jpg', '/content/drive/MyDrive/Houses Dataset/298_bedroom.jpg', '/content/drive/MyDrive/Houses Dataset/298_frontal.jpg', '/content/drive/MyDrive/Houses Dataset/298_kitchen.jpg']\n",
            "['/content/drive/MyDrive/Houses Dataset/299_bathroom.jpg', '/content/drive/MyDrive/Houses Dataset/299_bedroom.jpg', '/content/drive/MyDrive/Houses Dataset/299_frontal.jpg', '/content/drive/MyDrive/Houses Dataset/299_kitchen.jpg']\n",
            "['/content/drive/MyDrive/Houses Dataset/300_bathroom.jpg', '/content/drive/MyDrive/Houses Dataset/300_bedroom.jpg', '/content/drive/MyDrive/Houses Dataset/300_frontal.jpg', '/content/drive/MyDrive/Houses Dataset/300_kitchen.jpg']\n",
            "['/content/drive/MyDrive/Houses Dataset/301_bathroom.jpg', '/content/drive/MyDrive/Houses Dataset/301_bedroom.jpg', '/content/drive/MyDrive/Houses Dataset/301_frontal.jpg', '/content/drive/MyDrive/Houses Dataset/301_kitchen.jpg']\n",
            "['/content/drive/MyDrive/Houses Dataset/302_bathroom.jpg', '/content/drive/MyDrive/Houses Dataset/302_bedroom.jpg', '/content/drive/MyDrive/Houses Dataset/302_frontal.jpg', '/content/drive/MyDrive/Houses Dataset/302_kitchen.jpg']\n",
            "['/content/drive/MyDrive/Houses Dataset/303_bathroom.jpg', '/content/drive/MyDrive/Houses Dataset/303_bedroom.jpg', '/content/drive/MyDrive/Houses Dataset/303_frontal.jpg', '/content/drive/MyDrive/Houses Dataset/303_kitchen.jpg']\n",
            "['/content/drive/MyDrive/Houses Dataset/304_bathroom.jpg', '/content/drive/MyDrive/Houses Dataset/304_bedroom.jpg', '/content/drive/MyDrive/Houses Dataset/304_frontal.jpg', '/content/drive/MyDrive/Houses Dataset/304_kitchen.jpg']\n",
            "['/content/drive/MyDrive/Houses Dataset/305_bathroom.jpg', '/content/drive/MyDrive/Houses Dataset/305_bedroom.jpg', '/content/drive/MyDrive/Houses Dataset/305_frontal.jpg', '/content/drive/MyDrive/Houses Dataset/305_kitchen.jpg']\n",
            "['/content/drive/MyDrive/Houses Dataset/306_bathroom.jpg', '/content/drive/MyDrive/Houses Dataset/306_bedroom.jpg', '/content/drive/MyDrive/Houses Dataset/306_frontal.jpg', '/content/drive/MyDrive/Houses Dataset/306_kitchen.jpg']\n",
            "['/content/drive/MyDrive/Houses Dataset/307_bathroom.jpg', '/content/drive/MyDrive/Houses Dataset/307_bedroom.jpg', '/content/drive/MyDrive/Houses Dataset/307_frontal.jpg', '/content/drive/MyDrive/Houses Dataset/307_kitchen.jpg']\n",
            "['/content/drive/MyDrive/Houses Dataset/308_bathroom.jpg', '/content/drive/MyDrive/Houses Dataset/308_bedroom.jpg', '/content/drive/MyDrive/Houses Dataset/308_frontal.jpg', '/content/drive/MyDrive/Houses Dataset/308_kitchen.jpg']\n",
            "['/content/drive/MyDrive/Houses Dataset/309_bathroom.jpg', '/content/drive/MyDrive/Houses Dataset/309_bedroom.jpg', '/content/drive/MyDrive/Houses Dataset/309_frontal.jpg', '/content/drive/MyDrive/Houses Dataset/309_kitchen.jpg']\n",
            "['/content/drive/MyDrive/Houses Dataset/310_bathroom.jpg', '/content/drive/MyDrive/Houses Dataset/310_bedroom.jpg', '/content/drive/MyDrive/Houses Dataset/310_frontal.jpg', '/content/drive/MyDrive/Houses Dataset/310_kitchen.jpg']\n",
            "['/content/drive/MyDrive/Houses Dataset/311_bathroom.jpg', '/content/drive/MyDrive/Houses Dataset/311_bedroom.jpg', '/content/drive/MyDrive/Houses Dataset/311_frontal.jpg', '/content/drive/MyDrive/Houses Dataset/311_kitchen.jpg']\n",
            "['/content/drive/MyDrive/Houses Dataset/312_bathroom.jpg', '/content/drive/MyDrive/Houses Dataset/312_bedroom.jpg', '/content/drive/MyDrive/Houses Dataset/312_frontal.jpg', '/content/drive/MyDrive/Houses Dataset/312_kitchen.jpg']\n",
            "['/content/drive/MyDrive/Houses Dataset/313_bathroom.jpg', '/content/drive/MyDrive/Houses Dataset/313_bedroom.jpg', '/content/drive/MyDrive/Houses Dataset/313_frontal.jpg', '/content/drive/MyDrive/Houses Dataset/313_kitchen.jpg']\n",
            "['/content/drive/MyDrive/Houses Dataset/314_bathroom.jpg', '/content/drive/MyDrive/Houses Dataset/314_bedroom.jpg', '/content/drive/MyDrive/Houses Dataset/314_frontal.jpg', '/content/drive/MyDrive/Houses Dataset/314_kitchen.jpg']\n",
            "['/content/drive/MyDrive/Houses Dataset/315_bathroom.jpg', '/content/drive/MyDrive/Houses Dataset/315_bedroom.jpg', '/content/drive/MyDrive/Houses Dataset/315_frontal.jpg', '/content/drive/MyDrive/Houses Dataset/315_kitchen.jpg']\n",
            "['/content/drive/MyDrive/Houses Dataset/316_bathroom.jpg', '/content/drive/MyDrive/Houses Dataset/316_bedroom.jpg', '/content/drive/MyDrive/Houses Dataset/316_frontal.jpg', '/content/drive/MyDrive/Houses Dataset/316_kitchen.jpg']\n",
            "['/content/drive/MyDrive/Houses Dataset/317_bathroom.jpg', '/content/drive/MyDrive/Houses Dataset/317_bedroom.jpg', '/content/drive/MyDrive/Houses Dataset/317_frontal.jpg', '/content/drive/MyDrive/Houses Dataset/317_kitchen.jpg']\n",
            "['/content/drive/MyDrive/Houses Dataset/318_bathroom.jpg', '/content/drive/MyDrive/Houses Dataset/318_bedroom.jpg', '/content/drive/MyDrive/Houses Dataset/318_frontal.jpg', '/content/drive/MyDrive/Houses Dataset/318_kitchen.jpg']\n",
            "['/content/drive/MyDrive/Houses Dataset/319_bathroom.jpg', '/content/drive/MyDrive/Houses Dataset/319_bedroom.jpg', '/content/drive/MyDrive/Houses Dataset/319_frontal.jpg', '/content/drive/MyDrive/Houses Dataset/319_kitchen.jpg']\n",
            "['/content/drive/MyDrive/Houses Dataset/320_bathroom.jpg', '/content/drive/MyDrive/Houses Dataset/320_bedroom.jpg', '/content/drive/MyDrive/Houses Dataset/320_frontal.jpg', '/content/drive/MyDrive/Houses Dataset/320_kitchen.jpg']\n",
            "['/content/drive/MyDrive/Houses Dataset/321_bathroom.jpg', '/content/drive/MyDrive/Houses Dataset/321_bedroom.jpg', '/content/drive/MyDrive/Houses Dataset/321_frontal.jpg', '/content/drive/MyDrive/Houses Dataset/321_kitchen.jpg']\n",
            "['/content/drive/MyDrive/Houses Dataset/322_bathroom.jpg', '/content/drive/MyDrive/Houses Dataset/322_bedroom.jpg', '/content/drive/MyDrive/Houses Dataset/322_frontal.jpg', '/content/drive/MyDrive/Houses Dataset/322_kitchen.jpg']\n",
            "['/content/drive/MyDrive/Houses Dataset/323_bathroom.jpg', '/content/drive/MyDrive/Houses Dataset/323_bedroom.jpg', '/content/drive/MyDrive/Houses Dataset/323_frontal.jpg', '/content/drive/MyDrive/Houses Dataset/323_kitchen.jpg']\n",
            "['/content/drive/MyDrive/Houses Dataset/324_bathroom.jpg', '/content/drive/MyDrive/Houses Dataset/324_bedroom.jpg', '/content/drive/MyDrive/Houses Dataset/324_frontal.jpg', '/content/drive/MyDrive/Houses Dataset/324_kitchen.jpg']\n",
            "['/content/drive/MyDrive/Houses Dataset/325_bathroom.jpg', '/content/drive/MyDrive/Houses Dataset/325_bedroom.jpg', '/content/drive/MyDrive/Houses Dataset/325_frontal.jpg', '/content/drive/MyDrive/Houses Dataset/325_kitchen.jpg']\n",
            "['/content/drive/MyDrive/Houses Dataset/326_bathroom.jpg', '/content/drive/MyDrive/Houses Dataset/326_bedroom.jpg', '/content/drive/MyDrive/Houses Dataset/326_frontal.jpg', '/content/drive/MyDrive/Houses Dataset/326_kitchen.jpg']\n",
            "['/content/drive/MyDrive/Houses Dataset/327_bathroom.jpg', '/content/drive/MyDrive/Houses Dataset/327_bedroom.jpg', '/content/drive/MyDrive/Houses Dataset/327_frontal.jpg', '/content/drive/MyDrive/Houses Dataset/327_kitchen.jpg']\n",
            "['/content/drive/MyDrive/Houses Dataset/328_bathroom.jpg', '/content/drive/MyDrive/Houses Dataset/328_bedroom.jpg', '/content/drive/MyDrive/Houses Dataset/328_frontal.jpg', '/content/drive/MyDrive/Houses Dataset/328_kitchen.jpg']\n",
            "['/content/drive/MyDrive/Houses Dataset/329_bathroom.jpg', '/content/drive/MyDrive/Houses Dataset/329_bedroom.jpg', '/content/drive/MyDrive/Houses Dataset/329_frontal.jpg', '/content/drive/MyDrive/Houses Dataset/329_kitchen.jpg']\n",
            "['/content/drive/MyDrive/Houses Dataset/330_bathroom.jpg', '/content/drive/MyDrive/Houses Dataset/330_bedroom.jpg', '/content/drive/MyDrive/Houses Dataset/330_frontal.jpg', '/content/drive/MyDrive/Houses Dataset/330_kitchen.jpg']\n",
            "['/content/drive/MyDrive/Houses Dataset/331_bathroom.jpg', '/content/drive/MyDrive/Houses Dataset/331_bedroom.jpg', '/content/drive/MyDrive/Houses Dataset/331_frontal.jpg', '/content/drive/MyDrive/Houses Dataset/331_kitchen.jpg']\n",
            "['/content/drive/MyDrive/Houses Dataset/332_bathroom.jpg', '/content/drive/MyDrive/Houses Dataset/332_bedroom.jpg', '/content/drive/MyDrive/Houses Dataset/332_frontal.jpg', '/content/drive/MyDrive/Houses Dataset/332_kitchen.jpg']\n",
            "['/content/drive/MyDrive/Houses Dataset/333_bathroom.jpg', '/content/drive/MyDrive/Houses Dataset/333_bedroom.jpg', '/content/drive/MyDrive/Houses Dataset/333_frontal.jpg', '/content/drive/MyDrive/Houses Dataset/333_kitchen.jpg']\n",
            "['/content/drive/MyDrive/Houses Dataset/334_bathroom.jpg', '/content/drive/MyDrive/Houses Dataset/334_bedroom.jpg', '/content/drive/MyDrive/Houses Dataset/334_frontal.jpg', '/content/drive/MyDrive/Houses Dataset/334_kitchen.jpg']\n",
            "['/content/drive/MyDrive/Houses Dataset/335_bathroom.jpg', '/content/drive/MyDrive/Houses Dataset/335_bedroom.jpg', '/content/drive/MyDrive/Houses Dataset/335_frontal.jpg', '/content/drive/MyDrive/Houses Dataset/335_kitchen.jpg']\n",
            "['/content/drive/MyDrive/Houses Dataset/336_bathroom.jpg', '/content/drive/MyDrive/Houses Dataset/336_bedroom.jpg', '/content/drive/MyDrive/Houses Dataset/336_frontal.jpg', '/content/drive/MyDrive/Houses Dataset/336_kitchen.jpg']\n",
            "['/content/drive/MyDrive/Houses Dataset/337_bathroom.jpg', '/content/drive/MyDrive/Houses Dataset/337_bedroom.jpg', '/content/drive/MyDrive/Houses Dataset/337_frontal.jpg', '/content/drive/MyDrive/Houses Dataset/337_kitchen.jpg']\n",
            "['/content/drive/MyDrive/Houses Dataset/338_bathroom.jpg', '/content/drive/MyDrive/Houses Dataset/338_bedroom.jpg', '/content/drive/MyDrive/Houses Dataset/338_frontal.jpg', '/content/drive/MyDrive/Houses Dataset/338_kitchen.jpg']\n",
            "['/content/drive/MyDrive/Houses Dataset/339_bathroom.jpg', '/content/drive/MyDrive/Houses Dataset/339_bedroom.jpg', '/content/drive/MyDrive/Houses Dataset/339_frontal.jpg', '/content/drive/MyDrive/Houses Dataset/339_kitchen.jpg']\n",
            "['/content/drive/MyDrive/Houses Dataset/340_bathroom.jpg', '/content/drive/MyDrive/Houses Dataset/340_bedroom.jpg', '/content/drive/MyDrive/Houses Dataset/340_frontal.jpg', '/content/drive/MyDrive/Houses Dataset/340_kitchen.jpg']\n",
            "['/content/drive/MyDrive/Houses Dataset/341_bathroom.jpg', '/content/drive/MyDrive/Houses Dataset/341_bedroom.jpg', '/content/drive/MyDrive/Houses Dataset/341_frontal.jpg', '/content/drive/MyDrive/Houses Dataset/341_kitchen.jpg']\n",
            "['/content/drive/MyDrive/Houses Dataset/342_bathroom.jpg', '/content/drive/MyDrive/Houses Dataset/342_bedroom.jpg', '/content/drive/MyDrive/Houses Dataset/342_frontal.jpg', '/content/drive/MyDrive/Houses Dataset/342_kitchen.jpg']\n",
            "['/content/drive/MyDrive/Houses Dataset/343_bathroom.jpg', '/content/drive/MyDrive/Houses Dataset/343_bedroom.jpg', '/content/drive/MyDrive/Houses Dataset/343_frontal.jpg', '/content/drive/MyDrive/Houses Dataset/343_kitchen.jpg']\n",
            "['/content/drive/MyDrive/Houses Dataset/344_bathroom.jpg', '/content/drive/MyDrive/Houses Dataset/344_bedroom.jpg', '/content/drive/MyDrive/Houses Dataset/344_frontal.jpg', '/content/drive/MyDrive/Houses Dataset/344_kitchen.jpg']\n",
            "['/content/drive/MyDrive/Houses Dataset/345_bathroom.jpg', '/content/drive/MyDrive/Houses Dataset/345_bedroom.jpg', '/content/drive/MyDrive/Houses Dataset/345_frontal.jpg', '/content/drive/MyDrive/Houses Dataset/345_kitchen.jpg']\n",
            "['/content/drive/MyDrive/Houses Dataset/346_bathroom.jpg', '/content/drive/MyDrive/Houses Dataset/346_bedroom.jpg', '/content/drive/MyDrive/Houses Dataset/346_frontal.jpg', '/content/drive/MyDrive/Houses Dataset/346_kitchen.jpg']\n",
            "['/content/drive/MyDrive/Houses Dataset/347_bathroom.jpg', '/content/drive/MyDrive/Houses Dataset/347_bedroom.jpg', '/content/drive/MyDrive/Houses Dataset/347_frontal.jpg', '/content/drive/MyDrive/Houses Dataset/347_kitchen.jpg']\n",
            "['/content/drive/MyDrive/Houses Dataset/348_bathroom.jpg', '/content/drive/MyDrive/Houses Dataset/348_bedroom.jpg', '/content/drive/MyDrive/Houses Dataset/348_frontal.jpg', '/content/drive/MyDrive/Houses Dataset/348_kitchen.jpg']\n",
            "['/content/drive/MyDrive/Houses Dataset/349_bathroom.jpg', '/content/drive/MyDrive/Houses Dataset/349_bedroom.jpg', '/content/drive/MyDrive/Houses Dataset/349_frontal.jpg', '/content/drive/MyDrive/Houses Dataset/349_kitchen.jpg']\n",
            "['/content/drive/MyDrive/Houses Dataset/350_bathroom.jpg', '/content/drive/MyDrive/Houses Dataset/350_bedroom.jpg', '/content/drive/MyDrive/Houses Dataset/350_frontal.jpg', '/content/drive/MyDrive/Houses Dataset/350_kitchen.jpg']\n",
            "['/content/drive/MyDrive/Houses Dataset/351_bathroom.jpg', '/content/drive/MyDrive/Houses Dataset/351_bedroom.jpg', '/content/drive/MyDrive/Houses Dataset/351_frontal.jpg', '/content/drive/MyDrive/Houses Dataset/351_kitchen.jpg']\n",
            "['/content/drive/MyDrive/Houses Dataset/352_bathroom.jpg', '/content/drive/MyDrive/Houses Dataset/352_bedroom.jpg', '/content/drive/MyDrive/Houses Dataset/352_frontal.jpg', '/content/drive/MyDrive/Houses Dataset/352_kitchen.jpg']\n",
            "['/content/drive/MyDrive/Houses Dataset/353_bathroom.jpg', '/content/drive/MyDrive/Houses Dataset/353_bedroom.jpg', '/content/drive/MyDrive/Houses Dataset/353_frontal.jpg', '/content/drive/MyDrive/Houses Dataset/353_kitchen.jpg']\n",
            "['/content/drive/MyDrive/Houses Dataset/354_bathroom.jpg', '/content/drive/MyDrive/Houses Dataset/354_bedroom.jpg', '/content/drive/MyDrive/Houses Dataset/354_frontal.jpg', '/content/drive/MyDrive/Houses Dataset/354_kitchen.jpg']\n",
            "['/content/drive/MyDrive/Houses Dataset/355_bathroom.jpg', '/content/drive/MyDrive/Houses Dataset/355_bedroom.jpg', '/content/drive/MyDrive/Houses Dataset/355_frontal.jpg', '/content/drive/MyDrive/Houses Dataset/355_kitchen.jpg']\n",
            "['/content/drive/MyDrive/Houses Dataset/356_bathroom.jpg', '/content/drive/MyDrive/Houses Dataset/356_bedroom.jpg', '/content/drive/MyDrive/Houses Dataset/356_frontal.jpg', '/content/drive/MyDrive/Houses Dataset/356_kitchen.jpg']\n",
            "['/content/drive/MyDrive/Houses Dataset/357_bathroom.jpg', '/content/drive/MyDrive/Houses Dataset/357_bedroom.jpg', '/content/drive/MyDrive/Houses Dataset/357_frontal.jpg', '/content/drive/MyDrive/Houses Dataset/357_kitchen.jpg']\n",
            "['/content/drive/MyDrive/Houses Dataset/358_bathroom.jpg', '/content/drive/MyDrive/Houses Dataset/358_bedroom.jpg', '/content/drive/MyDrive/Houses Dataset/358_frontal.jpg', '/content/drive/MyDrive/Houses Dataset/358_kitchen.jpg']\n",
            "['/content/drive/MyDrive/Houses Dataset/359_bathroom.jpg', '/content/drive/MyDrive/Houses Dataset/359_bedroom.jpg', '/content/drive/MyDrive/Houses Dataset/359_frontal.jpg', '/content/drive/MyDrive/Houses Dataset/359_kitchen.jpg']\n",
            "['/content/drive/MyDrive/Houses Dataset/360_bathroom.jpg', '/content/drive/MyDrive/Houses Dataset/360_bedroom.jpg', '/content/drive/MyDrive/Houses Dataset/360_frontal.jpg', '/content/drive/MyDrive/Houses Dataset/360_kitchen.jpg']\n",
            "['/content/drive/MyDrive/Houses Dataset/361_bathroom.jpg', '/content/drive/MyDrive/Houses Dataset/361_bedroom.jpg', '/content/drive/MyDrive/Houses Dataset/361_frontal.jpg', '/content/drive/MyDrive/Houses Dataset/361_kitchen.jpg']\n",
            "['/content/drive/MyDrive/Houses Dataset/362_bathroom.jpg', '/content/drive/MyDrive/Houses Dataset/362_bedroom.jpg', '/content/drive/MyDrive/Houses Dataset/362_frontal.jpg', '/content/drive/MyDrive/Houses Dataset/362_kitchen.jpg']\n",
            "['/content/drive/MyDrive/Houses Dataset/363_bathroom.jpg', '/content/drive/MyDrive/Houses Dataset/363_bedroom.jpg', '/content/drive/MyDrive/Houses Dataset/363_frontal.jpg', '/content/drive/MyDrive/Houses Dataset/363_kitchen.jpg']\n",
            "['/content/drive/MyDrive/Houses Dataset/364_bathroom.jpg', '/content/drive/MyDrive/Houses Dataset/364_bedroom.jpg', '/content/drive/MyDrive/Houses Dataset/364_frontal.jpg', '/content/drive/MyDrive/Houses Dataset/364_kitchen.jpg']\n",
            "['/content/drive/MyDrive/Houses Dataset/365_bathroom.jpg', '/content/drive/MyDrive/Houses Dataset/365_bedroom.jpg', '/content/drive/MyDrive/Houses Dataset/365_frontal.jpg', '/content/drive/MyDrive/Houses Dataset/365_kitchen.jpg']\n",
            "['/content/drive/MyDrive/Houses Dataset/366_bathroom.jpg', '/content/drive/MyDrive/Houses Dataset/366_bedroom.jpg', '/content/drive/MyDrive/Houses Dataset/366_frontal.jpg', '/content/drive/MyDrive/Houses Dataset/366_kitchen.jpg']\n",
            "['/content/drive/MyDrive/Houses Dataset/367_bathroom.jpg', '/content/drive/MyDrive/Houses Dataset/367_bedroom.jpg', '/content/drive/MyDrive/Houses Dataset/367_frontal.jpg', '/content/drive/MyDrive/Houses Dataset/367_kitchen.jpg']\n",
            "['/content/drive/MyDrive/Houses Dataset/368_bathroom.jpg', '/content/drive/MyDrive/Houses Dataset/368_bedroom.jpg', '/content/drive/MyDrive/Houses Dataset/368_frontal.jpg', '/content/drive/MyDrive/Houses Dataset/368_kitchen.jpg']\n",
            "['/content/drive/MyDrive/Houses Dataset/369_bathroom.jpg', '/content/drive/MyDrive/Houses Dataset/369_bedroom.jpg', '/content/drive/MyDrive/Houses Dataset/369_frontal.jpg', '/content/drive/MyDrive/Houses Dataset/369_kitchen.jpg']\n",
            "['/content/drive/MyDrive/Houses Dataset/370_bathroom.jpg', '/content/drive/MyDrive/Houses Dataset/370_bedroom.jpg', '/content/drive/MyDrive/Houses Dataset/370_frontal.jpg', '/content/drive/MyDrive/Houses Dataset/370_kitchen.jpg']\n",
            "['/content/drive/MyDrive/Houses Dataset/371_bathroom.jpg', '/content/drive/MyDrive/Houses Dataset/371_bedroom.jpg', '/content/drive/MyDrive/Houses Dataset/371_frontal.jpg', '/content/drive/MyDrive/Houses Dataset/371_kitchen.jpg']\n",
            "['/content/drive/MyDrive/Houses Dataset/372_bathroom.jpg', '/content/drive/MyDrive/Houses Dataset/372_bedroom.jpg', '/content/drive/MyDrive/Houses Dataset/372_frontal.jpg', '/content/drive/MyDrive/Houses Dataset/372_kitchen.jpg']\n",
            "['/content/drive/MyDrive/Houses Dataset/373_bathroom.jpg', '/content/drive/MyDrive/Houses Dataset/373_bedroom.jpg', '/content/drive/MyDrive/Houses Dataset/373_frontal.jpg', '/content/drive/MyDrive/Houses Dataset/373_kitchen.jpg']\n",
            "['/content/drive/MyDrive/Houses Dataset/374_bathroom.jpg', '/content/drive/MyDrive/Houses Dataset/374_bedroom.jpg', '/content/drive/MyDrive/Houses Dataset/374_frontal.jpg', '/content/drive/MyDrive/Houses Dataset/374_kitchen.jpg']\n",
            "['/content/drive/MyDrive/Houses Dataset/375_bathroom.jpg', '/content/drive/MyDrive/Houses Dataset/375_bedroom.jpg', '/content/drive/MyDrive/Houses Dataset/375_frontal.jpg', '/content/drive/MyDrive/Houses Dataset/375_kitchen.jpg']\n",
            "['/content/drive/MyDrive/Houses Dataset/376_bathroom.jpg', '/content/drive/MyDrive/Houses Dataset/376_bedroom.jpg', '/content/drive/MyDrive/Houses Dataset/376_frontal.jpg', '/content/drive/MyDrive/Houses Dataset/376_kitchen.jpg']\n",
            "['/content/drive/MyDrive/Houses Dataset/377_bathroom.jpg', '/content/drive/MyDrive/Houses Dataset/377_bedroom.jpg', '/content/drive/MyDrive/Houses Dataset/377_frontal.jpg', '/content/drive/MyDrive/Houses Dataset/377_kitchen.jpg']\n",
            "['/content/drive/MyDrive/Houses Dataset/378_bathroom.jpg', '/content/drive/MyDrive/Houses Dataset/378_bedroom.jpg', '/content/drive/MyDrive/Houses Dataset/378_frontal.jpg', '/content/drive/MyDrive/Houses Dataset/378_kitchen.jpg']\n",
            "['/content/drive/MyDrive/Houses Dataset/379_bathroom.jpg', '/content/drive/MyDrive/Houses Dataset/379_bedroom.jpg', '/content/drive/MyDrive/Houses Dataset/379_frontal.jpg', '/content/drive/MyDrive/Houses Dataset/379_kitchen.jpg']\n",
            "['/content/drive/MyDrive/Houses Dataset/380_bathroom.jpg', '/content/drive/MyDrive/Houses Dataset/380_bedroom.jpg', '/content/drive/MyDrive/Houses Dataset/380_frontal.jpg', '/content/drive/MyDrive/Houses Dataset/380_kitchen.jpg']\n",
            "['/content/drive/MyDrive/Houses Dataset/381_bathroom.jpg', '/content/drive/MyDrive/Houses Dataset/381_bedroom.jpg', '/content/drive/MyDrive/Houses Dataset/381_frontal.jpg', '/content/drive/MyDrive/Houses Dataset/381_kitchen.jpg']\n",
            "['/content/drive/MyDrive/Houses Dataset/382_bathroom.jpg', '/content/drive/MyDrive/Houses Dataset/382_bedroom.jpg', '/content/drive/MyDrive/Houses Dataset/382_frontal.jpg', '/content/drive/MyDrive/Houses Dataset/382_kitchen.jpg']\n",
            "['/content/drive/MyDrive/Houses Dataset/383_bathroom.jpg', '/content/drive/MyDrive/Houses Dataset/383_bedroom.jpg', '/content/drive/MyDrive/Houses Dataset/383_frontal.jpg', '/content/drive/MyDrive/Houses Dataset/383_kitchen.jpg']\n",
            "['/content/drive/MyDrive/Houses Dataset/384_bathroom.jpg', '/content/drive/MyDrive/Houses Dataset/384_bedroom.jpg', '/content/drive/MyDrive/Houses Dataset/384_frontal.jpg', '/content/drive/MyDrive/Houses Dataset/384_kitchen.jpg']\n",
            "['/content/drive/MyDrive/Houses Dataset/385_bathroom.jpg', '/content/drive/MyDrive/Houses Dataset/385_bedroom.jpg', '/content/drive/MyDrive/Houses Dataset/385_frontal.jpg', '/content/drive/MyDrive/Houses Dataset/385_kitchen.jpg']\n",
            "['/content/drive/MyDrive/Houses Dataset/386_bathroom.jpg', '/content/drive/MyDrive/Houses Dataset/386_bedroom.jpg', '/content/drive/MyDrive/Houses Dataset/386_frontal.jpg', '/content/drive/MyDrive/Houses Dataset/386_kitchen.jpg']\n",
            "['/content/drive/MyDrive/Houses Dataset/387_bathroom.jpg', '/content/drive/MyDrive/Houses Dataset/387_bedroom.jpg', '/content/drive/MyDrive/Houses Dataset/387_frontal.jpg', '/content/drive/MyDrive/Houses Dataset/387_kitchen.jpg']\n",
            "['/content/drive/MyDrive/Houses Dataset/388_bathroom.jpg', '/content/drive/MyDrive/Houses Dataset/388_bedroom.jpg', '/content/drive/MyDrive/Houses Dataset/388_frontal.jpg', '/content/drive/MyDrive/Houses Dataset/388_kitchen.jpg']\n",
            "['/content/drive/MyDrive/Houses Dataset/389_bathroom.jpg', '/content/drive/MyDrive/Houses Dataset/389_bedroom.jpg', '/content/drive/MyDrive/Houses Dataset/389_frontal.jpg', '/content/drive/MyDrive/Houses Dataset/389_kitchen.jpg']\n",
            "['/content/drive/MyDrive/Houses Dataset/390_bathroom.jpg', '/content/drive/MyDrive/Houses Dataset/390_bedroom.jpg', '/content/drive/MyDrive/Houses Dataset/390_frontal.jpg', '/content/drive/MyDrive/Houses Dataset/390_kitchen.jpg']\n",
            "['/content/drive/MyDrive/Houses Dataset/391_bathroom.jpg', '/content/drive/MyDrive/Houses Dataset/391_bedroom.jpg', '/content/drive/MyDrive/Houses Dataset/391_frontal.jpg', '/content/drive/MyDrive/Houses Dataset/391_kitchen.jpg']\n",
            "['/content/drive/MyDrive/Houses Dataset/392_bathroom.jpg', '/content/drive/MyDrive/Houses Dataset/392_bedroom.jpg', '/content/drive/MyDrive/Houses Dataset/392_frontal.jpg', '/content/drive/MyDrive/Houses Dataset/392_kitchen.jpg']\n",
            "['/content/drive/MyDrive/Houses Dataset/393_bathroom.jpg', '/content/drive/MyDrive/Houses Dataset/393_bedroom.jpg', '/content/drive/MyDrive/Houses Dataset/393_frontal.jpg', '/content/drive/MyDrive/Houses Dataset/393_kitchen.jpg']\n",
            "['/content/drive/MyDrive/Houses Dataset/394_bathroom.jpg', '/content/drive/MyDrive/Houses Dataset/394_bedroom.jpg', '/content/drive/MyDrive/Houses Dataset/394_frontal.jpg', '/content/drive/MyDrive/Houses Dataset/394_kitchen.jpg']\n",
            "['/content/drive/MyDrive/Houses Dataset/395_bathroom.jpg', '/content/drive/MyDrive/Houses Dataset/395_bedroom.jpg', '/content/drive/MyDrive/Houses Dataset/395_frontal.jpg', '/content/drive/MyDrive/Houses Dataset/395_kitchen.jpg']\n",
            "['/content/drive/MyDrive/Houses Dataset/396_bathroom.jpg', '/content/drive/MyDrive/Houses Dataset/396_bedroom.jpg', '/content/drive/MyDrive/Houses Dataset/396_frontal.jpg', '/content/drive/MyDrive/Houses Dataset/396_kitchen.jpg']\n",
            "['/content/drive/MyDrive/Houses Dataset/397_bathroom.jpg', '/content/drive/MyDrive/Houses Dataset/397_bedroom.jpg', '/content/drive/MyDrive/Houses Dataset/397_frontal.jpg', '/content/drive/MyDrive/Houses Dataset/397_kitchen.jpg']\n",
            "['/content/drive/MyDrive/Houses Dataset/398_bathroom.jpg', '/content/drive/MyDrive/Houses Dataset/398_bedroom.jpg', '/content/drive/MyDrive/Houses Dataset/398_frontal.jpg', '/content/drive/MyDrive/Houses Dataset/398_kitchen.jpg']\n",
            "['/content/drive/MyDrive/Houses Dataset/399_bathroom.jpg', '/content/drive/MyDrive/Houses Dataset/399_bedroom.jpg', '/content/drive/MyDrive/Houses Dataset/399_frontal.jpg', '/content/drive/MyDrive/Houses Dataset/399_kitchen.jpg']\n",
            "['/content/drive/MyDrive/Houses Dataset/400_bathroom.jpg', '/content/drive/MyDrive/Houses Dataset/400_bedroom.jpg', '/content/drive/MyDrive/Houses Dataset/400_frontal.jpg', '/content/drive/MyDrive/Houses Dataset/400_kitchen.jpg']\n",
            "['/content/drive/MyDrive/Houses Dataset/401_bathroom.jpg', '/content/drive/MyDrive/Houses Dataset/401_bedroom.jpg', '/content/drive/MyDrive/Houses Dataset/401_frontal.jpg', '/content/drive/MyDrive/Houses Dataset/401_kitchen.jpg']\n",
            "['/content/drive/MyDrive/Houses Dataset/402_bathroom.jpg', '/content/drive/MyDrive/Houses Dataset/402_bedroom.jpg', '/content/drive/MyDrive/Houses Dataset/402_frontal.jpg', '/content/drive/MyDrive/Houses Dataset/402_kitchen.jpg']\n",
            "['/content/drive/MyDrive/Houses Dataset/403_bathroom.jpg', '/content/drive/MyDrive/Houses Dataset/403_bedroom.jpg', '/content/drive/MyDrive/Houses Dataset/403_frontal.jpg', '/content/drive/MyDrive/Houses Dataset/403_kitchen.jpg']\n",
            "['/content/drive/MyDrive/Houses Dataset/404_bathroom.jpg', '/content/drive/MyDrive/Houses Dataset/404_bedroom.jpg', '/content/drive/MyDrive/Houses Dataset/404_frontal.jpg', '/content/drive/MyDrive/Houses Dataset/404_kitchen.jpg']\n",
            "['/content/drive/MyDrive/Houses Dataset/405_bathroom.jpg', '/content/drive/MyDrive/Houses Dataset/405_bedroom.jpg', '/content/drive/MyDrive/Houses Dataset/405_frontal.jpg', '/content/drive/MyDrive/Houses Dataset/405_kitchen.jpg']\n",
            "['/content/drive/MyDrive/Houses Dataset/406_bathroom.jpg', '/content/drive/MyDrive/Houses Dataset/406_bedroom.jpg', '/content/drive/MyDrive/Houses Dataset/406_frontal.jpg', '/content/drive/MyDrive/Houses Dataset/406_kitchen.jpg']\n",
            "['/content/drive/MyDrive/Houses Dataset/407_bathroom.jpg', '/content/drive/MyDrive/Houses Dataset/407_bedroom.jpg', '/content/drive/MyDrive/Houses Dataset/407_frontal.jpg', '/content/drive/MyDrive/Houses Dataset/407_kitchen.jpg']\n",
            "['/content/drive/MyDrive/Houses Dataset/408_bathroom.jpg', '/content/drive/MyDrive/Houses Dataset/408_bedroom.jpg', '/content/drive/MyDrive/Houses Dataset/408_frontal.jpg', '/content/drive/MyDrive/Houses Dataset/408_kitchen.jpg']\n",
            "['/content/drive/MyDrive/Houses Dataset/409_bathroom.jpg', '/content/drive/MyDrive/Houses Dataset/409_bedroom.jpg', '/content/drive/MyDrive/Houses Dataset/409_frontal.jpg', '/content/drive/MyDrive/Houses Dataset/409_kitchen.jpg']\n",
            "['/content/drive/MyDrive/Houses Dataset/410_bathroom.jpg', '/content/drive/MyDrive/Houses Dataset/410_bedroom.jpg', '/content/drive/MyDrive/Houses Dataset/410_frontal.jpg', '/content/drive/MyDrive/Houses Dataset/410_kitchen.jpg']\n",
            "['/content/drive/MyDrive/Houses Dataset/411_bathroom.jpg', '/content/drive/MyDrive/Houses Dataset/411_bedroom.jpg', '/content/drive/MyDrive/Houses Dataset/411_frontal.jpg', '/content/drive/MyDrive/Houses Dataset/411_kitchen.jpg']\n",
            "['/content/drive/MyDrive/Houses Dataset/412_bathroom.jpg', '/content/drive/MyDrive/Houses Dataset/412_bedroom.jpg', '/content/drive/MyDrive/Houses Dataset/412_frontal.jpg', '/content/drive/MyDrive/Houses Dataset/412_kitchen.jpg']\n",
            "['/content/drive/MyDrive/Houses Dataset/413_bathroom.jpg', '/content/drive/MyDrive/Houses Dataset/413_bedroom.jpg', '/content/drive/MyDrive/Houses Dataset/413_frontal.jpg', '/content/drive/MyDrive/Houses Dataset/413_kitchen.jpg']\n",
            "['/content/drive/MyDrive/Houses Dataset/414_bathroom.jpg', '/content/drive/MyDrive/Houses Dataset/414_bedroom.jpg', '/content/drive/MyDrive/Houses Dataset/414_frontal.jpg', '/content/drive/MyDrive/Houses Dataset/414_kitchen.jpg']\n",
            "['/content/drive/MyDrive/Houses Dataset/415_bathroom.jpg', '/content/drive/MyDrive/Houses Dataset/415_bedroom.jpg', '/content/drive/MyDrive/Houses Dataset/415_frontal.jpg', '/content/drive/MyDrive/Houses Dataset/415_kitchen.jpg']\n",
            "['/content/drive/MyDrive/Houses Dataset/416_bathroom.jpg', '/content/drive/MyDrive/Houses Dataset/416_bedroom.jpg', '/content/drive/MyDrive/Houses Dataset/416_frontal.jpg', '/content/drive/MyDrive/Houses Dataset/416_kitchen.jpg']\n",
            "['/content/drive/MyDrive/Houses Dataset/417_bathroom.jpg', '/content/drive/MyDrive/Houses Dataset/417_bedroom.jpg', '/content/drive/MyDrive/Houses Dataset/417_frontal.jpg', '/content/drive/MyDrive/Houses Dataset/417_kitchen.jpg']\n",
            "['/content/drive/MyDrive/Houses Dataset/418_bathroom.jpg', '/content/drive/MyDrive/Houses Dataset/418_bedroom.jpg', '/content/drive/MyDrive/Houses Dataset/418_frontal.jpg', '/content/drive/MyDrive/Houses Dataset/418_kitchen.jpg']\n",
            "['/content/drive/MyDrive/Houses Dataset/419_bathroom.jpg', '/content/drive/MyDrive/Houses Dataset/419_bedroom.jpg', '/content/drive/MyDrive/Houses Dataset/419_frontal.jpg', '/content/drive/MyDrive/Houses Dataset/419_kitchen.jpg']\n",
            "['/content/drive/MyDrive/Houses Dataset/420_bathroom.jpg', '/content/drive/MyDrive/Houses Dataset/420_bedroom.jpg', '/content/drive/MyDrive/Houses Dataset/420_frontal.jpg', '/content/drive/MyDrive/Houses Dataset/420_kitchen.jpg']\n",
            "['/content/drive/MyDrive/Houses Dataset/421_bathroom.jpg', '/content/drive/MyDrive/Houses Dataset/421_bedroom.jpg', '/content/drive/MyDrive/Houses Dataset/421_frontal.jpg', '/content/drive/MyDrive/Houses Dataset/421_kitchen.jpg']\n",
            "['/content/drive/MyDrive/Houses Dataset/422_bathroom.jpg', '/content/drive/MyDrive/Houses Dataset/422_bedroom.jpg', '/content/drive/MyDrive/Houses Dataset/422_frontal.jpg', '/content/drive/MyDrive/Houses Dataset/422_kitchen.jpg']\n",
            "['/content/drive/MyDrive/Houses Dataset/423_bathroom.jpg', '/content/drive/MyDrive/Houses Dataset/423_bedroom.jpg', '/content/drive/MyDrive/Houses Dataset/423_frontal.jpg', '/content/drive/MyDrive/Houses Dataset/423_kitchen.jpg']\n",
            "['/content/drive/MyDrive/Houses Dataset/424_bathroom.jpg', '/content/drive/MyDrive/Houses Dataset/424_bedroom.jpg', '/content/drive/MyDrive/Houses Dataset/424_frontal.jpg', '/content/drive/MyDrive/Houses Dataset/424_kitchen.jpg']\n",
            "['/content/drive/MyDrive/Houses Dataset/425_bathroom.jpg', '/content/drive/MyDrive/Houses Dataset/425_bedroom.jpg', '/content/drive/MyDrive/Houses Dataset/425_frontal.jpg', '/content/drive/MyDrive/Houses Dataset/425_kitchen.jpg']\n",
            "['/content/drive/MyDrive/Houses Dataset/426_bathroom.jpg', '/content/drive/MyDrive/Houses Dataset/426_bedroom.jpg', '/content/drive/MyDrive/Houses Dataset/426_frontal.jpg', '/content/drive/MyDrive/Houses Dataset/426_kitchen.jpg']\n",
            "['/content/drive/MyDrive/Houses Dataset/427_bathroom.jpg', '/content/drive/MyDrive/Houses Dataset/427_bedroom.jpg', '/content/drive/MyDrive/Houses Dataset/427_frontal.jpg', '/content/drive/MyDrive/Houses Dataset/427_kitchen.jpg']\n",
            "['/content/drive/MyDrive/Houses Dataset/428_bathroom.jpg', '/content/drive/MyDrive/Houses Dataset/428_bedroom.jpg', '/content/drive/MyDrive/Houses Dataset/428_frontal.jpg', '/content/drive/MyDrive/Houses Dataset/428_kitchen.jpg']\n",
            "['/content/drive/MyDrive/Houses Dataset/429_bathroom.jpg', '/content/drive/MyDrive/Houses Dataset/429_bedroom.jpg', '/content/drive/MyDrive/Houses Dataset/429_frontal.jpg', '/content/drive/MyDrive/Houses Dataset/429_kitchen.jpg']\n",
            "['/content/drive/MyDrive/Houses Dataset/430_bathroom.jpg', '/content/drive/MyDrive/Houses Dataset/430_bedroom.jpg', '/content/drive/MyDrive/Houses Dataset/430_frontal.jpg', '/content/drive/MyDrive/Houses Dataset/430_kitchen.jpg']\n",
            "['/content/drive/MyDrive/Houses Dataset/431_bathroom.jpg', '/content/drive/MyDrive/Houses Dataset/431_bedroom.jpg', '/content/drive/MyDrive/Houses Dataset/431_frontal.jpg', '/content/drive/MyDrive/Houses Dataset/431_kitchen.jpg']\n",
            "['/content/drive/MyDrive/Houses Dataset/432_bathroom.jpg', '/content/drive/MyDrive/Houses Dataset/432_bedroom.jpg', '/content/drive/MyDrive/Houses Dataset/432_frontal.jpg', '/content/drive/MyDrive/Houses Dataset/432_kitchen.jpg']\n",
            "['/content/drive/MyDrive/Houses Dataset/433_bathroom.jpg', '/content/drive/MyDrive/Houses Dataset/433_bedroom.jpg', '/content/drive/MyDrive/Houses Dataset/433_frontal.jpg', '/content/drive/MyDrive/Houses Dataset/433_kitchen.jpg']\n",
            "['/content/drive/MyDrive/Houses Dataset/434_bathroom.jpg', '/content/drive/MyDrive/Houses Dataset/434_bedroom.jpg', '/content/drive/MyDrive/Houses Dataset/434_frontal.jpg', '/content/drive/MyDrive/Houses Dataset/434_kitchen.jpg']\n",
            "['/content/drive/MyDrive/Houses Dataset/435_bathroom.jpg', '/content/drive/MyDrive/Houses Dataset/435_bedroom.jpg', '/content/drive/MyDrive/Houses Dataset/435_frontal.jpg', '/content/drive/MyDrive/Houses Dataset/435_kitchen.jpg']\n",
            "['/content/drive/MyDrive/Houses Dataset/436_bathroom.jpg', '/content/drive/MyDrive/Houses Dataset/436_bedroom.jpg', '/content/drive/MyDrive/Houses Dataset/436_frontal.jpg', '/content/drive/MyDrive/Houses Dataset/436_kitchen.jpg']\n",
            "['/content/drive/MyDrive/Houses Dataset/437_bathroom.jpg', '/content/drive/MyDrive/Houses Dataset/437_bedroom.jpg', '/content/drive/MyDrive/Houses Dataset/437_frontal.jpg', '/content/drive/MyDrive/Houses Dataset/437_kitchen.jpg']\n",
            "['/content/drive/MyDrive/Houses Dataset/438_bathroom.jpg', '/content/drive/MyDrive/Houses Dataset/438_bedroom.jpg', '/content/drive/MyDrive/Houses Dataset/438_frontal.jpg', '/content/drive/MyDrive/Houses Dataset/438_kitchen.jpg']\n",
            "['/content/drive/MyDrive/Houses Dataset/439_bathroom.jpg', '/content/drive/MyDrive/Houses Dataset/439_bedroom.jpg', '/content/drive/MyDrive/Houses Dataset/439_frontal.jpg', '/content/drive/MyDrive/Houses Dataset/439_kitchen.jpg']\n",
            "['/content/drive/MyDrive/Houses Dataset/440_bathroom.jpg', '/content/drive/MyDrive/Houses Dataset/440_bedroom.jpg', '/content/drive/MyDrive/Houses Dataset/440_frontal.jpg', '/content/drive/MyDrive/Houses Dataset/440_kitchen.jpg']\n",
            "['/content/drive/MyDrive/Houses Dataset/441_bathroom.jpg', '/content/drive/MyDrive/Houses Dataset/441_bedroom.jpg', '/content/drive/MyDrive/Houses Dataset/441_frontal.jpg', '/content/drive/MyDrive/Houses Dataset/441_kitchen.jpg']\n",
            "['/content/drive/MyDrive/Houses Dataset/442_bathroom.jpg', '/content/drive/MyDrive/Houses Dataset/442_bedroom.jpg', '/content/drive/MyDrive/Houses Dataset/442_frontal.jpg', '/content/drive/MyDrive/Houses Dataset/442_kitchen.jpg']\n",
            "['/content/drive/MyDrive/Houses Dataset/443_bathroom.jpg', '/content/drive/MyDrive/Houses Dataset/443_bedroom.jpg', '/content/drive/MyDrive/Houses Dataset/443_frontal.jpg', '/content/drive/MyDrive/Houses Dataset/443_kitchen.jpg']\n",
            "['/content/drive/MyDrive/Houses Dataset/444_bathroom.jpg', '/content/drive/MyDrive/Houses Dataset/444_bedroom.jpg', '/content/drive/MyDrive/Houses Dataset/444_frontal.jpg', '/content/drive/MyDrive/Houses Dataset/444_kitchen.jpg']\n",
            "['/content/drive/MyDrive/Houses Dataset/445_bathroom.jpg', '/content/drive/MyDrive/Houses Dataset/445_bedroom.jpg', '/content/drive/MyDrive/Houses Dataset/445_frontal.jpg', '/content/drive/MyDrive/Houses Dataset/445_kitchen.jpg']\n",
            "['/content/drive/MyDrive/Houses Dataset/446_bathroom.jpg', '/content/drive/MyDrive/Houses Dataset/446_bedroom.jpg', '/content/drive/MyDrive/Houses Dataset/446_frontal.jpg', '/content/drive/MyDrive/Houses Dataset/446_kitchen.jpg']\n",
            "['/content/drive/MyDrive/Houses Dataset/447_bathroom.jpg', '/content/drive/MyDrive/Houses Dataset/447_bedroom.jpg', '/content/drive/MyDrive/Houses Dataset/447_frontal.jpg', '/content/drive/MyDrive/Houses Dataset/447_kitchen.jpg']\n",
            "['/content/drive/MyDrive/Houses Dataset/448_bathroom.jpg', '/content/drive/MyDrive/Houses Dataset/448_bedroom.jpg', '/content/drive/MyDrive/Houses Dataset/448_frontal.jpg', '/content/drive/MyDrive/Houses Dataset/448_kitchen.jpg']\n",
            "['/content/drive/MyDrive/Houses Dataset/449_bathroom.jpg', '/content/drive/MyDrive/Houses Dataset/449_bedroom.jpg', '/content/drive/MyDrive/Houses Dataset/449_frontal.jpg', '/content/drive/MyDrive/Houses Dataset/449_kitchen.jpg']\n",
            "['/content/drive/MyDrive/Houses Dataset/450_bathroom.jpg', '/content/drive/MyDrive/Houses Dataset/450_bedroom.jpg', '/content/drive/MyDrive/Houses Dataset/450_frontal.jpg', '/content/drive/MyDrive/Houses Dataset/450_kitchen.jpg']\n",
            "['/content/drive/MyDrive/Houses Dataset/451_bathroom.jpg', '/content/drive/MyDrive/Houses Dataset/451_bedroom.jpg', '/content/drive/MyDrive/Houses Dataset/451_frontal.jpg', '/content/drive/MyDrive/Houses Dataset/451_kitchen.jpg']\n",
            "['/content/drive/MyDrive/Houses Dataset/452_bathroom.jpg', '/content/drive/MyDrive/Houses Dataset/452_bedroom.jpg', '/content/drive/MyDrive/Houses Dataset/452_frontal.jpg', '/content/drive/MyDrive/Houses Dataset/452_kitchen.jpg']\n",
            "['/content/drive/MyDrive/Houses Dataset/453_bathroom.jpg', '/content/drive/MyDrive/Houses Dataset/453_bedroom.jpg', '/content/drive/MyDrive/Houses Dataset/453_frontal.jpg', '/content/drive/MyDrive/Houses Dataset/453_kitchen.jpg']\n",
            "['/content/drive/MyDrive/Houses Dataset/454_bathroom.jpg', '/content/drive/MyDrive/Houses Dataset/454_bedroom.jpg', '/content/drive/MyDrive/Houses Dataset/454_frontal.jpg', '/content/drive/MyDrive/Houses Dataset/454_kitchen.jpg']\n",
            "['/content/drive/MyDrive/Houses Dataset/455_bathroom.jpg', '/content/drive/MyDrive/Houses Dataset/455_bedroom.jpg', '/content/drive/MyDrive/Houses Dataset/455_frontal.jpg', '/content/drive/MyDrive/Houses Dataset/455_kitchen.jpg']\n",
            "['/content/drive/MyDrive/Houses Dataset/456_bathroom.jpg', '/content/drive/MyDrive/Houses Dataset/456_bedroom.jpg', '/content/drive/MyDrive/Houses Dataset/456_frontal.jpg', '/content/drive/MyDrive/Houses Dataset/456_kitchen.jpg']\n",
            "['/content/drive/MyDrive/Houses Dataset/457_bathroom.jpg', '/content/drive/MyDrive/Houses Dataset/457_bedroom.jpg', '/content/drive/MyDrive/Houses Dataset/457_frontal.jpg', '/content/drive/MyDrive/Houses Dataset/457_kitchen.jpg']\n",
            "['/content/drive/MyDrive/Houses Dataset/458_bathroom.jpg', '/content/drive/MyDrive/Houses Dataset/458_bedroom.jpg', '/content/drive/MyDrive/Houses Dataset/458_frontal.jpg', '/content/drive/MyDrive/Houses Dataset/458_kitchen.jpg']\n",
            "['/content/drive/MyDrive/Houses Dataset/459_bathroom.jpg', '/content/drive/MyDrive/Houses Dataset/459_bedroom.jpg', '/content/drive/MyDrive/Houses Dataset/459_frontal.jpg', '/content/drive/MyDrive/Houses Dataset/459_kitchen.jpg']\n",
            "['/content/drive/MyDrive/Houses Dataset/460_bathroom.jpg', '/content/drive/MyDrive/Houses Dataset/460_bedroom.jpg', '/content/drive/MyDrive/Houses Dataset/460_frontal.jpg', '/content/drive/MyDrive/Houses Dataset/460_kitchen.jpg']\n",
            "['/content/drive/MyDrive/Houses Dataset/461_bathroom.jpg', '/content/drive/MyDrive/Houses Dataset/461_bedroom.jpg', '/content/drive/MyDrive/Houses Dataset/461_frontal.jpg', '/content/drive/MyDrive/Houses Dataset/461_kitchen.jpg']\n",
            "['/content/drive/MyDrive/Houses Dataset/462_bathroom.jpg', '/content/drive/MyDrive/Houses Dataset/462_bedroom.jpg', '/content/drive/MyDrive/Houses Dataset/462_frontal.jpg', '/content/drive/MyDrive/Houses Dataset/462_kitchen.jpg']\n",
            "['/content/drive/MyDrive/Houses Dataset/463_bathroom.jpg', '/content/drive/MyDrive/Houses Dataset/463_bedroom.jpg', '/content/drive/MyDrive/Houses Dataset/463_frontal.jpg', '/content/drive/MyDrive/Houses Dataset/463_kitchen.jpg']\n",
            "['/content/drive/MyDrive/Houses Dataset/464_bathroom.jpg', '/content/drive/MyDrive/Houses Dataset/464_bedroom.jpg', '/content/drive/MyDrive/Houses Dataset/464_frontal.jpg', '/content/drive/MyDrive/Houses Dataset/464_kitchen.jpg']\n",
            "['/content/drive/MyDrive/Houses Dataset/465_bathroom.jpg', '/content/drive/MyDrive/Houses Dataset/465_bedroom.jpg', '/content/drive/MyDrive/Houses Dataset/465_frontal.jpg', '/content/drive/MyDrive/Houses Dataset/465_kitchen.jpg']\n",
            "['/content/drive/MyDrive/Houses Dataset/466_bathroom.jpg', '/content/drive/MyDrive/Houses Dataset/466_bedroom.jpg', '/content/drive/MyDrive/Houses Dataset/466_frontal.jpg', '/content/drive/MyDrive/Houses Dataset/466_kitchen.jpg']\n",
            "['/content/drive/MyDrive/Houses Dataset/467_bathroom.jpg', '/content/drive/MyDrive/Houses Dataset/467_bedroom.jpg', '/content/drive/MyDrive/Houses Dataset/467_frontal.jpg', '/content/drive/MyDrive/Houses Dataset/467_kitchen.jpg']\n",
            "['/content/drive/MyDrive/Houses Dataset/468_bathroom.jpg', '/content/drive/MyDrive/Houses Dataset/468_bedroom.jpg', '/content/drive/MyDrive/Houses Dataset/468_frontal.jpg', '/content/drive/MyDrive/Houses Dataset/468_kitchen.jpg']\n",
            "['/content/drive/MyDrive/Houses Dataset/469_bathroom.jpg', '/content/drive/MyDrive/Houses Dataset/469_bedroom.jpg', '/content/drive/MyDrive/Houses Dataset/469_frontal.jpg', '/content/drive/MyDrive/Houses Dataset/469_kitchen.jpg']\n",
            "['/content/drive/MyDrive/Houses Dataset/470_bathroom.jpg', '/content/drive/MyDrive/Houses Dataset/470_bedroom.jpg', '/content/drive/MyDrive/Houses Dataset/470_frontal.jpg', '/content/drive/MyDrive/Houses Dataset/470_kitchen.jpg']\n",
            "['/content/drive/MyDrive/Houses Dataset/471_bathroom.jpg', '/content/drive/MyDrive/Houses Dataset/471_bedroom.jpg', '/content/drive/MyDrive/Houses Dataset/471_frontal.jpg', '/content/drive/MyDrive/Houses Dataset/471_kitchen.jpg']\n",
            "['/content/drive/MyDrive/Houses Dataset/472_bathroom.jpg', '/content/drive/MyDrive/Houses Dataset/472_bedroom.jpg', '/content/drive/MyDrive/Houses Dataset/472_frontal.jpg', '/content/drive/MyDrive/Houses Dataset/472_kitchen.jpg']\n",
            "['/content/drive/MyDrive/Houses Dataset/473_bathroom.jpg', '/content/drive/MyDrive/Houses Dataset/473_bedroom.jpg', '/content/drive/MyDrive/Houses Dataset/473_frontal.jpg', '/content/drive/MyDrive/Houses Dataset/473_kitchen.jpg']\n",
            "['/content/drive/MyDrive/Houses Dataset/474_bathroom.jpg', '/content/drive/MyDrive/Houses Dataset/474_bedroom.jpg', '/content/drive/MyDrive/Houses Dataset/474_frontal.jpg', '/content/drive/MyDrive/Houses Dataset/474_kitchen.jpg']\n",
            "['/content/drive/MyDrive/Houses Dataset/475_bathroom.jpg', '/content/drive/MyDrive/Houses Dataset/475_bedroom.jpg', '/content/drive/MyDrive/Houses Dataset/475_frontal.jpg', '/content/drive/MyDrive/Houses Dataset/475_kitchen.jpg']\n",
            "['/content/drive/MyDrive/Houses Dataset/476_bathroom.jpg', '/content/drive/MyDrive/Houses Dataset/476_bedroom.jpg', '/content/drive/MyDrive/Houses Dataset/476_frontal.jpg', '/content/drive/MyDrive/Houses Dataset/476_kitchen.jpg']\n",
            "['/content/drive/MyDrive/Houses Dataset/477_bathroom.jpg', '/content/drive/MyDrive/Houses Dataset/477_bedroom.jpg', '/content/drive/MyDrive/Houses Dataset/477_frontal.jpg', '/content/drive/MyDrive/Houses Dataset/477_kitchen.jpg']\n",
            "['/content/drive/MyDrive/Houses Dataset/478_bathroom.jpg', '/content/drive/MyDrive/Houses Dataset/478_bedroom.jpg', '/content/drive/MyDrive/Houses Dataset/478_frontal.jpg', '/content/drive/MyDrive/Houses Dataset/478_kitchen.jpg']\n",
            "['/content/drive/MyDrive/Houses Dataset/479_bathroom.jpg', '/content/drive/MyDrive/Houses Dataset/479_bedroom.jpg', '/content/drive/MyDrive/Houses Dataset/479_frontal.jpg', '/content/drive/MyDrive/Houses Dataset/479_kitchen.jpg']\n",
            "['/content/drive/MyDrive/Houses Dataset/480_bathroom.jpg', '/content/drive/MyDrive/Houses Dataset/480_bedroom.jpg', '/content/drive/MyDrive/Houses Dataset/480_frontal.jpg', '/content/drive/MyDrive/Houses Dataset/480_kitchen.jpg']\n",
            "['/content/drive/MyDrive/Houses Dataset/481_bathroom.jpg', '/content/drive/MyDrive/Houses Dataset/481_bedroom.jpg', '/content/drive/MyDrive/Houses Dataset/481_frontal.jpg', '/content/drive/MyDrive/Houses Dataset/481_kitchen.jpg']\n",
            "['/content/drive/MyDrive/Houses Dataset/482_bathroom.jpg', '/content/drive/MyDrive/Houses Dataset/482_bedroom.jpg', '/content/drive/MyDrive/Houses Dataset/482_frontal.jpg', '/content/drive/MyDrive/Houses Dataset/482_kitchen.jpg']\n",
            "['/content/drive/MyDrive/Houses Dataset/483_bathroom.jpg', '/content/drive/MyDrive/Houses Dataset/483_bedroom.jpg', '/content/drive/MyDrive/Houses Dataset/483_frontal.jpg', '/content/drive/MyDrive/Houses Dataset/483_kitchen.jpg']\n",
            "['/content/drive/MyDrive/Houses Dataset/484_bathroom.jpg', '/content/drive/MyDrive/Houses Dataset/484_bedroom.jpg', '/content/drive/MyDrive/Houses Dataset/484_frontal.jpg', '/content/drive/MyDrive/Houses Dataset/484_kitchen.jpg']\n",
            "['/content/drive/MyDrive/Houses Dataset/485_bathroom.jpg', '/content/drive/MyDrive/Houses Dataset/485_bedroom.jpg', '/content/drive/MyDrive/Houses Dataset/485_frontal.jpg', '/content/drive/MyDrive/Houses Dataset/485_kitchen.jpg']\n",
            "['/content/drive/MyDrive/Houses Dataset/486_bathroom.jpg', '/content/drive/MyDrive/Houses Dataset/486_bedroom.jpg', '/content/drive/MyDrive/Houses Dataset/486_frontal.jpg', '/content/drive/MyDrive/Houses Dataset/486_kitchen.jpg']\n",
            "['/content/drive/MyDrive/Houses Dataset/487_bathroom.jpg', '/content/drive/MyDrive/Houses Dataset/487_bedroom.jpg', '/content/drive/MyDrive/Houses Dataset/487_frontal.jpg', '/content/drive/MyDrive/Houses Dataset/487_kitchen.jpg']\n",
            "['/content/drive/MyDrive/Houses Dataset/488_bathroom.jpg', '/content/drive/MyDrive/Houses Dataset/488_bedroom.jpg', '/content/drive/MyDrive/Houses Dataset/488_frontal.jpg', '/content/drive/MyDrive/Houses Dataset/488_kitchen.jpg']\n",
            "['/content/drive/MyDrive/Houses Dataset/489_bathroom.jpg', '/content/drive/MyDrive/Houses Dataset/489_bedroom.jpg', '/content/drive/MyDrive/Houses Dataset/489_frontal.jpg', '/content/drive/MyDrive/Houses Dataset/489_kitchen.jpg']\n",
            "['/content/drive/MyDrive/Houses Dataset/490_bathroom.jpg', '/content/drive/MyDrive/Houses Dataset/490_bedroom.jpg', '/content/drive/MyDrive/Houses Dataset/490_frontal.jpg', '/content/drive/MyDrive/Houses Dataset/490_kitchen.jpg']\n",
            "['/content/drive/MyDrive/Houses Dataset/491_bathroom.jpg', '/content/drive/MyDrive/Houses Dataset/491_bedroom.jpg', '/content/drive/MyDrive/Houses Dataset/491_frontal.jpg', '/content/drive/MyDrive/Houses Dataset/491_kitchen.jpg']\n",
            "['/content/drive/MyDrive/Houses Dataset/492_bathroom.jpg', '/content/drive/MyDrive/Houses Dataset/492_bedroom.jpg', '/content/drive/MyDrive/Houses Dataset/492_frontal.jpg', '/content/drive/MyDrive/Houses Dataset/492_kitchen.jpg']\n",
            "['/content/drive/MyDrive/Houses Dataset/493_bathroom.jpg', '/content/drive/MyDrive/Houses Dataset/493_bedroom.jpg', '/content/drive/MyDrive/Houses Dataset/493_frontal.jpg', '/content/drive/MyDrive/Houses Dataset/493_kitchen.jpg']\n",
            "['/content/drive/MyDrive/Houses Dataset/494_bathroom.jpg', '/content/drive/MyDrive/Houses Dataset/494_bedroom.jpg', '/content/drive/MyDrive/Houses Dataset/494_frontal.jpg', '/content/drive/MyDrive/Houses Dataset/494_kitchen.jpg']\n",
            "['/content/drive/MyDrive/Houses Dataset/495_bathroom.jpg', '/content/drive/MyDrive/Houses Dataset/495_bedroom.jpg', '/content/drive/MyDrive/Houses Dataset/495_frontal.jpg', '/content/drive/MyDrive/Houses Dataset/495_kitchen.jpg']\n",
            "['/content/drive/MyDrive/Houses Dataset/496_bathroom.jpg', '/content/drive/MyDrive/Houses Dataset/496_bedroom.jpg', '/content/drive/MyDrive/Houses Dataset/496_frontal.jpg', '/content/drive/MyDrive/Houses Dataset/496_kitchen.jpg']\n",
            "['/content/drive/MyDrive/Houses Dataset/497_bathroom.jpg', '/content/drive/MyDrive/Houses Dataset/497_bedroom.jpg', '/content/drive/MyDrive/Houses Dataset/497_frontal.jpg', '/content/drive/MyDrive/Houses Dataset/497_kitchen.jpg']\n",
            "['/content/drive/MyDrive/Houses Dataset/498_bathroom.jpg', '/content/drive/MyDrive/Houses Dataset/498_bedroom.jpg', '/content/drive/MyDrive/Houses Dataset/498_frontal.jpg', '/content/drive/MyDrive/Houses Dataset/498_kitchen.jpg']\n",
            "['/content/drive/MyDrive/Houses Dataset/499_bathroom.jpg', '/content/drive/MyDrive/Houses Dataset/499_bedroom.jpg', '/content/drive/MyDrive/Houses Dataset/499_frontal.jpg', '/content/drive/MyDrive/Houses Dataset/499_kitchen.jpg']\n",
            "['/content/drive/MyDrive/Houses Dataset/500_bathroom.jpg', '/content/drive/MyDrive/Houses Dataset/500_bedroom.jpg', '/content/drive/MyDrive/Houses Dataset/500_frontal.jpg', '/content/drive/MyDrive/Houses Dataset/500_kitchen.jpg']\n",
            "['/content/drive/MyDrive/Houses Dataset/501_bathroom.jpg', '/content/drive/MyDrive/Houses Dataset/501_bedroom.jpg', '/content/drive/MyDrive/Houses Dataset/501_frontal.jpg', '/content/drive/MyDrive/Houses Dataset/501_kitchen.jpg']\n",
            "['/content/drive/MyDrive/Houses Dataset/502_bathroom.jpg', '/content/drive/MyDrive/Houses Dataset/502_bedroom.jpg', '/content/drive/MyDrive/Houses Dataset/502_frontal.jpg', '/content/drive/MyDrive/Houses Dataset/502_kitchen.jpg']\n",
            "['/content/drive/MyDrive/Houses Dataset/503_bathroom.jpg', '/content/drive/MyDrive/Houses Dataset/503_bedroom.jpg', '/content/drive/MyDrive/Houses Dataset/503_frontal.jpg', '/content/drive/MyDrive/Houses Dataset/503_kitchen.jpg']\n",
            "['/content/drive/MyDrive/Houses Dataset/504_bathroom.jpg', '/content/drive/MyDrive/Houses Dataset/504_bedroom.jpg', '/content/drive/MyDrive/Houses Dataset/504_frontal.jpg', '/content/drive/MyDrive/Houses Dataset/504_kitchen.jpg']\n",
            "['/content/drive/MyDrive/Houses Dataset/505_bathroom.jpg', '/content/drive/MyDrive/Houses Dataset/505_bedroom.jpg', '/content/drive/MyDrive/Houses Dataset/505_frontal.jpg', '/content/drive/MyDrive/Houses Dataset/505_kitchen.jpg']\n",
            "['/content/drive/MyDrive/Houses Dataset/506_bathroom.jpg', '/content/drive/MyDrive/Houses Dataset/506_bedroom.jpg', '/content/drive/MyDrive/Houses Dataset/506_frontal.jpg', '/content/drive/MyDrive/Houses Dataset/506_kitchen.jpg']\n",
            "['/content/drive/MyDrive/Houses Dataset/507_bathroom.jpg', '/content/drive/MyDrive/Houses Dataset/507_bedroom.jpg', '/content/drive/MyDrive/Houses Dataset/507_frontal.jpg', '/content/drive/MyDrive/Houses Dataset/507_kitchen.jpg']\n",
            "['/content/drive/MyDrive/Houses Dataset/508_bathroom.jpg', '/content/drive/MyDrive/Houses Dataset/508_bedroom.jpg', '/content/drive/MyDrive/Houses Dataset/508_frontal.jpg', '/content/drive/MyDrive/Houses Dataset/508_kitchen.jpg']\n",
            "['/content/drive/MyDrive/Houses Dataset/509_bathroom.jpg', '/content/drive/MyDrive/Houses Dataset/509_bedroom.jpg', '/content/drive/MyDrive/Houses Dataset/509_frontal.jpg', '/content/drive/MyDrive/Houses Dataset/509_kitchen.jpg']\n",
            "['/content/drive/MyDrive/Houses Dataset/510_bathroom.jpg', '/content/drive/MyDrive/Houses Dataset/510_bedroom.jpg', '/content/drive/MyDrive/Houses Dataset/510_frontal.jpg', '/content/drive/MyDrive/Houses Dataset/510_kitchen.jpg']\n",
            "['/content/drive/MyDrive/Houses Dataset/511_bathroom.jpg', '/content/drive/MyDrive/Houses Dataset/511_bedroom.jpg', '/content/drive/MyDrive/Houses Dataset/511_frontal.jpg', '/content/drive/MyDrive/Houses Dataset/511_kitchen.jpg']\n",
            "['/content/drive/MyDrive/Houses Dataset/512_bathroom.jpg', '/content/drive/MyDrive/Houses Dataset/512_bedroom.jpg', '/content/drive/MyDrive/Houses Dataset/512_frontal.jpg', '/content/drive/MyDrive/Houses Dataset/512_kitchen.jpg']\n",
            "['/content/drive/MyDrive/Houses Dataset/513_bathroom.jpg', '/content/drive/MyDrive/Houses Dataset/513_bedroom.jpg', '/content/drive/MyDrive/Houses Dataset/513_frontal.jpg', '/content/drive/MyDrive/Houses Dataset/513_kitchen.jpg']\n",
            "['/content/drive/MyDrive/Houses Dataset/514_bathroom.jpg', '/content/drive/MyDrive/Houses Dataset/514_bedroom.jpg', '/content/drive/MyDrive/Houses Dataset/514_frontal.jpg', '/content/drive/MyDrive/Houses Dataset/514_kitchen.jpg']\n",
            "['/content/drive/MyDrive/Houses Dataset/515_bathroom.jpg', '/content/drive/MyDrive/Houses Dataset/515_bedroom.jpg', '/content/drive/MyDrive/Houses Dataset/515_frontal.jpg', '/content/drive/MyDrive/Houses Dataset/515_kitchen.jpg']\n",
            "['/content/drive/MyDrive/Houses Dataset/516_bathroom.jpg', '/content/drive/MyDrive/Houses Dataset/516_bedroom.jpg', '/content/drive/MyDrive/Houses Dataset/516_frontal.jpg', '/content/drive/MyDrive/Houses Dataset/516_kitchen.jpg']\n",
            "['/content/drive/MyDrive/Houses Dataset/517_bathroom.jpg', '/content/drive/MyDrive/Houses Dataset/517_bedroom.jpg', '/content/drive/MyDrive/Houses Dataset/517_frontal.jpg', '/content/drive/MyDrive/Houses Dataset/517_kitchen.jpg']\n",
            "['/content/drive/MyDrive/Houses Dataset/518_bathroom.jpg', '/content/drive/MyDrive/Houses Dataset/518_bedroom.jpg', '/content/drive/MyDrive/Houses Dataset/518_frontal.jpg', '/content/drive/MyDrive/Houses Dataset/518_kitchen.jpg']\n",
            "['/content/drive/MyDrive/Houses Dataset/519_bathroom.jpg', '/content/drive/MyDrive/Houses Dataset/519_bedroom.jpg', '/content/drive/MyDrive/Houses Dataset/519_frontal.jpg', '/content/drive/MyDrive/Houses Dataset/519_kitchen.jpg']\n",
            "['/content/drive/MyDrive/Houses Dataset/520_bathroom.jpg', '/content/drive/MyDrive/Houses Dataset/520_bedroom.jpg', '/content/drive/MyDrive/Houses Dataset/520_frontal.jpg', '/content/drive/MyDrive/Houses Dataset/520_kitchen.jpg']\n",
            "['/content/drive/MyDrive/Houses Dataset/521_bathroom.jpg', '/content/drive/MyDrive/Houses Dataset/521_bedroom.jpg', '/content/drive/MyDrive/Houses Dataset/521_frontal.jpg', '/content/drive/MyDrive/Houses Dataset/521_kitchen.jpg']\n",
            "['/content/drive/MyDrive/Houses Dataset/522_bathroom.jpg', '/content/drive/MyDrive/Houses Dataset/522_bedroom.jpg', '/content/drive/MyDrive/Houses Dataset/522_frontal.jpg', '/content/drive/MyDrive/Houses Dataset/522_kitchen.jpg']\n",
            "['/content/drive/MyDrive/Houses Dataset/523_bathroom.jpg', '/content/drive/MyDrive/Houses Dataset/523_bedroom.jpg', '/content/drive/MyDrive/Houses Dataset/523_frontal.jpg', '/content/drive/MyDrive/Houses Dataset/523_kitchen.jpg']\n",
            "['/content/drive/MyDrive/Houses Dataset/524_bathroom.jpg', '/content/drive/MyDrive/Houses Dataset/524_bedroom.jpg', '/content/drive/MyDrive/Houses Dataset/524_frontal.jpg', '/content/drive/MyDrive/Houses Dataset/524_kitchen.jpg']\n",
            "['/content/drive/MyDrive/Houses Dataset/525_bathroom.jpg', '/content/drive/MyDrive/Houses Dataset/525_bedroom.jpg', '/content/drive/MyDrive/Houses Dataset/525_frontal.jpg', '/content/drive/MyDrive/Houses Dataset/525_kitchen.jpg']\n",
            "['/content/drive/MyDrive/Houses Dataset/526_bathroom.jpg', '/content/drive/MyDrive/Houses Dataset/526_bedroom.jpg', '/content/drive/MyDrive/Houses Dataset/526_frontal.jpg', '/content/drive/MyDrive/Houses Dataset/526_kitchen.jpg']\n",
            "['/content/drive/MyDrive/Houses Dataset/527_bathroom.jpg', '/content/drive/MyDrive/Houses Dataset/527_bedroom.jpg', '/content/drive/MyDrive/Houses Dataset/527_frontal.jpg', '/content/drive/MyDrive/Houses Dataset/527_kitchen.jpg']\n",
            "['/content/drive/MyDrive/Houses Dataset/528_bathroom.jpg', '/content/drive/MyDrive/Houses Dataset/528_bedroom.jpg', '/content/drive/MyDrive/Houses Dataset/528_frontal.jpg', '/content/drive/MyDrive/Houses Dataset/528_kitchen.jpg']\n",
            "['/content/drive/MyDrive/Houses Dataset/529_bathroom.jpg', '/content/drive/MyDrive/Houses Dataset/529_bedroom.jpg', '/content/drive/MyDrive/Houses Dataset/529_frontal.jpg', '/content/drive/MyDrive/Houses Dataset/529_kitchen.jpg']\n",
            "['/content/drive/MyDrive/Houses Dataset/530_bathroom.jpg', '/content/drive/MyDrive/Houses Dataset/530_bedroom.jpg', '/content/drive/MyDrive/Houses Dataset/530_frontal.jpg', '/content/drive/MyDrive/Houses Dataset/530_kitchen.jpg']\n",
            "['/content/drive/MyDrive/Houses Dataset/531_bathroom.jpg', '/content/drive/MyDrive/Houses Dataset/531_bedroom.jpg', '/content/drive/MyDrive/Houses Dataset/531_frontal.jpg', '/content/drive/MyDrive/Houses Dataset/531_kitchen.jpg']\n",
            "['/content/drive/MyDrive/Houses Dataset/532_bathroom.jpg', '/content/drive/MyDrive/Houses Dataset/532_bedroom.jpg', '/content/drive/MyDrive/Houses Dataset/532_frontal.jpg', '/content/drive/MyDrive/Houses Dataset/532_kitchen.jpg']\n",
            "['/content/drive/MyDrive/Houses Dataset/533_bathroom.jpg', '/content/drive/MyDrive/Houses Dataset/533_bedroom.jpg', '/content/drive/MyDrive/Houses Dataset/533_frontal.jpg', '/content/drive/MyDrive/Houses Dataset/533_kitchen.jpg']\n",
            "['/content/drive/MyDrive/Houses Dataset/534_bathroom.jpg', '/content/drive/MyDrive/Houses Dataset/534_bedroom.jpg', '/content/drive/MyDrive/Houses Dataset/534_frontal.jpg', '/content/drive/MyDrive/Houses Dataset/534_kitchen.jpg']\n",
            "['/content/drive/MyDrive/Houses Dataset/535_bathroom.jpg', '/content/drive/MyDrive/Houses Dataset/535_bedroom.jpg', '/content/drive/MyDrive/Houses Dataset/535_frontal.jpg', '/content/drive/MyDrive/Houses Dataset/535_kitchen.jpg']\n"
          ]
        }
      ]
    },
    {
      "cell_type": "code",
      "source": [
        "print(housePaths[0])\n",
        "print(housePaths[1])\n",
        "print(housePaths[2])\n",
        "print(housePaths[3])"
      ],
      "metadata": {
        "colab": {
          "base_uri": "https://localhost:8080/"
        },
        "id": "Pom8j8OSYyj7",
        "outputId": "6fbaa927-6eb4-4e25-f8fa-1d8a5e2839bc"
      },
      "execution_count": 14,
      "outputs": [
        {
          "output_type": "stream",
          "name": "stdout",
          "text": [
            "/content/drive/MyDrive/Houses Dataset/535_bathroom.jpg\n",
            "/content/drive/MyDrive/Houses Dataset/535_bedroom.jpg\n",
            "/content/drive/MyDrive/Houses Dataset/535_frontal.jpg\n",
            "/content/drive/MyDrive/Houses Dataset/535_kitchen.jpg\n"
          ]
        }
      ]
    },
    {
      "cell_type": "code",
      "source": [
        "plt.imshow(images[1])"
      ],
      "metadata": {
        "colab": {
          "base_uri": "https://localhost:8080/",
          "height": 451
        },
        "id": "snGTTJ5At8LG",
        "outputId": "9ae35bc1-9dc2-4dde-86fb-9ff440fd00eb"
      },
      "execution_count": 15,
      "outputs": [
        {
          "output_type": "execute_result",
          "data": {
            "text/plain": [
              "<matplotlib.image.AxesImage at 0x7de18737f4f0>"
            ]
          },
          "metadata": {},
          "execution_count": 15
        },
        {
          "output_type": "display_data",
          "data": {
            "text/plain": [
              "<Figure size 640x480 with 1 Axes>"
            ],
            "image/png": "[encoded data removed]"
          },
          "metadata": {}
        }
      ]
    },
    {
      "cell_type": "code",
      "source": [
        "images[1].shape"
      ],
      "metadata": {
        "colab": {
          "base_uri": "https://localhost:8080/"
        },
        "id": "-clcsMzz2Pdo",
        "outputId": "5591fb89-b48c-4d82-9023-6839bcb30903"
      },
      "execution_count": 16,
      "outputs": [
        {
          "output_type": "execute_result",
          "data": {
            "text/plain": [
              "(200, 200, 3)"
            ]
          },
          "metadata": {},
          "execution_count": 16
        }
      ]
    },
    {
      "cell_type": "code",
      "source": [
        "images.shape"
      ],
      "metadata": {
        "colab": {
          "base_uri": "https://localhost:8080/"
        },
        "id": "fzEpaDyJ2ELS",
        "outputId": "24e587dd-e6cb-4317-d8ed-b1844a92848f"
      },
      "execution_count": 17,
      "outputs": [
        {
          "output_type": "execute_result",
          "data": {
            "text/plain": [
              "(535, 200, 200, 3)"
            ]
          },
          "metadata": {},
          "execution_count": 17
        }
      ]
    },
    {
      "cell_type": "code",
      "source": [
        "images_list = []\n",
        "for i in range(535):\n",
        "  images_list.append(images[i])\n",
        "\n",
        "images = pd.Series(images_list, name=\"Images\")"
      ],
      "metadata": {
        "id": "6-jFgyi82gBp"
      },
      "execution_count": 18,
      "outputs": []
    },
    {
      "cell_type": "markdown",
      "source": [
        "# now we concat images list to dataframe :"
      ],
      "metadata": {
        "id": "rYWOJMTrnyfI"
      }
    },
    {
      "cell_type": "code",
      "source": [
        "df = pd.concat([images , df_info], axis=1)\n",
        "df"
      ],
      "metadata": {
        "colab": {
          "base_uri": "https://localhost:8080/",
          "height": 423
        },
        "id": "CQIqjbK8nw4t",
        "outputId": "d274c4ee-8c97-4e73-9c33-e6853195c221"
      },
      "execution_count": 19,
      "outputs": [
        {
          "output_type": "execute_result",
          "data": {
            "text/plain": [
              "                                                Images  Bedrooms  bathrooms  \\\n",
              "0    [[[171, 150, 119], [175, 150, 109], [123, 88, ...         4        4.0   \n",
              "1    [[[229, 205, 178], [227, 205, 182], [227, 209,...         4        3.0   \n",
              "2    [[[89, 42, 13], [100, 54, 31], [125, 85, 70], ...         3        4.0   \n",
              "3    [[[247, 204, 162], [251, 206, 165], [255, 212,...         5        5.0   \n",
              "4    [[[224, 250, 253], [91, 93, 84], [186, 156, 11...         3        4.0   \n",
              "..                                                 ...       ...        ...   \n",
              "530  [[[231, 231, 230], [242, 242, 242], [246, 246,...         5        2.0   \n",
              "531  [[[181, 180, 180], [222, 221, 220], [206, 206,...         4        3.5   \n",
              "532  [[[34, 32, 32], [36, 34, 35], [31, 30, 31], [3...         3        2.0   \n",
              "533  [[[252, 252, 252], [251, 251, 251], [248, 248,...         4        3.0   \n",
              "534  [[[229, 229, 231], [244, 244, 246], [233, 233,...         5        3.0   \n",
              "\n",
              "     Area  Zipcode   Price  \n",
              "0    4053    85255  869500  \n",
              "1    3343    36372  865200  \n",
              "2    3923    85266  889000  \n",
              "3    4022    85262  910000  \n",
              "4    4116    85266  971226  \n",
              "..    ...      ...     ...  \n",
              "530  2066    94531  399900  \n",
              "531  9536    94531  460000  \n",
              "532  2014    94531  407000  \n",
              "533  2312    94531  419000  \n",
              "534  3796    94531  615000  \n",
              "\n",
              "[535 rows x 6 columns]"
            ],
            "text/html": [
              "\n",
              "  <div id=\"df-e3ff3416-0067-4b4f-88f9-f6672e473d69\" class=\"colab-df-container\">\n",
              "    <div>\n",
              "<style scoped>\n",
              "    .dataframe tbody tr th:only-of-type {\n",
              "        vertical-align: middle;\n",
              "    }\n",
              "\n",
              "    .dataframe tbody tr th {\n",
              "        vertical-align: top;\n",
              "    }\n",
              "\n",
              "    .dataframe thead th {\n",
              "        text-align: right;\n",
              "    }\n",
              "</style>\n",
              "<table border=\"1\" class=\"dataframe\">\n",
              "  <thead>\n",
              "    <tr style=\"text-align: right;\">\n",
              "      <th></th>\n",
              "      <th>Images</th>\n",
              "      <th>Bedrooms</th>\n",
              "      <th>bathrooms</th>\n",
              "      <th>Area</th>\n",
              "      <th>Zipcode</th>\n",
              "      <th>Price</th>\n",
              "    </tr>\n",
              "  </thead>\n",
              "  <tbody>\n",
              "    <tr>\n",
              "      <th>0</th>\n",
              "      <td>[[[171, 150, 119], [175, 150, 109], [123, 88, ...</td>\n",
              "      <td>4</td>\n",
              "      <td>4.0</td>\n",
              "      <td>4053</td>\n",
              "      <td>85255</td>\n",
              "      <td>869500</td>\n",
              "    </tr>\n",
              "    <tr>\n",
              "      <th>1</th>\n",
              "      <td>[[[229, 205, 178], [227, 205, 182], [227, 209,...</td>\n",
              "      <td>4</td>\n",
              "      <td>3.0</td>\n",
              "      <td>3343</td>\n",
              "      <td>36372</td>\n",
              "      <td>865200</td>\n",
              "    </tr>\n",
              "    <tr>\n",
              "      <th>2</th>\n",
              "      <td>[[[89, 42, 13], [100, 54, 31], [125, 85, 70], ...</td>\n",
              "      <td>3</td>\n",
              "      <td>4.0</td>\n",
              "      <td>3923</td>\n",
              "      <td>85266</td>\n",
              "      <td>889000</td>\n",
              "    </tr>\n",
              "    <tr>\n",
              "      <th>3</th>\n",
              "      <td>[[[247, 204, 162], [251, 206, 165], [255, 212,...</td>\n",
              "      <td>5</td>\n",
              "      <td>5.0</td>\n",
              "      <td>4022</td>\n",
              "      <td>85262</td>\n",
              "      <td>910000</td>\n",
              "    </tr>\n",
              "    <tr>\n",
              "      <th>4</th>\n",
              "      <td>[[[224, 250, 253], [91, 93, 84], [186, 156, 11...</td>\n",
              "      <td>3</td>\n",
              "      <td>4.0</td>\n",
              "      <td>4116</td>\n",
              "      <td>85266</td>\n",
              "      <td>971226</td>\n",
              "    </tr>\n",
              "    <tr>\n",
              "      <th>...</th>\n",
              "      <td>...</td>\n",
              "      <td>...</td>\n",
              "      <td>...</td>\n",
              "      <td>...</td>\n",
              "      <td>...</td>\n",
              "      <td>...</td>\n",
              "    </tr>\n",
              "    <tr>\n",
              "      <th>530</th>\n",
              "      <td>[[[231, 231, 230], [242, 242, 242], [246, 246,...</td>\n",
              "      <td>5</td>\n",
              "      <td>2.0</td>\n",
              "      <td>2066</td>\n",
              "      <td>94531</td>\n",
              "      <td>399900</td>\n",
              "    </tr>\n",
              "    <tr>\n",
              "      <th>531</th>\n",
              "      <td>[[[181, 180, 180], [222, 221, 220], [206, 206,...</td>\n",
              "      <td>4</td>\n",
              "      <td>3.5</td>\n",
              "      <td>9536</td>\n",
              "      <td>94531</td>\n",
              "      <td>460000</td>\n",
              "    </tr>\n",
              "    <tr>\n",
              "      <th>532</th>\n",
              "      <td>[[[34, 32, 32], [36, 34, 35], [31, 30, 31], [3...</td>\n",
              "      <td>3</td>\n",
              "      <td>2.0</td>\n",
              "      <td>2014</td>\n",
              "      <td>94531</td>\n",
              "      <td>407000</td>\n",
              "    </tr>\n",
              "    <tr>\n",
              "      <th>533</th>\n",
              "      <td>[[[252, 252, 252], [251, 251, 251], [248, 248,...</td>\n",
              "      <td>4</td>\n",
              "      <td>3.0</td>\n",
              "      <td>2312</td>\n",
              "      <td>94531</td>\n",
              "      <td>419000</td>\n",
              "    </tr>\n",
              "    <tr>\n",
              "      <th>534</th>\n",
              "      <td>[[[229, 229, 231], [244, 244, 246], [233, 233,...</td>\n",
              "      <td>5</td>\n",
              "      <td>3.0</td>\n",
              "      <td>3796</td>\n",
              "      <td>94531</td>\n",
              "      <td>615000</td>\n",
              "    </tr>\n",
              "  </tbody>\n",
              "</table>\n",
              "<p>535 rows × 6 columns</p>\n",
              "</div>\n",
              "    <div class=\"colab-df-buttons\">\n",
              "\n",
              "  <div class=\"colab-df-container\">\n",
              "    <button class=\"colab-df-convert\" onclick=\"convertToInteractive('df-e3ff3416-0067-4b4f-88f9-f6672e473d69')\"\n",
              "            title=\"Convert this dataframe to an interactive table.\"\n",
              "            style=\"display:none;\">\n",
              "\n",
              "  <svg xmlns=\"http://www.w3.org/2000/svg\" height=\"24px\" viewBox=\"0 -960 960 960\">\n",
              "    <path d=\"M120-120v-720h720v720H120Zm60-500h600v-160H180v160Zm220 220h160v-160H400v160Zm0 220h160v-160H400v160ZM180-400h160v-160H180v160Zm440 0h160v-160H620v160ZM180-180h160v-160H180v160Zm440 0h160v-160H620v160Z\"/>\n",
              "  </svg>\n",
              "    </button>\n",
              "\n",
              "  <style>\n",
              "    .colab-df-container {\n",
              "      display:flex;\n",
              "      gap: 12px;\n",
              "    }\n",
              "\n",
              "    .colab-df-convert {\n",
              "      background-color: #E8F0FE;\n",
              "      border: none;\n",
              "      border-radius: 50%;\n",
              "      cursor: pointer;\n",
              "      display: none;\n",
              "      fill: #1967D2;\n",
              "      height: 32px;\n",
              "      padding: 0 0 0 0;\n",
              "      width: 32px;\n",
              "    }\n",
              "\n",
              "    .colab-df-convert:hover {\n",
              "      background-color: #E2EBFA;\n",
              "      box-shadow: 0px 1px 2px rgba(60, 64, 67, 0.3), 0px 1px 3px 1px rgba(60, 64, 67, 0.15);\n",
              "      fill: #174EA6;\n",
              "    }\n",
              "\n",
              "    .colab-df-buttons div {\n",
              "      margin-bottom: 4px;\n",
              "    }\n",
              "\n",
              "    [theme=dark] .colab-df-convert {\n",
              "      background-color: #3B4455;\n",
              "      fill: #D2E3FC;\n",
              "    }\n",
              "\n",
              "    [theme=dark] .colab-df-convert:hover {\n",
              "      background-color: #434B5C;\n",
              "      box-shadow: 0px 1px 3px 1px rgba(0, 0, 0, 0.15);\n",
              "      filter: drop-shadow(0px 1px 2px rgba(0, 0, 0, 0.3));\n",
              "      fill: #FFFFFF;\n",
              "    }\n",
              "  </style>\n",
              "\n",
              "    <script>\n",
              "      const buttonEl =\n",
              "        document.querySelector('#df-e3ff3416-0067-4b4f-88f9-f6672e473d69 button.colab-df-convert');\n",
              "      buttonEl.style.display =\n",
              "        google.colab.kernel.accessAllowed ? 'block' : 'none';\n",
              "\n",
              "      async function convertToInteractive(key) {\n",
              "        const element = document.querySelector('#df-e3ff3416-0067-4b4f-88f9-f6672e473d69');\n",
              "        const dataTable =\n",
              "          await google.colab.kernel.invokeFunction('convertToInteractive',\n",
              "                                                    [key], {});\n",
              "        if (!dataTable) return;\n",
              "\n",
              "        const docLinkHtml = 'Like what you see? Visit the ' +\n",
              "          '<a target=\"_blank\" href=https://colab.research.google.com/notebooks/data_table.ipynb>data table notebook</a>'\n",
              "          + ' to learn more about interactive tables.';\n",
              "        element.innerHTML = '';\n",
              "        dataTable['output_type'] = 'display_data';\n",
              "        await google.colab.output.renderOutput(dataTable, element);\n",
              "        const docLink = document.createElement('div');\n",
              "        docLink.innerHTML = docLinkHtml;\n",
              "        element.appendChild(docLink);\n",
              "      }\n",
              "    </script>\n",
              "  </div>\n",
              "\n",
              "\n",
              "<div id=\"df-ddc5e781-1cae-45ca-bf8d-e5b991c2af00\">\n",
              "  <button class=\"colab-df-quickchart\" onclick=\"quickchart('df-ddc5e781-1cae-45ca-bf8d-e5b991c2af00')\"\n",
              "            title=\"Suggest charts\"\n",
              "            style=\"display:none;\">\n",
              "\n",
              "<svg xmlns=\"http://www.w3.org/2000/svg\" height=\"24px\"viewBox=\"0 0 24 24\"\n",
              "     width=\"24px\">\n",
              "    <g>\n",
              "        <path d=\"M19 3H5c-1.1 0-2 .9-2 2v14c0 1.1.9 2 2 2h14c1.1 0 2-.9 2-2V5c0-1.1-.9-2-2-2zM9 17H7v-7h2v7zm4 0h-2V7h2v10zm4 0h-2v-4h2v4z\"/>\n",
              "    </g>\n",
              "</svg>\n",
              "  </button>\n",
              "\n",
              "<style>\n",
              "  .colab-df-quickchart {\n",
              "      --bg-color: #E8F0FE;\n",
              "      --fill-color: #1967D2;\n",
              "      --hover-bg-color: #E2EBFA;\n",
              "      --hover-fill-color: #174EA6;\n",
              "      --disabled-fill-color: #AAA;\n",
              "      --disabled-bg-color: #DDD;\n",
              "  }\n",
              "\n",
              "  [theme=dark] .colab-df-quickchart {\n",
              "      --bg-color: #3B4455;\n",
              "      --fill-color: #D2E3FC;\n",
              "      --hover-bg-color: #434B5C;\n",
              "      --hover-fill-color: #FFFFFF;\n",
              "      --disabled-bg-color: #3B4455;\n",
              "      --disabled-fill-color: #666;\n",
              "  }\n",
              "\n",
              "  .colab-df-quickchart {\n",
              "    background-color: var(--bg-color);\n",
              "    border: none;\n",
              "    border-radius: 50%;\n",
              "    cursor: pointer;\n",
              "    display: none;\n",
              "    fill: var(--fill-color);\n",
              "    height: 32px;\n",
              "    padding: 0;\n",
              "    width: 32px;\n",
              "  }\n",
              "\n",
              "  .colab-df-quickchart:hover {\n",
              "    background-color: var(--hover-bg-color);\n",
              "    box-shadow: 0 1px 2px rgba(60, 64, 67, 0.3), 0 1px 3px 1px rgba(60, 64, 67, 0.15);\n",
              "    fill: var(--button-hover-fill-color);\n",
              "  }\n",
              "\n",
              "  .colab-df-quickchart-complete:disabled,\n",
              "  .colab-df-quickchart-complete:disabled:hover {\n",
              "    background-color: var(--disabled-bg-color);\n",
              "    fill: var(--disabled-fill-color);\n",
              "    box-shadow: none;\n",
              "  }\n",
              "\n",
              "  .colab-df-spinner {\n",
              "    border: 2px solid var(--fill-color);\n",
              "    border-color: transparent;\n",
              "    border-bottom-color: var(--fill-color);\n",
              "    animation:\n",
              "      spin 1s steps(1) infinite;\n",
              "  }\n",
              "\n",
              "  @keyframes spin {\n",
              "    0% {\n",
              "      border-color: transparent;\n",
              "      border-bottom-color: var(--fill-color);\n",
              "      border-left-color: var(--fill-color);\n",
              "    }\n",
              "    20% {\n",
              "      border-color: transparent;\n",
              "      border-left-color: var(--fill-color);\n",
              "      border-top-color: var(--fill-color);\n",
              "    }\n",
              "    30% {\n",
              "      border-color: transparent;\n",
              "      border-left-color: var(--fill-color);\n",
              "      border-top-color: var(--fill-color);\n",
              "      border-right-color: var(--fill-color);\n",
              "    }\n",
              "    40% {\n",
              "      border-color: transparent;\n",
              "      border-right-color: var(--fill-color);\n",
              "      border-top-color: var(--fill-color);\n",
              "    }\n",
              "    60% {\n",
              "      border-color: transparent;\n",
              "      border-right-color: var(--fill-color);\n",
              "    }\n",
              "    80% {\n",
              "      border-color: transparent;\n",
              "      border-right-color: var(--fill-color);\n",
              "      border-bottom-color: var(--fill-color);\n",
              "    }\n",
              "    90% {\n",
              "      border-color: transparent;\n",
              "      border-bottom-color: var(--fill-color);\n",
              "    }\n",
              "  }\n",
              "</style>\n",
              "\n",
              "  <script>\n",
              "    async function quickchart(key) {\n",
              "      const quickchartButtonEl =\n",
              "        document.querySelector('#' + key + ' button');\n",
              "      quickchartButtonEl.disabled = true;  // To prevent multiple clicks.\n",
              "      quickchartButtonEl.classList.add('colab-df-spinner');\n",
              "      try {\n",
              "        const charts = await google.colab.kernel.invokeFunction(\n",
              "            'suggestCharts', [key], {});\n",
              "      } catch (error) {\n",
              "        console.error('Error during call to suggestCharts:', error);\n",
              "      }\n",
              "      quickchartButtonEl.classList.remove('colab-df-spinner');\n",
              "      quickchartButtonEl.classList.add('colab-df-quickchart-complete');\n",
              "    }\n",
              "    (() => {\n",
              "      let quickchartButtonEl =\n",
              "        document.querySelector('#df-ddc5e781-1cae-45ca-bf8d-e5b991c2af00 button');\n",
              "      quickchartButtonEl.style.display =\n",
              "        google.colab.kernel.accessAllowed ? 'block' : 'none';\n",
              "    })();\n",
              "  </script>\n",
              "</div>\n",
              "    </div>\n",
              "  </div>\n"
            ]
          },
          "metadata": {},
          "execution_count": 19
        }
      ]
    },
    {
      "cell_type": "code",
      "source": [
        "df[\"bathrooms\"] = df[\"bathrooms\"].astype(int)\n",
        "df"
      ],
      "metadata": {
        "colab": {
          "base_uri": "https://localhost:8080/",
          "height": 423
        },
        "id": "oQp72Xmw-M8i",
        "outputId": "0343a82f-e19d-4969-b257-ba35ffb92e8a"
      },
      "execution_count": 20,
      "outputs": [
        {
          "output_type": "execute_result",
          "data": {
            "text/plain": [
              "                                                Images  Bedrooms  bathrooms  \\\n",
              "0    [[[171, 150, 119], [175, 150, 109], [123, 88, ...         4          4   \n",
              "1    [[[229, 205, 178], [227, 205, 182], [227, 209,...         4          3   \n",
              "2    [[[89, 42, 13], [100, 54, 31], [125, 85, 70], ...         3          4   \n",
              "3    [[[247, 204, 162], [251, 206, 165], [255, 212,...         5          5   \n",
              "4    [[[224, 250, 253], [91, 93, 84], [186, 156, 11...         3          4   \n",
              "..                                                 ...       ...        ...   \n",
              "530  [[[231, 231, 230], [242, 242, 242], [246, 246,...         5          2   \n",
              "531  [[[181, 180, 180], [222, 221, 220], [206, 206,...         4          3   \n",
              "532  [[[34, 32, 32], [36, 34, 35], [31, 30, 31], [3...         3          2   \n",
              "533  [[[252, 252, 252], [251, 251, 251], [248, 248,...         4          3   \n",
              "534  [[[229, 229, 231], [244, 244, 246], [233, 233,...         5          3   \n",
              "\n",
              "     Area  Zipcode   Price  \n",
              "0    4053    85255  869500  \n",
              "1    3343    36372  865200  \n",
              "2    3923    85266  889000  \n",
              "3    4022    85262  910000  \n",
              "4    4116    85266  971226  \n",
              "..    ...      ...     ...  \n",
              "530  2066    94531  399900  \n",
              "531  9536    94531  460000  \n",
              "532  2014    94531  407000  \n",
              "533  2312    94531  419000  \n",
              "534  3796    94531  615000  \n",
              "\n",
              "[535 rows x 6 columns]"
            ],
            "text/html": [
              "\n",
              "  <div id=\"df-402a26f6-b3b4-4afa-8b2c-c1f89fc35aac\" class=\"colab-df-container\">\n",
              "    <div>\n",
              "<style scoped>\n",
              "    .dataframe tbody tr th:only-of-type {\n",
              "        vertical-align: middle;\n",
              "    }\n",
              "\n",
              "    .dataframe tbody tr th {\n",
              "        vertical-align: top;\n",
              "    }\n",
              "\n",
              "    .dataframe thead th {\n",
              "        text-align: right;\n",
              "    }\n",
              "</style>\n",
              "<table border=\"1\" class=\"dataframe\">\n",
              "  <thead>\n",
              "    <tr style=\"text-align: right;\">\n",
              "      <th></th>\n",
              "      <th>Images</th>\n",
              "      <th>Bedrooms</th>\n",
              "      <th>bathrooms</th>\n",
              "      <th>Area</th>\n",
              "      <th>Zipcode</th>\n",
              "      <th>Price</th>\n",
              "    </tr>\n",
              "  </thead>\n",
              "  <tbody>\n",
              "    <tr>\n",
              "      <th>0</th>\n",
              "      <td>[[[171, 150, 119], [175, 150, 109], [123, 88, ...</td>\n",
              "      <td>4</td>\n",
              "      <td>4</td>\n",
              "      <td>4053</td>\n",
              "      <td>85255</td>\n",
              "      <td>869500</td>\n",
              "    </tr>\n",
              "    <tr>\n",
              "      <th>1</th>\n",
              "      <td>[[[229, 205, 178], [227, 205, 182], [227, 209,...</td>\n",
              "      <td>4</td>\n",
              "      <td>3</td>\n",
              "      <td>3343</td>\n",
              "      <td>36372</td>\n",
              "      <td>865200</td>\n",
              "    </tr>\n",
              "    <tr>\n",
              "      <th>2</th>\n",
              "      <td>[[[89, 42, 13], [100, 54, 31], [125, 85, 70], ...</td>\n",
              "      <td>3</td>\n",
              "      <td>4</td>\n",
              "      <td>3923</td>\n",
              "      <td>85266</td>\n",
              "      <td>889000</td>\n",
              "    </tr>\n",
              "    <tr>\n",
              "      <th>3</th>\n",
              "      <td>[[[247, 204, 162], [251, 206, 165], [255, 212,...</td>\n",
              "      <td>5</td>\n",
              "      <td>5</td>\n",
              "      <td>4022</td>\n",
              "      <td>85262</td>\n",
              "      <td>910000</td>\n",
              "    </tr>\n",
              "    <tr>\n",
              "      <th>4</th>\n",
              "      <td>[[[224, 250, 253], [91, 93, 84], [186, 156, 11...</td>\n",
              "      <td>3</td>\n",
              "      <td>4</td>\n",
              "      <td>4116</td>\n",
              "      <td>85266</td>\n",
              "      <td>971226</td>\n",
              "    </tr>\n",
              "    <tr>\n",
              "      <th>...</th>\n",
              "      <td>...</td>\n",
              "      <td>...</td>\n",
              "      <td>...</td>\n",
              "      <td>...</td>\n",
              "      <td>...</td>\n",
              "      <td>...</td>\n",
              "    </tr>\n",
              "    <tr>\n",
              "      <th>530</th>\n",
              "      <td>[[[231, 231, 230], [242, 242, 242], [246, 246,...</td>\n",
              "      <td>5</td>\n",
              "      <td>2</td>\n",
              "      <td>2066</td>\n",
              "      <td>94531</td>\n",
              "      <td>399900</td>\n",
              "    </tr>\n",
              "    <tr>\n",
              "      <th>531</th>\n",
              "      <td>[[[181, 180, 180], [222, 221, 220], [206, 206,...</td>\n",
              "      <td>4</td>\n",
              "      <td>3</td>\n",
              "      <td>9536</td>\n",
              "      <td>94531</td>\n",
              "      <td>460000</td>\n",
              "    </tr>\n",
              "    <tr>\n",
              "      <th>532</th>\n",
              "      <td>[[[34, 32, 32], [36, 34, 35], [31, 30, 31], [3...</td>\n",
              "      <td>3</td>\n",
              "      <td>2</td>\n",
              "      <td>2014</td>\n",
              "      <td>94531</td>\n",
              "      <td>407000</td>\n",
              "    </tr>\n",
              "    <tr>\n",
              "      <th>533</th>\n",
              "      <td>[[[252, 252, 252], [251, 251, 251], [248, 248,...</td>\n",
              "      <td>4</td>\n",
              "      <td>3</td>\n",
              "      <td>2312</td>\n",
              "      <td>94531</td>\n",
              "      <td>419000</td>\n",
              "    </tr>\n",
              "    <tr>\n",
              "      <th>534</th>\n",
              "      <td>[[[229, 229, 231], [244, 244, 246], [233, 233,...</td>\n",
              "      <td>5</td>\n",
              "      <td>3</td>\n",
              "      <td>3796</td>\n",
              "      <td>94531</td>\n",
              "      <td>615000</td>\n",
              "    </tr>\n",
              "  </tbody>\n",
              "</table>\n",
              "<p>535 rows × 6 columns</p>\n",
              "</div>\n",
              "    <div class=\"colab-df-buttons\">\n",
              "\n",
              "  <div class=\"colab-df-container\">\n",
              "    <button class=\"colab-df-convert\" onclick=\"convertToInteractive('df-402a26f6-b3b4-4afa-8b2c-c1f89fc35aac')\"\n",
              "            title=\"Convert this dataframe to an interactive table.\"\n",
              "            style=\"display:none;\">\n",
              "\n",
              "  <svg xmlns=\"http://www.w3.org/2000/svg\" height=\"24px\" viewBox=\"0 -960 960 960\">\n",
              "    <path d=\"M120-120v-720h720v720H120Zm60-500h600v-160H180v160Zm220 220h160v-160H400v160Zm0 220h160v-160H400v160ZM180-400h160v-160H180v160Zm440 0h160v-160H620v160ZM180-180h160v-160H180v160Zm440 0h160v-160H620v160Z\"/>\n",
              "  </svg>\n",
              "    </button>\n",
              "\n",
              "  <style>\n",
              "    .colab-df-container {\n",
              "      display:flex;\n",
              "      gap: 12px;\n",
              "    }\n",
              "\n",
              "    .colab-df-convert {\n",
              "      background-color: #E8F0FE;\n",
              "      border: none;\n",
              "      border-radius: 50%;\n",
              "      cursor: pointer;\n",
              "      display: none;\n",
              "      fill: #1967D2;\n",
              "      height: 32px;\n",
              "      padding: 0 0 0 0;\n",
              "      width: 32px;\n",
              "    }\n",
              "\n",
              "    .colab-df-convert:hover {\n",
              "      background-color: #E2EBFA;\n",
              "      box-shadow: 0px 1px 2px rgba(60, 64, 67, 0.3), 0px 1px 3px 1px rgba(60, 64, 67, 0.15);\n",
              "      fill: #174EA6;\n",
              "    }\n",
              "\n",
              "    .colab-df-buttons div {\n",
              "      margin-bottom: 4px;\n",
              "    }\n",
              "\n",
              "    [theme=dark] .colab-df-convert {\n",
              "      background-color: #3B4455;\n",
              "      fill: #D2E3FC;\n",
              "    }\n",
              "\n",
              "    [theme=dark] .colab-df-convert:hover {\n",
              "      background-color: #434B5C;\n",
              "      box-shadow: 0px 1px 3px 1px rgba(0, 0, 0, 0.15);\n",
              "      filter: drop-shadow(0px 1px 2px rgba(0, 0, 0, 0.3));\n",
              "      fill: #FFFFFF;\n",
              "    }\n",
              "  </style>\n",
              "\n",
              "    <script>\n",
              "      const buttonEl =\n",
              "        document.querySelector('#df-402a26f6-b3b4-4afa-8b2c-c1f89fc35aac button.colab-df-convert');\n",
              "      buttonEl.style.display =\n",
              "        google.colab.kernel.accessAllowed ? 'block' : 'none';\n",
              "\n",
              "      async function convertToInteractive(key) {\n",
              "        const element = document.querySelector('#df-402a26f6-b3b4-4afa-8b2c-c1f89fc35aac');\n",
              "        const dataTable =\n",
              "          await google.colab.kernel.invokeFunction('convertToInteractive',\n",
              "                                                    [key], {});\n",
              "        if (!dataTable) return;\n",
              "\n",
              "        const docLinkHtml = 'Like what you see? Visit the ' +\n",
              "          '<a target=\"_blank\" href=https://colab.research.google.com/notebooks/data_table.ipynb>data table notebook</a>'\n",
              "          + ' to learn more about interactive tables.';\n",
              "        element.innerHTML = '';\n",
              "        dataTable['output_type'] = 'display_data';\n",
              "        await google.colab.output.renderOutput(dataTable, element);\n",
              "        const docLink = document.createElement('div');\n",
              "        docLink.innerHTML = docLinkHtml;\n",
              "        element.appendChild(docLink);\n",
              "      }\n",
              "    </script>\n",
              "  </div>\n",
              "\n",
              "\n",
              "<div id=\"df-dc28c586-e003-4bdf-b965-de3ce220dd57\">\n",
              "  <button class=\"colab-df-quickchart\" onclick=\"quickchart('df-dc28c586-e003-4bdf-b965-de3ce220dd57')\"\n",
              "            title=\"Suggest charts\"\n",
              "            style=\"display:none;\">\n",
              "\n",
              "<svg xmlns=\"http://www.w3.org/2000/svg\" height=\"24px\"viewBox=\"0 0 24 24\"\n",
              "     width=\"24px\">\n",
              "    <g>\n",
              "        <path d=\"M19 3H5c-1.1 0-2 .9-2 2v14c0 1.1.9 2 2 2h14c1.1 0 2-.9 2-2V5c0-1.1-.9-2-2-2zM9 17H7v-7h2v7zm4 0h-2V7h2v10zm4 0h-2v-4h2v4z\"/>\n",
              "    </g>\n",
              "</svg>\n",
              "  </button>\n",
              "\n",
              "<style>\n",
              "  .colab-df-quickchart {\n",
              "      --bg-color: #E8F0FE;\n",
              "      --fill-color: #1967D2;\n",
              "      --hover-bg-color: #E2EBFA;\n",
              "      --hover-fill-color: #174EA6;\n",
              "      --disabled-fill-color: #AAA;\n",
              "      --disabled-bg-color: #DDD;\n",
              "  }\n",
              "\n",
              "  [theme=dark] .colab-df-quickchart {\n",
              "      --bg-color: #3B4455;\n",
              "      --fill-color: #D2E3FC;\n",
              "      --hover-bg-color: #434B5C;\n",
              "      --hover-fill-color: #FFFFFF;\n",
              "      --disabled-bg-color: #3B4455;\n",
              "      --disabled-fill-color: #666;\n",
              "  }\n",
              "\n",
              "  .colab-df-quickchart {\n",
              "    background-color: var(--bg-color);\n",
              "    border: none;\n",
              "    border-radius: 50%;\n",
              "    cursor: pointer;\n",
              "    display: none;\n",
              "    fill: var(--fill-color);\n",
              "    height: 32px;\n",
              "    padding: 0;\n",
              "    width: 32px;\n",
              "  }\n",
              "\n",
              "  .colab-df-quickchart:hover {\n",
              "    background-color: var(--hover-bg-color);\n",
              "    box-shadow: 0 1px 2px rgba(60, 64, 67, 0.3), 0 1px 3px 1px rgba(60, 64, 67, 0.15);\n",
              "    fill: var(--button-hover-fill-color);\n",
              "  }\n",
              "\n",
              "  .colab-df-quickchart-complete:disabled,\n",
              "  .colab-df-quickchart-complete:disabled:hover {\n",
              "    background-color: var(--disabled-bg-color);\n",
              "    fill: var(--disabled-fill-color);\n",
              "    box-shadow: none;\n",
              "  }\n",
              "\n",
              "  .colab-df-spinner {\n",
              "    border: 2px solid var(--fill-color);\n",
              "    border-color: transparent;\n",
              "    border-bottom-color: var(--fill-color);\n",
              "    animation:\n",
              "      spin 1s steps(1) infinite;\n",
              "  }\n",
              "\n",
              "  @keyframes spin {\n",
              "    0% {\n",
              "      border-color: transparent;\n",
              "      border-bottom-color: var(--fill-color);\n",
              "      border-left-color: var(--fill-color);\n",
              "    }\n",
              "    20% {\n",
              "      border-color: transparent;\n",
              "      border-left-color: var(--fill-color);\n",
              "      border-top-color: var(--fill-color);\n",
              "    }\n",
              "    30% {\n",
              "      border-color: transparent;\n",
              "      border-left-color: var(--fill-color);\n",
              "      border-top-color: var(--fill-color);\n",
              "      border-right-color: var(--fill-color);\n",
              "    }\n",
              "    40% {\n",
              "      border-color: transparent;\n",
              "      border-right-color: var(--fill-color);\n",
              "      border-top-color: var(--fill-color);\n",
              "    }\n",
              "    60% {\n",
              "      border-color: transparent;\n",
              "      border-right-color: var(--fill-color);\n",
              "    }\n",
              "    80% {\n",
              "      border-color: transparent;\n",
              "      border-right-color: var(--fill-color);\n",
              "      border-bottom-color: var(--fill-color);\n",
              "    }\n",
              "    90% {\n",
              "      border-color: transparent;\n",
              "      border-bottom-color: var(--fill-color);\n",
              "    }\n",
              "  }\n",
              "</style>\n",
              "\n",
              "  <script>\n",
              "    async function quickchart(key) {\n",
              "      const quickchartButtonEl =\n",
              "        document.querySelector('#' + key + ' button');\n",
              "      quickchartButtonEl.disabled = true;  // To prevent multiple clicks.\n",
              "      quickchartButtonEl.classList.add('colab-df-spinner');\n",
              "      try {\n",
              "        const charts = await google.colab.kernel.invokeFunction(\n",
              "            'suggestCharts', [key], {});\n",
              "      } catch (error) {\n",
              "        console.error('Error during call to suggestCharts:', error);\n",
              "      }\n",
              "      quickchartButtonEl.classList.remove('colab-df-spinner');\n",
              "      quickchartButtonEl.classList.add('colab-df-quickchart-complete');\n",
              "    }\n",
              "    (() => {\n",
              "      let quickchartButtonEl =\n",
              "        document.querySelector('#df-dc28c586-e003-4bdf-b965-de3ce220dd57 button');\n",
              "      quickchartButtonEl.style.display =\n",
              "        google.colab.kernel.accessAllowed ? 'block' : 'none';\n",
              "    })();\n",
              "  </script>\n",
              "</div>\n",
              "    </div>\n",
              "  </div>\n"
            ]
          },
          "metadata": {},
          "execution_count": 20
        }
      ]
    },
    {
      "cell_type": "code",
      "source": [],
      "metadata": {
        "id": "oGbmgBtj-96w"
      },
      "execution_count": 20,
      "outputs": []
    },
    {
      "cell_type": "markdown",
      "source": [
        "# Create model & train :"
      ],
      "metadata": {
        "id": "8MOPaOlI-3Xl"
      }
    },
    {
      "cell_type": "code",
      "source": [
        "X = np.array(df[\"Images\"].values.tolist())\n",
        "Y = np.array(df[\"Price\"].values.tolist())\n",
        "\n",
        "print(X.shape)\n",
        "print(Y.shape)\n",
        ""
      ],
      "metadata": {
        "colab": {
          "base_uri": "https://localhost:8080/"
        },
        "id": "CURawsdG_L1N",
        "outputId": "3a111ac3-a87d-451e-d2fb-324f09231838"
      },
      "execution_count": 21,
      "outputs": [
        {
          "output_type": "stream",
          "name": "stdout",
          "text": [
            "(535, 200, 200, 3)\n",
            "(535,)\n"
          ]
        }
      ]
    },
    {
      "cell_type": "code",
      "source": [
        "from sklearn.model_selection import train_test_split\n",
        "\n",
        "X_train , X_val , Y_train , Y_val = train_test_split(X , Y , test_size=0.1)\n",
        "print(X_train.shape)\n",
        "print(X_val.shape)\n",
        "print(Y_train.shape)\n",
        "print(Y_val.shape)"
      ],
      "metadata": {
        "colab": {
          "base_uri": "https://localhost:8080/"
        },
        "id": "cQwY49FF_WeP",
        "outputId": "a61f6191-61c5-4eb5-e658-e42efff1f86d"
      },
      "execution_count": 22,
      "outputs": [
        {
          "output_type": "stream",
          "name": "stdout",
          "text": [
            "(481, 200, 200, 3)\n",
            "(54, 200, 200, 3)\n",
            "(481,)\n",
            "(54,)\n"
          ]
        }
      ]
    },
    {
      "cell_type": "code",
      "source": [
        "image_data_generator = tf.keras.preprocessing.image.ImageDataGenerator(\n",
        "    rescale=1./255.,\n",
        "    width_shift_range=0.1,\n",
        "    height_shift_range=0.1,\n",
        "    horizontal_flip=True\n",
        ")\n",
        "\n",
        "train_data = image_data_generator.flow(\n",
        "    X_train,\n",
        "    Y_train,\n",
        "    shuffle=True\n",
        ")\n",
        "\n",
        "validation_data = image_data_generator.flow(\n",
        "    X_val,\n",
        "    Y_val,\n",
        "    batch_size=16,\n",
        "    shuffle=False\n",
        ")"
      ],
      "metadata": {
        "id": "xTGJgslO_ncT"
      },
      "execution_count": 23,
      "outputs": []
    },
    {
      "cell_type": "code",
      "source": [
        "del X\n",
        "del Y\n",
        "del df\n",
        "del images\n",
        "del image"
      ],
      "metadata": {
        "id": "5QB_ZuamAFzc"
      },
      "execution_count": 24,
      "outputs": []
    },
    {
      "cell_type": "markdown",
      "source": [
        "# wandb"
      ],
      "metadata": {
        "id": "I5va3dlxAM87"
      }
    },
    {
      "cell_type": "code",
      "source": [
        "run = wandb.init(project=\"House_price_prediction\")\n",
        "\n",
        "from wandb.sdk.wandb_run import wandb_metric\n",
        "config = wandb.config\n",
        "from wandb.keras import (\n",
        "   WandbMetricsLogger,\n",
        "   WandbModelCheckpoint,\n",
        ")\n",
        "\n",
        "wandb_callbacks = [\n",
        "   WandbMetricsLogger(log_freq=5),\n",
        "   WandbModelCheckpoint(\"models\"),\n",
        "]\n"
      ],
      "metadata": {
        "colab": {
          "base_uri": "https://localhost:8080/",
          "height": 191
        },
        "id": "4JsNT9BCAIlU",
        "outputId": "40482ad6-b888-4ee1-e99a-702d15b0fd1b"
      },
      "execution_count": 25,
      "outputs": [
        {
          "output_type": "display_data",
          "data": {
            "text/plain": [
              "<IPython.core.display.Javascript object>"
            ],
            "application/javascript": [
              "\n",
              "        window._wandbApiKey = new Promise((resolve, reject) => {\n",
              "            function loadScript(url) {\n",
              "            return new Promise(function(resolve, reject) {\n",
              "                let newScript = document.createElement(\"script\");\n",
              "                newScript.onerror = reject;\n",
              "                newScript.onload = resolve;\n",
              "                document.body.appendChild(newScript);\n",
              "                newScript.src = url;\n",
              "            });\n",
              "            }\n",
              "            loadScript(\"https://cdn.jsdelivr.net/npm/postmate/build/postmate.min.js\").then(() => {\n",
              "            const iframe = document.createElement('iframe')\n",
              "            iframe.style.cssText = \"width:0;height:0;border:none\"\n",
              "            document.body.appendChild(iframe)\n",
              "            const handshake = new Postmate({\n",
              "                container: iframe,\n",
              "                url: 'https://wandb.ai/authorize'\n",
              "            });\n",
              "            const timeout = setTimeout(() => reject(\"Couldn't auto authenticate\"), 5000)\n",
              "            handshake.then(function(child) {\n",
              "                child.on('authorize', data => {\n",
              "                    clearTimeout(timeout)\n",
              "                    resolve(data)\n",
              "                });\n",
              "            });\n",
              "            })\n",
              "        });\n",
              "    "
            ]
          },
          "metadata": {}
        },
        {
          "output_type": "stream",
          "name": "stderr",
          "text": [
            "\u001b[34m\u001b[1mwandb\u001b[0m: Logging into wandb.ai. (Learn how to deploy a W&B server locally: https://wandb.me/wandb-server)\n",
            "\u001b[34m\u001b[1mwandb\u001b[0m: You can find your API key in your browser here: https://wandb.ai/authorize\n",
            "wandb: Paste an API key from your profile and hit enter, or press ctrl+c to quit:"
          ]
        },
        {
          "name": "stdout",
          "output_type": "stream",
          "text": [
            " ··········\n"
          ]
        },
        {
          "output_type": "stream",
          "name": "stderr",
          "text": [
            "\u001b[34m\u001b[1mwandb\u001b[0m: Appending key for api.wandb.ai to your netrc file: /root/.netrc\n"
          ]
        },
        {
          "output_type": "display_data",
          "data": {
            "text/plain": [
              "<IPython.core.display.HTML object>"
            ],
            "text/html": [
              "Tracking run with wandb version 0.16.0"
            ]
          },
          "metadata": {}
        },
        {
          "output_type": "display_data",
          "data": {
            "text/plain": [
              "<IPython.core.display.HTML object>"
            ],
            "text/html": [
              "Run data is saved locally in <code>/content/wandb/run-20231111_213012-5fuhyx8k</code>"
            ]
          },
          "metadata": {}
        },
        {
          "output_type": "display_data",
          "data": {
            "text/plain": [
              "<IPython.core.display.HTML object>"
            ],
            "text/html": [
              "Syncing run <strong><a href='https://wandb.ai/kianajahanshid/House_price_prediction/runs/5fuhyx8k' target=\"_blank\">smart-frog-3</a></strong> to <a href='https://wandb.ai/kianajahanshid/House_price_prediction' target=\"_blank\">Weights & Biases</a> (<a href='https://wandb.me/run' target=\"_blank\">docs</a>)<br/>"
            ]
          },
          "metadata": {}
        },
        {
          "output_type": "display_data",
          "data": {
            "text/plain": [
              "<IPython.core.display.HTML object>"
            ],
            "text/html": [
              " View project at <a href='https://wandb.ai/kianajahanshid/House_price_prediction' target=\"_blank\">https://wandb.ai/kianajahanshid/House_price_prediction</a>"
            ]
          },
          "metadata": {}
        },
        {
          "output_type": "display_data",
          "data": {
            "text/plain": [
              "<IPython.core.display.HTML object>"
            ],
            "text/html": [
              " View run at <a href='https://wandb.ai/kianajahanshid/House_price_prediction/runs/5fuhyx8k' target=\"_blank\">https://wandb.ai/kianajahanshid/House_price_prediction/runs/5fuhyx8k</a>"
            ]
          },
          "metadata": {}
        }
      ]
    },
    {
      "cell_type": "code",
      "source": [
        "initial_model = tf.keras.applications.VGG16(\n",
        "    weights=\"imagenet\",\n",
        "    include_top=False,\n",
        "    input_shape=(200,200,3),\n",
        "    pooling=\"avg\"\n",
        ")"
      ],
      "metadata": {
        "id": "UW1c7JQyE33K"
      },
      "execution_count": 36,
      "outputs": []
    },
    {
      "cell_type": "code",
      "source": [
        "for layer in initial_model.layers:\n",
        "  layer.trainable = False"
      ],
      "metadata": {
        "id": "uj-TnHYiE4oY"
      },
      "execution_count": 37,
      "outputs": []
    },
    {
      "cell_type": "code",
      "source": [
        "\n",
        "model = tf.keras.Sequential([\n",
        "    initial_model,\n",
        "    tf.keras.layers.Dropout(0.5),\n",
        "    tf.keras.layers.Dense(1, activation=\"tanh\")\n",
        "])\n",
        "\n",
        "\n",
        "model.compile(loss=tf.keras.losses.mean_absolute_percentage_error , optimizer=tf.keras.optimizers.Adam(learning_rate=0.01)) # chon regression hast niyazi be accuracy nadarim\n",
        "\n",
        "history = model.fit(train_data , validation_data=validation_data , epochs=15 , callbacks=wandb_callbacks)"
      ],
      "metadata": {
        "colab": {
          "base_uri": "https://localhost:8080/",
          "height": 633
        },
        "id": "wiSikhliAhWh",
        "outputId": "78456ae8-bcf2-48c4-b3e4-d8c37baf8d32"
      },
      "execution_count": 39,
      "outputs": [
        {
          "output_type": "stream",
          "name": "stdout",
          "text": [
            "Epoch 1/15\n",
            "16/16 [==============================] - ETA: 0s - loss: 99.9999  "
          ]
        },
        {
          "output_type": "stream",
          "name": "stderr",
          "text": [
            "\u001b[34m\u001b[1mwandb\u001b[0m: Adding directory to artifact (./models)... Done. 0.3s\n"
          ]
        },
        {
          "output_type": "stream",
          "name": "stdout",
          "text": [
            "\b\b\b\b\b\b\b\b\b\b\b\b\b\b\b\b\b\b\b\b\b\b\b\b\b\b\b\b\b\b\b\b\b\b\b\b\b\b\b\b\b\b\b\b\b\b\b\b\b\b\b\b\b\b\b\b\b\b\b\b\b\b\b\b\r16/16 [==============================] - 306s 19s/step - loss: 99.9999 - val_loss: 99.9998\n",
            "Epoch 2/15\n",
            "16/16 [==============================] - ETA: 0s - loss: 99.9997 "
          ]
        },
        {
          "output_type": "stream",
          "name": "stderr",
          "text": [
            "\u001b[34m\u001b[1mwandb\u001b[0m: Adding directory to artifact (./models)... Done. 0.3s\n"
          ]
        },
        {
          "output_type": "stream",
          "name": "stdout",
          "text": [
            "\b\b\b\b\b\b\b\b\b\b\b\b\b\b\b\b\b\b\b\b\b\b\b\b\b\b\b\b\b\b\b\b\b\b\b\b\b\b\b\b\b\b\b\b\b\b\b\b\b\b\b\b\b\b\b\b\b\b\b\b\b\b\b\b\r16/16 [==============================] - 298s 19s/step - loss: 99.9997 - val_loss: 99.9997\n",
            "Epoch 3/15\n",
            "16/16 [==============================] - ETA: 0s - loss: 99.9997 "
          ]
        },
        {
          "output_type": "stream",
          "name": "stderr",
          "text": [
            "\u001b[34m\u001b[1mwandb\u001b[0m: Adding directory to artifact (./models)... Done. 0.3s\n"
          ]
        },
        {
          "output_type": "stream",
          "name": "stdout",
          "text": [
            "\b\b\b\b\b\b\b\b\b\b\b\b\b\b\b\b\b\b\b\b\b\b\b\b\b\b\b\b\b\b\b\b\b\b\b\b\b\b\b\b\b\b\b\b\b\b\b\b\b\b\b\b\b\b\b\b\b\b\b\b\b\b\b\b\r16/16 [==============================] - 301s 19s/step - loss: 99.9997 - val_loss: 99.9997\n",
            "Epoch 4/15\n",
            "16/16 [==============================] - ETA: 0s - loss: 99.9996 "
          ]
        },
        {
          "output_type": "stream",
          "name": "stderr",
          "text": [
            "\u001b[34m\u001b[1mwandb\u001b[0m: Adding directory to artifact (./models)... Done. 3.8s\n"
          ]
        },
        {
          "output_type": "stream",
          "name": "stdout",
          "text": [
            "\b\b\b\b\b\b\b\b\b\b\b\b\b\b\b\b\b\b\b\b\b\b\b\b\b\b\b\b\b\b\b\b\b\b\b\b\b\b\b\b\b\b\b\b\b\b\b\b\b\b\b\b\b\b\b\b\b\b\b\b\b\b\b\b\r16/16 [==============================] - 290s 18s/step - loss: 99.9996 - val_loss: 99.9997\n",
            "Epoch 5/15\n",
            "16/16 [==============================] - ETA: 0s - loss: 99.9996 "
          ]
        },
        {
          "output_type": "error",
          "ename": "KeyboardInterrupt",
          "evalue": "ignored",
          "traceback": [
            "\u001b[0;31m---------------------------------------------------------------------------\u001b[0m",
            "\u001b[0;31mKeyboardInterrupt\u001b[0m                         Traceback (most recent call last)",
            "\u001b[0;32m<ipython-input-39-441276c57fc9>\u001b[0m in \u001b[0;36m<cell line: 10>\u001b[0;34m()\u001b[0m\n\u001b[1;32m      8\u001b[0m \u001b[0mmodel\u001b[0m\u001b[0;34m.\u001b[0m\u001b[0mcompile\u001b[0m\u001b[0;34m(\u001b[0m\u001b[0mloss\u001b[0m\u001b[0;34m=\u001b[0m\u001b[0mtf\u001b[0m\u001b[0;34m.\u001b[0m\u001b[0mkeras\u001b[0m\u001b[0;34m.\u001b[0m\u001b[0mlosses\u001b[0m\u001b[0;34m.\u001b[0m\u001b[0mmean_absolute_percentage_error\u001b[0m \u001b[0;34m,\u001b[0m \u001b[0moptimizer\u001b[0m\u001b[0;34m=\u001b[0m\u001b[0mtf\u001b[0m\u001b[0;34m.\u001b[0m\u001b[0mkeras\u001b[0m\u001b[0;34m.\u001b[0m\u001b[0moptimizers\u001b[0m\u001b[0;34m.\u001b[0m\u001b[0mAdam\u001b[0m\u001b[0;34m(\u001b[0m\u001b[0mlearning_rate\u001b[0m\u001b[0;34m=\u001b[0m\u001b[0;36m0.001\u001b[0m\u001b[0;34m)\u001b[0m\u001b[0;34m)\u001b[0m \u001b[0;31m# chon regression hast niyazi be accuracy nadarim\u001b[0m\u001b[0;34m\u001b[0m\u001b[0;34m\u001b[0m\u001b[0m\n\u001b[1;32m      9\u001b[0m \u001b[0;34m\u001b[0m\u001b[0m\n\u001b[0;32m---> 10\u001b[0;31m \u001b[0mhistory\u001b[0m \u001b[0;34m=\u001b[0m \u001b[0mmodel\u001b[0m\u001b[0;34m.\u001b[0m\u001b[0mfit\u001b[0m\u001b[0;34m(\u001b[0m\u001b[0mtrain_data\u001b[0m \u001b[0;34m,\u001b[0m \u001b[0mvalidation_data\u001b[0m\u001b[0;34m=\u001b[0m\u001b[0mvalidation_data\u001b[0m \u001b[0;34m,\u001b[0m \u001b[0mepochs\u001b[0m\u001b[0;34m=\u001b[0m\u001b[0;36m15\u001b[0m \u001b[0;34m,\u001b[0m \u001b[0mcallbacks\u001b[0m\u001b[0;34m=\u001b[0m\u001b[0mwandb_callbacks\u001b[0m\u001b[0;34m)\u001b[0m\u001b[0;34m\u001b[0m\u001b[0;34m\u001b[0m\u001b[0m\n\u001b[0m",
            "\u001b[0;32m/usr/local/lib/python3.10/dist-packages/keras/src/utils/traceback_utils.py\u001b[0m in \u001b[0;36merror_handler\u001b[0;34m(*args, **kwargs)\u001b[0m\n\u001b[1;32m     63\u001b[0m         \u001b[0mfiltered_tb\u001b[0m \u001b[0;34m=\u001b[0m \u001b[0;32mNone\u001b[0m\u001b[0;34m\u001b[0m\u001b[0;34m\u001b[0m\u001b[0m\n\u001b[1;32m     64\u001b[0m         \u001b[0;32mtry\u001b[0m\u001b[0;34m:\u001b[0m\u001b[0;34m\u001b[0m\u001b[0;34m\u001b[0m\u001b[0m\n\u001b[0;32m---> 65\u001b[0;31m             \u001b[0;32mreturn\u001b[0m \u001b[0mfn\u001b[0m\u001b[0;34m(\u001b[0m\u001b[0;34m*\u001b[0m\u001b[0margs\u001b[0m\u001b[0;34m,\u001b[0m \u001b[0;34m**\u001b[0m\u001b[0mkwargs\u001b[0m\u001b[0;34m)\u001b[0m\u001b[0;34m\u001b[0m\u001b[0;34m\u001b[0m\u001b[0m\n\u001b[0m\u001b[1;32m     66\u001b[0m         \u001b[0;32mexcept\u001b[0m \u001b[0mException\u001b[0m \u001b[0;32mas\u001b[0m \u001b[0me\u001b[0m\u001b[0;34m:\u001b[0m\u001b[0;34m\u001b[0m\u001b[0;34m\u001b[0m\u001b[0m\n\u001b[1;32m     67\u001b[0m             \u001b[0mfiltered_tb\u001b[0m \u001b[0;34m=\u001b[0m \u001b[0m_process_traceback_frames\u001b[0m\u001b[0;34m(\u001b[0m\u001b[0me\u001b[0m\u001b[0;34m.\u001b[0m\u001b[0m__traceback__\u001b[0m\u001b[0;34m)\u001b[0m\u001b[0;34m\u001b[0m\u001b[0;34m\u001b[0m\u001b[0m\n",
            "\u001b[0;32m/usr/local/lib/python3.10/dist-packages/keras/src/engine/training.py\u001b[0m in \u001b[0;36mfit\u001b[0;34m(self, x, y, batch_size, epochs, verbose, callbacks, validation_split, validation_data, shuffle, class_weight, sample_weight, initial_epoch, steps_per_epoch, validation_steps, validation_batch_size, validation_freq, max_queue_size, workers, use_multiprocessing)\u001b[0m\n\u001b[1;32m   1830\u001b[0m                             \u001b[0mpss_evaluation_shards\u001b[0m\u001b[0;34m=\u001b[0m\u001b[0mself\u001b[0m\u001b[0;34m.\u001b[0m\u001b[0m_pss_evaluation_shards\u001b[0m\u001b[0;34m,\u001b[0m\u001b[0;34m\u001b[0m\u001b[0;34m\u001b[0m\u001b[0m\n\u001b[1;32m   1831\u001b[0m                         )\n\u001b[0;32m-> 1832\u001b[0;31m                     val_logs = self.evaluate(\n\u001b[0m\u001b[1;32m   1833\u001b[0m                         \u001b[0mx\u001b[0m\u001b[0;34m=\u001b[0m\u001b[0mval_x\u001b[0m\u001b[0;34m,\u001b[0m\u001b[0;34m\u001b[0m\u001b[0;34m\u001b[0m\u001b[0m\n\u001b[1;32m   1834\u001b[0m                         \u001b[0my\u001b[0m\u001b[0;34m=\u001b[0m\u001b[0mval_y\u001b[0m\u001b[0;34m,\u001b[0m\u001b[0;34m\u001b[0m\u001b[0;34m\u001b[0m\u001b[0m\n",
            "\u001b[0;32m/usr/local/lib/python3.10/dist-packages/keras/src/utils/traceback_utils.py\u001b[0m in \u001b[0;36merror_handler\u001b[0;34m(*args, **kwargs)\u001b[0m\n\u001b[1;32m     63\u001b[0m         \u001b[0mfiltered_tb\u001b[0m \u001b[0;34m=\u001b[0m \u001b[0;32mNone\u001b[0m\u001b[0;34m\u001b[0m\u001b[0;34m\u001b[0m\u001b[0m\n\u001b[1;32m     64\u001b[0m         \u001b[0;32mtry\u001b[0m\u001b[0;34m:\u001b[0m\u001b[0;34m\u001b[0m\u001b[0;34m\u001b[0m\u001b[0m\n\u001b[0;32m---> 65\u001b[0;31m             \u001b[0;32mreturn\u001b[0m \u001b[0mfn\u001b[0m\u001b[0;34m(\u001b[0m\u001b[0;34m*\u001b[0m\u001b[0margs\u001b[0m\u001b[0;34m,\u001b[0m \u001b[0;34m**\u001b[0m\u001b[0mkwargs\u001b[0m\u001b[0;34m)\u001b[0m\u001b[0;34m\u001b[0m\u001b[0;34m\u001b[0m\u001b[0m\n\u001b[0m\u001b[1;32m     66\u001b[0m         \u001b[0;32mexcept\u001b[0m \u001b[0mException\u001b[0m \u001b[0;32mas\u001b[0m \u001b[0me\u001b[0m\u001b[0;34m:\u001b[0m\u001b[0;34m\u001b[0m\u001b[0;34m\u001b[0m\u001b[0m\n\u001b[1;32m     67\u001b[0m             \u001b[0mfiltered_tb\u001b[0m \u001b[0;34m=\u001b[0m \u001b[0m_process_traceback_frames\u001b[0m\u001b[0;34m(\u001b[0m\u001b[0me\u001b[0m\u001b[0;34m.\u001b[0m\u001b[0m__traceback__\u001b[0m\u001b[0;34m)\u001b[0m\u001b[0;34m\u001b[0m\u001b[0;34m\u001b[0m\u001b[0m\n",
            "\u001b[0;32m/usr/local/lib/python3.10/dist-packages/keras/src/engine/training.py\u001b[0m in \u001b[0;36mevaluate\u001b[0;34m(self, x, y, batch_size, verbose, sample_weight, steps, callbacks, max_queue_size, workers, use_multiprocessing, return_dict, **kwargs)\u001b[0m\n\u001b[1;32m   2270\u001b[0m                         ):\n\u001b[1;32m   2271\u001b[0m                             \u001b[0mcallbacks\u001b[0m\u001b[0;34m.\u001b[0m\u001b[0mon_test_batch_begin\u001b[0m\u001b[0;34m(\u001b[0m\u001b[0mstep\u001b[0m\u001b[0;34m)\u001b[0m\u001b[0;34m\u001b[0m\u001b[0;34m\u001b[0m\u001b[0m\n\u001b[0;32m-> 2272\u001b[0;31m                             logs = test_function_runner.run_step(\n\u001b[0m\u001b[1;32m   2273\u001b[0m                                 \u001b[0mdataset_or_iterator\u001b[0m\u001b[0;34m,\u001b[0m\u001b[0;34m\u001b[0m\u001b[0;34m\u001b[0m\u001b[0m\n\u001b[1;32m   2274\u001b[0m                                 \u001b[0mdata_handler\u001b[0m\u001b[0;34m,\u001b[0m\u001b[0;34m\u001b[0m\u001b[0;34m\u001b[0m\u001b[0m\n",
            "\u001b[0;32m/usr/local/lib/python3.10/dist-packages/keras/src/engine/training.py\u001b[0m in \u001b[0;36mrun_step\u001b[0;34m(self, dataset_or_iterator, data_handler, step, unused_shards)\u001b[0m\n\u001b[1;32m   4077\u001b[0m \u001b[0;34m\u001b[0m\u001b[0m\n\u001b[1;32m   4078\u001b[0m     \u001b[0;32mdef\u001b[0m \u001b[0mrun_step\u001b[0m\u001b[0;34m(\u001b[0m\u001b[0mself\u001b[0m\u001b[0;34m,\u001b[0m \u001b[0mdataset_or_iterator\u001b[0m\u001b[0;34m,\u001b[0m \u001b[0mdata_handler\u001b[0m\u001b[0;34m,\u001b[0m \u001b[0mstep\u001b[0m\u001b[0;34m,\u001b[0m \u001b[0munused_shards\u001b[0m\u001b[0;34m)\u001b[0m\u001b[0;34m:\u001b[0m\u001b[0;34m\u001b[0m\u001b[0;34m\u001b[0m\u001b[0m\n\u001b[0;32m-> 4079\u001b[0;31m         \u001b[0mtmp_logs\u001b[0m \u001b[0;34m=\u001b[0m \u001b[0mself\u001b[0m\u001b[0;34m.\u001b[0m\u001b[0m_function\u001b[0m\u001b[0;34m(\u001b[0m\u001b[0mdataset_or_iterator\u001b[0m\u001b[0;34m)\u001b[0m\u001b[0;34m\u001b[0m\u001b[0;34m\u001b[0m\u001b[0m\n\u001b[0m\u001b[1;32m   4080\u001b[0m         \u001b[0;32mif\u001b[0m \u001b[0mdata_handler\u001b[0m\u001b[0;34m.\u001b[0m\u001b[0mshould_sync\u001b[0m\u001b[0;34m:\u001b[0m\u001b[0;34m\u001b[0m\u001b[0;34m\u001b[0m\u001b[0m\n\u001b[1;32m   4081\u001b[0m             \u001b[0mcontext\u001b[0m\u001b[0;34m.\u001b[0m\u001b[0masync_wait\u001b[0m\u001b[0;34m(\u001b[0m\u001b[0;34m)\u001b[0m\u001b[0;34m\u001b[0m\u001b[0;34m\u001b[0m\u001b[0m\n",
            "\u001b[0;32m/usr/local/lib/python3.10/dist-packages/tensorflow/python/util/traceback_utils.py\u001b[0m in \u001b[0;36merror_handler\u001b[0;34m(*args, **kwargs)\u001b[0m\n\u001b[1;32m    148\u001b[0m     \u001b[0mfiltered_tb\u001b[0m \u001b[0;34m=\u001b[0m \u001b[0;32mNone\u001b[0m\u001b[0;34m\u001b[0m\u001b[0;34m\u001b[0m\u001b[0m\n\u001b[1;32m    149\u001b[0m     \u001b[0;32mtry\u001b[0m\u001b[0;34m:\u001b[0m\u001b[0;34m\u001b[0m\u001b[0;34m\u001b[0m\u001b[0m\n\u001b[0;32m--> 150\u001b[0;31m       \u001b[0;32mreturn\u001b[0m \u001b[0mfn\u001b[0m\u001b[0;34m(\u001b[0m\u001b[0;34m*\u001b[0m\u001b[0margs\u001b[0m\u001b[0;34m,\u001b[0m \u001b[0;34m**\u001b[0m\u001b[0mkwargs\u001b[0m\u001b[0;34m)\u001b[0m\u001b[0;34m\u001b[0m\u001b[0;34m\u001b[0m\u001b[0m\n\u001b[0m\u001b[1;32m    151\u001b[0m     \u001b[0;32mexcept\u001b[0m \u001b[0mException\u001b[0m \u001b[0;32mas\u001b[0m \u001b[0me\u001b[0m\u001b[0;34m:\u001b[0m\u001b[0;34m\u001b[0m\u001b[0;34m\u001b[0m\u001b[0m\n\u001b[1;32m    152\u001b[0m       \u001b[0mfiltered_tb\u001b[0m \u001b[0;34m=\u001b[0m \u001b[0m_process_traceback_frames\u001b[0m\u001b[0;34m(\u001b[0m\u001b[0me\u001b[0m\u001b[0;34m.\u001b[0m\u001b[0m__traceback__\u001b[0m\u001b[0;34m)\u001b[0m\u001b[0;34m\u001b[0m\u001b[0;34m\u001b[0m\u001b[0m\n",
            "\u001b[0;32m/usr/local/lib/python3.10/dist-packages/tensorflow/python/eager/polymorphic_function/polymorphic_function.py\u001b[0m in \u001b[0;36m__call__\u001b[0;34m(self, *args, **kwds)\u001b[0m\n\u001b[1;32m    829\u001b[0m \u001b[0;34m\u001b[0m\u001b[0m\n\u001b[1;32m    830\u001b[0m       \u001b[0;32mwith\u001b[0m \u001b[0mOptionalXlaContext\u001b[0m\u001b[0;34m(\u001b[0m\u001b[0mself\u001b[0m\u001b[0;34m.\u001b[0m\u001b[0m_jit_compile\u001b[0m\u001b[0;34m)\u001b[0m\u001b[0;34m:\u001b[0m\u001b[0;34m\u001b[0m\u001b[0;34m\u001b[0m\u001b[0m\n\u001b[0;32m--> 831\u001b[0;31m         \u001b[0mresult\u001b[0m \u001b[0;34m=\u001b[0m \u001b[0mself\u001b[0m\u001b[0;34m.\u001b[0m\u001b[0m_call\u001b[0m\u001b[0;34m(\u001b[0m\u001b[0;34m*\u001b[0m\u001b[0margs\u001b[0m\u001b[0;34m,\u001b[0m \u001b[0;34m**\u001b[0m\u001b[0mkwds\u001b[0m\u001b[0;34m)\u001b[0m\u001b[0;34m\u001b[0m\u001b[0;34m\u001b[0m\u001b[0m\n\u001b[0m\u001b[1;32m    832\u001b[0m \u001b[0;34m\u001b[0m\u001b[0m\n\u001b[1;32m    833\u001b[0m       \u001b[0mnew_tracing_count\u001b[0m \u001b[0;34m=\u001b[0m \u001b[0mself\u001b[0m\u001b[0;34m.\u001b[0m\u001b[0mexperimental_get_tracing_count\u001b[0m\u001b[0;34m(\u001b[0m\u001b[0;34m)\u001b[0m\u001b[0;34m\u001b[0m\u001b[0;34m\u001b[0m\u001b[0m\n",
            "\u001b[0;32m/usr/local/lib/python3.10/dist-packages/tensorflow/python/eager/polymorphic_function/polymorphic_function.py\u001b[0m in \u001b[0;36m_call\u001b[0;34m(self, *args, **kwds)\u001b[0m\n\u001b[1;32m    874\u001b[0m       \u001b[0;31m# In this case we have not created variables on the first call. So we can\u001b[0m\u001b[0;34m\u001b[0m\u001b[0;34m\u001b[0m\u001b[0m\n\u001b[1;32m    875\u001b[0m       \u001b[0;31m# run the first trace but we should fail if variables are created.\u001b[0m\u001b[0;34m\u001b[0m\u001b[0;34m\u001b[0m\u001b[0m\n\u001b[0;32m--> 876\u001b[0;31m       results = tracing_compilation.call_function(\n\u001b[0m\u001b[1;32m    877\u001b[0m           \u001b[0margs\u001b[0m\u001b[0;34m,\u001b[0m \u001b[0mkwds\u001b[0m\u001b[0;34m,\u001b[0m \u001b[0mself\u001b[0m\u001b[0;34m.\u001b[0m\u001b[0m_variable_creation_config\u001b[0m\u001b[0;34m\u001b[0m\u001b[0;34m\u001b[0m\u001b[0m\n\u001b[1;32m    878\u001b[0m       )\n",
            "\u001b[0;32m/usr/local/lib/python3.10/dist-packages/tensorflow/python/eager/polymorphic_function/tracing_compilation.py\u001b[0m in \u001b[0;36mcall_function\u001b[0;34m(args, kwargs, tracing_options)\u001b[0m\n\u001b[1;32m    137\u001b[0m   \u001b[0mbound_args\u001b[0m \u001b[0;34m=\u001b[0m \u001b[0mfunction\u001b[0m\u001b[0;34m.\u001b[0m\u001b[0mfunction_type\u001b[0m\u001b[0;34m.\u001b[0m\u001b[0mbind\u001b[0m\u001b[0;34m(\u001b[0m\u001b[0;34m*\u001b[0m\u001b[0margs\u001b[0m\u001b[0;34m,\u001b[0m \u001b[0;34m**\u001b[0m\u001b[0mkwargs\u001b[0m\u001b[0;34m)\u001b[0m\u001b[0;34m\u001b[0m\u001b[0;34m\u001b[0m\u001b[0m\n\u001b[1;32m    138\u001b[0m   \u001b[0mflat_inputs\u001b[0m \u001b[0;34m=\u001b[0m \u001b[0mfunction\u001b[0m\u001b[0;34m.\u001b[0m\u001b[0mfunction_type\u001b[0m\u001b[0;34m.\u001b[0m\u001b[0munpack_inputs\u001b[0m\u001b[0;34m(\u001b[0m\u001b[0mbound_args\u001b[0m\u001b[0;34m)\u001b[0m\u001b[0;34m\u001b[0m\u001b[0;34m\u001b[0m\u001b[0m\n\u001b[0;32m--> 139\u001b[0;31m   return function._call_flat(  # pylint: disable=protected-access\n\u001b[0m\u001b[1;32m    140\u001b[0m       \u001b[0mflat_inputs\u001b[0m\u001b[0;34m,\u001b[0m \u001b[0mcaptured_inputs\u001b[0m\u001b[0;34m=\u001b[0m\u001b[0mfunction\u001b[0m\u001b[0;34m.\u001b[0m\u001b[0mcaptured_inputs\u001b[0m\u001b[0;34m\u001b[0m\u001b[0;34m\u001b[0m\u001b[0m\n\u001b[1;32m    141\u001b[0m   )\n",
            "\u001b[0;32m/usr/local/lib/python3.10/dist-packages/tensorflow/python/eager/polymorphic_function/concrete_function.py\u001b[0m in \u001b[0;36m_call_flat\u001b[0;34m(self, tensor_inputs, captured_inputs)\u001b[0m\n\u001b[1;32m   1262\u001b[0m         and executing_eagerly):\n\u001b[1;32m   1263\u001b[0m       \u001b[0;31m# No tape is watching; skip to running the function.\u001b[0m\u001b[0;34m\u001b[0m\u001b[0;34m\u001b[0m\u001b[0m\n\u001b[0;32m-> 1264\u001b[0;31m       \u001b[0;32mreturn\u001b[0m \u001b[0mself\u001b[0m\u001b[0;34m.\u001b[0m\u001b[0m_inference_function\u001b[0m\u001b[0;34m.\u001b[0m\u001b[0mflat_call\u001b[0m\u001b[0;34m(\u001b[0m\u001b[0margs\u001b[0m\u001b[0;34m)\u001b[0m\u001b[0;34m\u001b[0m\u001b[0;34m\u001b[0m\u001b[0m\n\u001b[0m\u001b[1;32m   1265\u001b[0m     forward_backward = self._select_forward_and_backward_functions(\n\u001b[1;32m   1266\u001b[0m         \u001b[0margs\u001b[0m\u001b[0;34m,\u001b[0m\u001b[0;34m\u001b[0m\u001b[0;34m\u001b[0m\u001b[0m\n",
            "\u001b[0;32m/usr/local/lib/python3.10/dist-packages/tensorflow/python/eager/polymorphic_function/atomic_function.py\u001b[0m in \u001b[0;36mflat_call\u001b[0;34m(self, args)\u001b[0m\n\u001b[1;32m    215\u001b[0m   \u001b[0;32mdef\u001b[0m \u001b[0mflat_call\u001b[0m\u001b[0;34m(\u001b[0m\u001b[0mself\u001b[0m\u001b[0;34m,\u001b[0m \u001b[0margs\u001b[0m\u001b[0;34m:\u001b[0m \u001b[0mSequence\u001b[0m\u001b[0;34m[\u001b[0m\u001b[0mcore\u001b[0m\u001b[0;34m.\u001b[0m\u001b[0mTensor\u001b[0m\u001b[0;34m]\u001b[0m\u001b[0;34m)\u001b[0m \u001b[0;34m->\u001b[0m \u001b[0mAny\u001b[0m\u001b[0;34m:\u001b[0m\u001b[0;34m\u001b[0m\u001b[0;34m\u001b[0m\u001b[0m\n\u001b[1;32m    216\u001b[0m     \u001b[0;34m\"\"\"Calls with tensor inputs and returns the structured output.\"\"\"\u001b[0m\u001b[0;34m\u001b[0m\u001b[0;34m\u001b[0m\u001b[0m\n\u001b[0;32m--> 217\u001b[0;31m     \u001b[0mflat_outputs\u001b[0m \u001b[0;34m=\u001b[0m \u001b[0mself\u001b[0m\u001b[0;34m(\u001b[0m\u001b[0;34m*\u001b[0m\u001b[0margs\u001b[0m\u001b[0;34m)\u001b[0m\u001b[0;34m\u001b[0m\u001b[0;34m\u001b[0m\u001b[0m\n\u001b[0m\u001b[1;32m    218\u001b[0m     \u001b[0;32mreturn\u001b[0m \u001b[0mself\u001b[0m\u001b[0;34m.\u001b[0m\u001b[0mfunction_type\u001b[0m\u001b[0;34m.\u001b[0m\u001b[0mpack_output\u001b[0m\u001b[0;34m(\u001b[0m\u001b[0mflat_outputs\u001b[0m\u001b[0;34m)\u001b[0m\u001b[0;34m\u001b[0m\u001b[0;34m\u001b[0m\u001b[0m\n\u001b[1;32m    219\u001b[0m \u001b[0;34m\u001b[0m\u001b[0m\n",
            "\u001b[0;32m/usr/local/lib/python3.10/dist-packages/tensorflow/python/eager/polymorphic_function/atomic_function.py\u001b[0m in \u001b[0;36m__call__\u001b[0;34m(self, *args)\u001b[0m\n\u001b[1;32m    250\u001b[0m         \u001b[0;32mwith\u001b[0m \u001b[0mrecord\u001b[0m\u001b[0;34m.\u001b[0m\u001b[0mstop_recording\u001b[0m\u001b[0;34m(\u001b[0m\u001b[0;34m)\u001b[0m\u001b[0;34m:\u001b[0m\u001b[0;34m\u001b[0m\u001b[0;34m\u001b[0m\u001b[0m\n\u001b[1;32m    251\u001b[0m           \u001b[0;32mif\u001b[0m \u001b[0mself\u001b[0m\u001b[0;34m.\u001b[0m\u001b[0m_bound_context\u001b[0m\u001b[0;34m.\u001b[0m\u001b[0mexecuting_eagerly\u001b[0m\u001b[0;34m(\u001b[0m\u001b[0;34m)\u001b[0m\u001b[0;34m:\u001b[0m\u001b[0;34m\u001b[0m\u001b[0;34m\u001b[0m\u001b[0m\n\u001b[0;32m--> 252\u001b[0;31m             outputs = self._bound_context.call_function(\n\u001b[0m\u001b[1;32m    253\u001b[0m                 \u001b[0mself\u001b[0m\u001b[0;34m.\u001b[0m\u001b[0mname\u001b[0m\u001b[0;34m,\u001b[0m\u001b[0;34m\u001b[0m\u001b[0;34m\u001b[0m\u001b[0m\n\u001b[1;32m    254\u001b[0m                 \u001b[0mlist\u001b[0m\u001b[0;34m(\u001b[0m\u001b[0margs\u001b[0m\u001b[0;34m)\u001b[0m\u001b[0;34m,\u001b[0m\u001b[0;34m\u001b[0m\u001b[0;34m\u001b[0m\u001b[0m\n",
            "\u001b[0;32m/usr/local/lib/python3.10/dist-packages/tensorflow/python/eager/context.py\u001b[0m in \u001b[0;36mcall_function\u001b[0;34m(self, name, tensor_inputs, num_outputs)\u001b[0m\n\u001b[1;32m   1477\u001b[0m     \u001b[0mcancellation_context\u001b[0m \u001b[0;34m=\u001b[0m \u001b[0mcancellation\u001b[0m\u001b[0;34m.\u001b[0m\u001b[0mcontext\u001b[0m\u001b[0;34m(\u001b[0m\u001b[0;34m)\u001b[0m\u001b[0;34m\u001b[0m\u001b[0;34m\u001b[0m\u001b[0m\n\u001b[1;32m   1478\u001b[0m     \u001b[0;32mif\u001b[0m \u001b[0mcancellation_context\u001b[0m \u001b[0;32mis\u001b[0m \u001b[0;32mNone\u001b[0m\u001b[0;34m:\u001b[0m\u001b[0;34m\u001b[0m\u001b[0;34m\u001b[0m\u001b[0m\n\u001b[0;32m-> 1479\u001b[0;31m       outputs = execute.execute(\n\u001b[0m\u001b[1;32m   1480\u001b[0m           \u001b[0mname\u001b[0m\u001b[0;34m.\u001b[0m\u001b[0mdecode\u001b[0m\u001b[0;34m(\u001b[0m\u001b[0;34m\"utf-8\"\u001b[0m\u001b[0;34m)\u001b[0m\u001b[0;34m,\u001b[0m\u001b[0;34m\u001b[0m\u001b[0;34m\u001b[0m\u001b[0m\n\u001b[1;32m   1481\u001b[0m           \u001b[0mnum_outputs\u001b[0m\u001b[0;34m=\u001b[0m\u001b[0mnum_outputs\u001b[0m\u001b[0;34m,\u001b[0m\u001b[0;34m\u001b[0m\u001b[0;34m\u001b[0m\u001b[0m\n",
            "\u001b[0;32m/usr/local/lib/python3.10/dist-packages/tensorflow/python/eager/execute.py\u001b[0m in \u001b[0;36mquick_execute\u001b[0;34m(op_name, num_outputs, inputs, attrs, ctx, name)\u001b[0m\n\u001b[1;32m     58\u001b[0m         \u001b[0;32mfor\u001b[0m \u001b[0mt\u001b[0m \u001b[0;32min\u001b[0m \u001b[0minputs\u001b[0m\u001b[0;34m\u001b[0m\u001b[0;34m\u001b[0m\u001b[0m\n\u001b[1;32m     59\u001b[0m     ]\n\u001b[0;32m---> 60\u001b[0;31m     tensors = pywrap_tfe.TFE_Py_Execute(ctx._handle, device_name, op_name,\n\u001b[0m\u001b[1;32m     61\u001b[0m                                         inputs, attrs, num_outputs)\n\u001b[1;32m     62\u001b[0m   \u001b[0;32mexcept\u001b[0m \u001b[0mcore\u001b[0m\u001b[0;34m.\u001b[0m\u001b[0m_NotOkStatusException\u001b[0m \u001b[0;32mas\u001b[0m \u001b[0me\u001b[0m\u001b[0;34m:\u001b[0m\u001b[0;34m\u001b[0m\u001b[0;34m\u001b[0m\u001b[0m\n",
            "\u001b[0;31mKeyboardInterrupt\u001b[0m: "
          ]
        }
      ]
    },
    {
      "cell_type": "code",
      "source": [
        "model.save(\"/content/drive/MyDrive/House_price.keras\")"
      ],
      "metadata": {
        "id": "QfIRXua9d0Ws"
      },
      "execution_count": null,
      "outputs": []
    },
    {
      "cell_type": "markdown",
      "source": [
        "# Inference"
      ],
      "metadata": {
        "id": "CNnmOV6kA0ZA"
      }
    },
    {
      "cell_type": "code",
      "source": [
        "model= tf.keras.models.losd_model(\"/content/drive/MyDrive/House_price.keras\")"
      ],
      "metadata": {
        "id": "RGNktJMJeR4W"
      },
      "execution_count": null,
      "outputs": []
    },
    {
      "cell_type": "code",
      "source": [
        "test_images_list = []\n",
        "test_images_dir = \"/content/test\"\n",
        "for image in os.listdir(test_images_dir):\n",
        "  img = cv2.imread(\"/content/test/\" + image)\n",
        "  img = cv2.cvtColor(img , cv2.COLOR_BGR2RGB)\n",
        "  test_images_list.append(img)\n"
      ],
      "metadata": {
        "id": "5u4B3C9g9ixD"
      },
      "execution_count": null,
      "outputs": []
    },
    {
      "cell_type": "code",
      "source": [
        "df_images = pd.Series(test_images_list, name=\"Images\")\n",
        "df_images"
      ],
      "metadata": {
        "id": "MUD9_IQNADwL"
      },
      "execution_count": null,
      "outputs": []
    },
    {
      "cell_type": "code",
      "source": [
        "images=[]\n",
        "for i in range(1) :\n",
        "  basePath = os.path.sep.join([test_images_dir, \"{}_*\".format(i + 1)])\n",
        "  print(basePath)\n",
        "  housePaths = sorted(list(glob.glob(basePath)))\n",
        "  print(housePaths)\n",
        "  inputImages = []\n",
        "  outputImage = np.zeros((200, 200, 3), dtype=\"uint8\")\n",
        "\n",
        "  for housePath in housePaths:\n",
        "    image = cv2.imread(housePath)\n",
        "    image = cv2.resize(image, (100, 100))\n",
        "    image = cv2.cvtColor(image , cv2.COLOR_BGR2RGB)\n",
        "    inputImages.append(image)\n",
        "\n",
        "  outputImage[0:100, 0:100] = inputImages[0]\n",
        "  outputImage[0:100, 100:200] = inputImages[1]\n",
        "  outputImage[100:200, 100:200] = inputImages[2]\n",
        "  outputImage[100:200, 0:100] = inputImages[3]\n",
        "  images.append(outputImage)\n",
        "\n",
        "  images = np.array(images)"
      ],
      "metadata": {
        "id": "codrHSbVJZr8"
      },
      "execution_count": null,
      "outputs": []
    },
    {
      "cell_type": "code",
      "source": [
        "print(housePaths[0])\n",
        "print(housePaths[1])\n",
        "print(housePaths[2])\n",
        "print(housePaths[3])\n"
      ],
      "metadata": {
        "id": "frbUT0wYAC6Z"
      },
      "execution_count": null,
      "outputs": []
    },
    {
      "cell_type": "code",
      "source": [
        "plt.imshow(images[0])"
      ],
      "metadata": {
        "id": "bBbxH6YlDaoq"
      },
      "execution_count": null,
      "outputs": []
    },
    {
      "cell_type": "code",
      "source": [
        "new_image = cv2.resize(images[0] , (200,200))\n",
        "plt.imshow(new_image)\n",
        "new_image = new_image / 255.0\n",
        "new_image = np.reshape(new_image, [1, 200, 200, 3]) # new_iamge.reshape(1,299,299,3)\n",
        "\n",
        "output = model.predict(new_image)\n",
        "print('predicted Price : ' , output[0][0])"
      ],
      "metadata": {
        "id": "K7VQbYCwAzg6"
      },
      "execution_count": null,
      "outputs": []
    }
  ]
}